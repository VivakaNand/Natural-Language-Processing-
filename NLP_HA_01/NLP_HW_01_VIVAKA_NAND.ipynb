{
 "cells": [
  {
   "cell_type": "markdown",
   "id": "tuc_ZDCsF0Vm",
   "metadata": {
    "id": "tuc_ZDCsF0Vm"
   },
   "source": [
    "## Homework Assignment - 01\n",
    "\n",
    "### **VIVAKA NAND**\n",
    "\n",
    "### Text classification\n",
    "\n",
    "Aim: build several classification models and compare quality\n",
    "\n",
    "Dataset: https://www.kaggle.com/competitions/nlp-getting-started/data"
   ]
  },
  {
   "cell_type": "markdown",
   "id": "Y8pj5e0CTrvy",
   "metadata": {
    "id": "Y8pj5e0CTrvy"
   },
   "source": [
    "# Task 1:\tBuild TF-IDF, BoW models:"
   ]
  },
  {
   "cell_type": "markdown",
   "id": "vag3iamoTrv1",
   "metadata": {
    "id": "vag3iamoTrv1"
   },
   "source": [
    "### Importing Necessary Libraries\n",
    "I loaded the necessary machine learning, evaluation, and text preprocessing libraries into this code.  Lemmatization, stopword elimination, and tokenization are handled by NLTK, and feature extraction, model training, and performance matrix are handled by scikit-learn.  The required NLTK resources for text processing are also downloaded using NLTK."
   ]
  },
  {
   "cell_type": "code",
   "execution_count": 4,
   "id": "Rjt3UgFIHYf3",
   "metadata": {
    "colab": {
     "base_uri": "https://localhost:8080/"
    },
    "id": "Rjt3UgFIHYf3",
    "outputId": "62a655bb-ce82-4583-b2f6-72c8dbce889f"
   },
   "outputs": [
    {
     "name": "stderr",
     "output_type": "stream",
     "text": [
      "[nltk_data] Downloading package punkt to /root/nltk_data...\n",
      "[nltk_data]   Package punkt is already up-to-date!\n",
      "[nltk_data] Downloading package stopwords to /root/nltk_data...\n",
      "[nltk_data]   Package stopwords is already up-to-date!\n",
      "[nltk_data] Downloading package wordnet to /root/nltk_data...\n",
      "[nltk_data]   Package wordnet is already up-to-date!\n",
      "[nltk_data] Downloading package punkt_tab to /root/nltk_data...\n",
      "[nltk_data]   Package punkt_tab is already up-to-date!\n"
     ]
    },
    {
     "data": {
      "text/plain": [
       "True"
      ]
     },
     "execution_count": 4,
     "metadata": {},
     "output_type": "execute_result"
    }
   ],
   "source": [
    "import re\n",
    "import pandas as pd\n",
    "import numpy as np\n",
    "import nltk\n",
    "from nltk.tokenize import word_tokenize\n",
    "from nltk.corpus import stopwords\n",
    "from nltk.stem import WordNetLemmatizer\n",
    "from sklearn.feature_extraction.text import CountVectorizer, TfidfVectorizer\n",
    "from sklearn.model_selection import train_test_split, GridSearchCV, RandomizedSearchCV\n",
    "from sklearn.linear_model import LogisticRegression\n",
    "from sklearn.svm import SVC\n",
    "from sklearn.metrics import accuracy_score, classification_report, confusion_matrix\n",
    "import matplotlib.pyplot as plt\n",
    "import seaborn as sns\n",
    "\n",
    "nltk.download(['punkt', 'stopwords', 'wordnet', 'punkt_tab'])"
   ]
  },
  {
   "cell_type": "markdown",
   "id": "VrzoLge-Trv3",
   "metadata": {
    "id": "VrzoLge-Trv3"
   },
   "source": [
    "### Loading Dataset"
   ]
  },
  {
   "cell_type": "code",
   "execution_count": 2,
   "id": "0OZ7OE3dTrv4",
   "metadata": {
    "colab": {
     "base_uri": "https://localhost:8080/",
     "height": 206
    },
    "id": "0OZ7OE3dTrv4",
    "outputId": "c4e208ac-2222-4efe-c966-64d64b03a118"
   },
   "outputs": [
    {
     "data": {
      "application/vnd.google.colaboratory.intrinsic+json": {
       "summary": "{\n  \"name\": \"df\",\n  \"rows\": 7613,\n  \"fields\": [\n    {\n      \"column\": \"id\",\n      \"properties\": {\n        \"dtype\": \"number\",\n        \"std\": 3137,\n        \"min\": 1,\n        \"max\": 10873,\n        \"num_unique_values\": 7613,\n        \"samples\": [\n          3796,\n          3185,\n          7769\n        ],\n        \"semantic_type\": \"\",\n        \"description\": \"\"\n      }\n    },\n    {\n      \"column\": \"keyword\",\n      \"properties\": {\n        \"dtype\": \"category\",\n        \"num_unique_values\": 221,\n        \"samples\": [\n          \"injury\",\n          \"nuclear%20reactor\",\n          \"engulfed\"\n        ],\n        \"semantic_type\": \"\",\n        \"description\": \"\"\n      }\n    },\n    {\n      \"column\": \"location\",\n      \"properties\": {\n        \"dtype\": \"category\",\n        \"num_unique_values\": 3341,\n        \"samples\": [\n          \"Oklahoma\",\n          \"Starling City\",\n          \"Trinidad and Tobago\"\n        ],\n        \"semantic_type\": \"\",\n        \"description\": \"\"\n      }\n    },\n    {\n      \"column\": \"text\",\n      \"properties\": {\n        \"dtype\": \"string\",\n        \"num_unique_values\": 7503,\n        \"samples\": [\n          \"Three Homes Demolished in Unrecognized Arab Village - International Middle East Media Center http://t.co/ik8m4Yi9T4\",\n          \"Reid Lake fire prompts campground evacuation order http://t.co/jBODKM6rBU\",\n          \"FAAN orders evacuation of abandoned aircraft at MMA http://t.co/dEvYbnVXGQ via @todayng\"\n        ],\n        \"semantic_type\": \"\",\n        \"description\": \"\"\n      }\n    },\n    {\n      \"column\": \"target\",\n      \"properties\": {\n        \"dtype\": \"number\",\n        \"std\": 0,\n        \"min\": 0,\n        \"max\": 1,\n        \"num_unique_values\": 2,\n        \"samples\": [\n          0,\n          1\n        ],\n        \"semantic_type\": \"\",\n        \"description\": \"\"\n      }\n    }\n  ]\n}",
       "type": "dataframe",
       "variable_name": "df"
      },
      "text/html": [
       "\n",
       "  <div id=\"df-f1652a35-1e58-4044-8c1f-5bacf60e9538\" class=\"colab-df-container\">\n",
       "    <div>\n",
       "<style scoped>\n",
       "    .dataframe tbody tr th:only-of-type {\n",
       "        vertical-align: middle;\n",
       "    }\n",
       "\n",
       "    .dataframe tbody tr th {\n",
       "        vertical-align: top;\n",
       "    }\n",
       "\n",
       "    .dataframe thead th {\n",
       "        text-align: right;\n",
       "    }\n",
       "</style>\n",
       "<table border=\"1\" class=\"dataframe\">\n",
       "  <thead>\n",
       "    <tr style=\"text-align: right;\">\n",
       "      <th></th>\n",
       "      <th>id</th>\n",
       "      <th>keyword</th>\n",
       "      <th>location</th>\n",
       "      <th>text</th>\n",
       "      <th>target</th>\n",
       "    </tr>\n",
       "  </thead>\n",
       "  <tbody>\n",
       "    <tr>\n",
       "      <th>0</th>\n",
       "      <td>1</td>\n",
       "      <td>NaN</td>\n",
       "      <td>NaN</td>\n",
       "      <td>Our Deeds are the Reason of this #earthquake M...</td>\n",
       "      <td>1</td>\n",
       "    </tr>\n",
       "    <tr>\n",
       "      <th>1</th>\n",
       "      <td>4</td>\n",
       "      <td>NaN</td>\n",
       "      <td>NaN</td>\n",
       "      <td>Forest fire near La Ronge Sask. Canada</td>\n",
       "      <td>1</td>\n",
       "    </tr>\n",
       "    <tr>\n",
       "      <th>2</th>\n",
       "      <td>5</td>\n",
       "      <td>NaN</td>\n",
       "      <td>NaN</td>\n",
       "      <td>All residents asked to 'shelter in place' are ...</td>\n",
       "      <td>1</td>\n",
       "    </tr>\n",
       "    <tr>\n",
       "      <th>3</th>\n",
       "      <td>6</td>\n",
       "      <td>NaN</td>\n",
       "      <td>NaN</td>\n",
       "      <td>13,000 people receive #wildfires evacuation or...</td>\n",
       "      <td>1</td>\n",
       "    </tr>\n",
       "    <tr>\n",
       "      <th>4</th>\n",
       "      <td>7</td>\n",
       "      <td>NaN</td>\n",
       "      <td>NaN</td>\n",
       "      <td>Just got sent this photo from Ruby #Alaska as ...</td>\n",
       "      <td>1</td>\n",
       "    </tr>\n",
       "  </tbody>\n",
       "</table>\n",
       "</div>\n",
       "    <div class=\"colab-df-buttons\">\n",
       "\n",
       "  <div class=\"colab-df-container\">\n",
       "    <button class=\"colab-df-convert\" onclick=\"convertToInteractive('df-f1652a35-1e58-4044-8c1f-5bacf60e9538')\"\n",
       "            title=\"Convert this dataframe to an interactive table.\"\n",
       "            style=\"display:none;\">\n",
       "\n",
       "  <svg xmlns=\"http://www.w3.org/2000/svg\" height=\"24px\" viewBox=\"0 -960 960 960\">\n",
       "    <path d=\"M120-120v-720h720v720H120Zm60-500h600v-160H180v160Zm220 220h160v-160H400v160Zm0 220h160v-160H400v160ZM180-400h160v-160H180v160Zm440 0h160v-160H620v160ZM180-180h160v-160H180v160Zm440 0h160v-160H620v160Z\"/>\n",
       "  </svg>\n",
       "    </button>\n",
       "\n",
       "  <style>\n",
       "    .colab-df-container {\n",
       "      display:flex;\n",
       "      gap: 12px;\n",
       "    }\n",
       "\n",
       "    .colab-df-convert {\n",
       "      background-color: #E8F0FE;\n",
       "      border: none;\n",
       "      border-radius: 50%;\n",
       "      cursor: pointer;\n",
       "      display: none;\n",
       "      fill: #1967D2;\n",
       "      height: 32px;\n",
       "      padding: 0 0 0 0;\n",
       "      width: 32px;\n",
       "    }\n",
       "\n",
       "    .colab-df-convert:hover {\n",
       "      background-color: #E2EBFA;\n",
       "      box-shadow: 0px 1px 2px rgba(60, 64, 67, 0.3), 0px 1px 3px 1px rgba(60, 64, 67, 0.15);\n",
       "      fill: #174EA6;\n",
       "    }\n",
       "\n",
       "    .colab-df-buttons div {\n",
       "      margin-bottom: 4px;\n",
       "    }\n",
       "\n",
       "    [theme=dark] .colab-df-convert {\n",
       "      background-color: #3B4455;\n",
       "      fill: #D2E3FC;\n",
       "    }\n",
       "\n",
       "    [theme=dark] .colab-df-convert:hover {\n",
       "      background-color: #434B5C;\n",
       "      box-shadow: 0px 1px 3px 1px rgba(0, 0, 0, 0.15);\n",
       "      filter: drop-shadow(0px 1px 2px rgba(0, 0, 0, 0.3));\n",
       "      fill: #FFFFFF;\n",
       "    }\n",
       "  </style>\n",
       "\n",
       "    <script>\n",
       "      const buttonEl =\n",
       "        document.querySelector('#df-f1652a35-1e58-4044-8c1f-5bacf60e9538 button.colab-df-convert');\n",
       "      buttonEl.style.display =\n",
       "        google.colab.kernel.accessAllowed ? 'block' : 'none';\n",
       "\n",
       "      async function convertToInteractive(key) {\n",
       "        const element = document.querySelector('#df-f1652a35-1e58-4044-8c1f-5bacf60e9538');\n",
       "        const dataTable =\n",
       "          await google.colab.kernel.invokeFunction('convertToInteractive',\n",
       "                                                    [key], {});\n",
       "        if (!dataTable) return;\n",
       "\n",
       "        const docLinkHtml = 'Like what you see? Visit the ' +\n",
       "          '<a target=\"_blank\" href=https://colab.research.google.com/notebooks/data_table.ipynb>data table notebook</a>'\n",
       "          + ' to learn more about interactive tables.';\n",
       "        element.innerHTML = '';\n",
       "        dataTable['output_type'] = 'display_data';\n",
       "        await google.colab.output.renderOutput(dataTable, element);\n",
       "        const docLink = document.createElement('div');\n",
       "        docLink.innerHTML = docLinkHtml;\n",
       "        element.appendChild(docLink);\n",
       "      }\n",
       "    </script>\n",
       "  </div>\n",
       "\n",
       "\n",
       "<div id=\"df-34d3016a-fc90-426f-89ad-63d6d50b3d14\">\n",
       "  <button class=\"colab-df-quickchart\" onclick=\"quickchart('df-34d3016a-fc90-426f-89ad-63d6d50b3d14')\"\n",
       "            title=\"Suggest charts\"\n",
       "            style=\"display:none;\">\n",
       "\n",
       "<svg xmlns=\"http://www.w3.org/2000/svg\" height=\"24px\"viewBox=\"0 0 24 24\"\n",
       "     width=\"24px\">\n",
       "    <g>\n",
       "        <path d=\"M19 3H5c-1.1 0-2 .9-2 2v14c0 1.1.9 2 2 2h14c1.1 0 2-.9 2-2V5c0-1.1-.9-2-2-2zM9 17H7v-7h2v7zm4 0h-2V7h2v10zm4 0h-2v-4h2v4z\"/>\n",
       "    </g>\n",
       "</svg>\n",
       "  </button>\n",
       "\n",
       "<style>\n",
       "  .colab-df-quickchart {\n",
       "      --bg-color: #E8F0FE;\n",
       "      --fill-color: #1967D2;\n",
       "      --hover-bg-color: #E2EBFA;\n",
       "      --hover-fill-color: #174EA6;\n",
       "      --disabled-fill-color: #AAA;\n",
       "      --disabled-bg-color: #DDD;\n",
       "  }\n",
       "\n",
       "  [theme=dark] .colab-df-quickchart {\n",
       "      --bg-color: #3B4455;\n",
       "      --fill-color: #D2E3FC;\n",
       "      --hover-bg-color: #434B5C;\n",
       "      --hover-fill-color: #FFFFFF;\n",
       "      --disabled-bg-color: #3B4455;\n",
       "      --disabled-fill-color: #666;\n",
       "  }\n",
       "\n",
       "  .colab-df-quickchart {\n",
       "    background-color: var(--bg-color);\n",
       "    border: none;\n",
       "    border-radius: 50%;\n",
       "    cursor: pointer;\n",
       "    display: none;\n",
       "    fill: var(--fill-color);\n",
       "    height: 32px;\n",
       "    padding: 0;\n",
       "    width: 32px;\n",
       "  }\n",
       "\n",
       "  .colab-df-quickchart:hover {\n",
       "    background-color: var(--hover-bg-color);\n",
       "    box-shadow: 0 1px 2px rgba(60, 64, 67, 0.3), 0 1px 3px 1px rgba(60, 64, 67, 0.15);\n",
       "    fill: var(--button-hover-fill-color);\n",
       "  }\n",
       "\n",
       "  .colab-df-quickchart-complete:disabled,\n",
       "  .colab-df-quickchart-complete:disabled:hover {\n",
       "    background-color: var(--disabled-bg-color);\n",
       "    fill: var(--disabled-fill-color);\n",
       "    box-shadow: none;\n",
       "  }\n",
       "\n",
       "  .colab-df-spinner {\n",
       "    border: 2px solid var(--fill-color);\n",
       "    border-color: transparent;\n",
       "    border-bottom-color: var(--fill-color);\n",
       "    animation:\n",
       "      spin 1s steps(1) infinite;\n",
       "  }\n",
       "\n",
       "  @keyframes spin {\n",
       "    0% {\n",
       "      border-color: transparent;\n",
       "      border-bottom-color: var(--fill-color);\n",
       "      border-left-color: var(--fill-color);\n",
       "    }\n",
       "    20% {\n",
       "      border-color: transparent;\n",
       "      border-left-color: var(--fill-color);\n",
       "      border-top-color: var(--fill-color);\n",
       "    }\n",
       "    30% {\n",
       "      border-color: transparent;\n",
       "      border-left-color: var(--fill-color);\n",
       "      border-top-color: var(--fill-color);\n",
       "      border-right-color: var(--fill-color);\n",
       "    }\n",
       "    40% {\n",
       "      border-color: transparent;\n",
       "      border-right-color: var(--fill-color);\n",
       "      border-top-color: var(--fill-color);\n",
       "    }\n",
       "    60% {\n",
       "      border-color: transparent;\n",
       "      border-right-color: var(--fill-color);\n",
       "    }\n",
       "    80% {\n",
       "      border-color: transparent;\n",
       "      border-right-color: var(--fill-color);\n",
       "      border-bottom-color: var(--fill-color);\n",
       "    }\n",
       "    90% {\n",
       "      border-color: transparent;\n",
       "      border-bottom-color: var(--fill-color);\n",
       "    }\n",
       "  }\n",
       "</style>\n",
       "\n",
       "  <script>\n",
       "    async function quickchart(key) {\n",
       "      const quickchartButtonEl =\n",
       "        document.querySelector('#' + key + ' button');\n",
       "      quickchartButtonEl.disabled = true;  // To prevent multiple clicks.\n",
       "      quickchartButtonEl.classList.add('colab-df-spinner');\n",
       "      try {\n",
       "        const charts = await google.colab.kernel.invokeFunction(\n",
       "            'suggestCharts', [key], {});\n",
       "      } catch (error) {\n",
       "        console.error('Error during call to suggestCharts:', error);\n",
       "      }\n",
       "      quickchartButtonEl.classList.remove('colab-df-spinner');\n",
       "      quickchartButtonEl.classList.add('colab-df-quickchart-complete');\n",
       "    }\n",
       "    (() => {\n",
       "      let quickchartButtonEl =\n",
       "        document.querySelector('#df-34d3016a-fc90-426f-89ad-63d6d50b3d14 button');\n",
       "      quickchartButtonEl.style.display =\n",
       "        google.colab.kernel.accessAllowed ? 'block' : 'none';\n",
       "    })();\n",
       "  </script>\n",
       "</div>\n",
       "\n",
       "    </div>\n",
       "  </div>\n"
      ],
      "text/plain": [
       "   id keyword location                                               text  \\\n",
       "0   1     NaN      NaN  Our Deeds are the Reason of this #earthquake M...   \n",
       "1   4     NaN      NaN             Forest fire near La Ronge Sask. Canada   \n",
       "2   5     NaN      NaN  All residents asked to 'shelter in place' are ...   \n",
       "3   6     NaN      NaN  13,000 people receive #wildfires evacuation or...   \n",
       "4   7     NaN      NaN  Just got sent this photo from Ruby #Alaska as ...   \n",
       "\n",
       "   target  \n",
       "0       1  \n",
       "1       1  \n",
       "2       1  \n",
       "3       1  \n",
       "4       1  "
      ]
     },
     "execution_count": 2,
     "metadata": {},
     "output_type": "execute_result"
    }
   ],
   "source": [
    "# Here loaded the dataset\n",
    "df = pd.read_csv(\"train.csv\")\n",
    "df.head()"
   ]
  },
  {
   "cell_type": "markdown",
   "id": "y7-mePTrQz_j",
   "metadata": {
    "id": "y7-mePTrQz_j"
   },
   "source": [
    "In this dataset there are five columns these are target, text, location, keyword, and id.  Each entry is uniquely identified by the id column.  The given rows have missing values (NaN) in the location and keyword columns.  The target column shows if the tweet is about an actual disaster, whereas the text column contains tweet content that describes numerous disaster-related occurrences (1)."
   ]
  },
  {
   "cell_type": "markdown",
   "id": "82530195",
   "metadata": {
    "id": "82530195"
   },
   "source": [
    "### Summary of Dataset"
   ]
  },
  {
   "cell_type": "code",
   "execution_count": 3,
   "id": "n2kIZ46zTrv6",
   "metadata": {
    "colab": {
     "base_uri": "https://localhost:8080/"
    },
    "id": "n2kIZ46zTrv6",
    "outputId": "28dee25e-6372-457e-f960-0d24828fef3b"
   },
   "outputs": [
    {
     "name": "stdout",
     "output_type": "stream",
     "text": [
      "<class 'pandas.core.frame.DataFrame'>\n",
      "RangeIndex: 7613 entries, 0 to 7612\n",
      "Data columns (total 5 columns):\n",
      " #   Column    Non-Null Count  Dtype \n",
      "---  ------    --------------  ----- \n",
      " 0   id        7613 non-null   int64 \n",
      " 1   keyword   7552 non-null   object\n",
      " 2   location  5080 non-null   object\n",
      " 3   text      7613 non-null   object\n",
      " 4   target    7613 non-null   int64 \n",
      "dtypes: int64(2), object(3)\n",
      "memory usage: 297.5+ KB\n"
     ]
    }
   ],
   "source": [
    "#Here we use info method which summarizes DataFrame structure\n",
    "df.info()"
   ]
  },
  {
   "cell_type": "markdown",
   "id": "rO0NdkzVPagH",
   "metadata": {
    "id": "rO0NdkzVPagH"
   },
   "source": [
    "The data includes 5 columns (id, keyword, location, text, and target) and 7,613 rows.  The column keyword, location, and text are of object type but the id column and target column are of type int64.  Although 5,080 non-null values exist in the location column as there are 2,533 missing entries, there are 7,552 non-null values in the keyword column as it represents 61 missing values. There are no missing values in the column of text; all of it is complete.  The dataset uses around 297.5 KB of memory space."
   ]
  },
  {
   "cell_type": "markdown",
   "id": "UivEem9wTrv7",
   "metadata": {
    "id": "UivEem9wTrv7"
   },
   "source": [
    "## **Preprocess data (tokenization, lemmatization/stemming, …). Describe why did you choose particular tokenizer/stemmer, etc.**"
   ]
  },
  {
   "cell_type": "markdown",
   "id": "KQCDrKk7Trv8",
   "metadata": {
    "id": "KQCDrKk7Trv8"
   },
   "source": [
    "To preprocess text data, we will eliminates stopwords, special characters, URLs, mentions, lowercases, tokenizes, and applies lemmatization.   \n",
    "\n",
    "- **Selection of Lemmatizer, Stopwords, and Tokenizer:**  \n",
    " 1. **NLTK's `word_tokenize`**: Select it due to its ability to reliably separate text into meaningful words while efficiently managing punctuation.  \n",
    " 2. **NLTK's Stopwords**: it eliminates unnecessary predetermined list of frequently used English stopwords, to enhance the model performance.  \n",
    "\n",
    " 3. **WordNetLemmatizer**: Lemmatization preserves linguistic correctness and increases the accuracy of NLP models by returning meaningful root words (e.g., \"running\" → \"run\"), in contrast to stemming."
   ]
  },
  {
   "cell_type": "code",
   "execution_count": 4,
   "id": "PVmOO-uWHiXZ",
   "metadata": {
    "id": "PVmOO-uWHiXZ"
   },
   "outputs": [],
   "source": [
    "word_lemmatizer = WordNetLemmatizer()\n",
    "stop_words = set(stopwords.words('english'))\n",
    "\n",
    "def preprocessing(tweets):\n",
    "    tweets = tweets.lower()  # It convert the tweets to lowercase\n",
    "    tweets = re.sub(r\"http\\S+|www\\S+\", \"\", tweets)  # it removes the URLs\n",
    "    tweets = re.sub(r\"@\\w+\", \"\", tweets)  # It removes the mentions (@username)\n",
    "    tweets = re.sub(r\"#(\\w+)\", r\"\\1\", tweets)  # It keep hash-tags words (#flood → flood)\n",
    "    tweets = re.sub(r\"[^\\w\\s]\", \"\", tweets)  # It removes special characters except words and spaces\n",
    "\n",
    "    tokens_ = word_tokenize(tweets)  # It tokenize the text\n",
    "    tokens_ = [word for word in tokens_ if word not in stop_words]  # It removes stopwords\n",
    "    tokens_ = [word_lemmatizer.lemmatize(word) for word in tokens_]  # Lemmatization\n",
    "\n",
    "    return \" \".join(tokens_)  # It convert back to text and return\n",
    "\n",
    "# Apply preprocessing to the text column\n",
    "df['clean_text'] = df['text'].apply(preprocessing)\n",
    "\n",
    "# Save preprocessed(cleaned) text data to csv file\n",
    "df.to_csv(\"train_cleaned.csv\", index=False)"
   ]
  },
  {
   "cell_type": "code",
   "execution_count": 5,
   "id": "fXwv9ygjTrv-",
   "metadata": {
    "colab": {
     "base_uri": "https://localhost:8080/",
     "height": 990
    },
    "id": "fXwv9ygjTrv-",
    "outputId": "de8c6288-a379-4fd2-9bae-79151a9a7c7c"
   },
   "outputs": [
    {
     "data": {
      "application/vnd.google.colaboratory.intrinsic+json": {
       "summary": "{\n  \"name\": \"df[['text', 'clean_text']]\",\n  \"rows\": 30,\n  \"fields\": [\n    {\n      \"column\": \"text\",\n      \"properties\": {\n        \"dtype\": \"string\",\n        \"num_unique_values\": 30,\n        \"samples\": [\n          \"Love my girlfriend\",\n          \"What's up man?\",\n          \"What a wonderful day!\"\n        ],\n        \"semantic_type\": \"\",\n        \"description\": \"\"\n      }\n    },\n    {\n      \"column\": \"clean_text\",\n      \"properties\": {\n        \"dtype\": \"string\",\n        \"num_unique_values\": 30,\n        \"samples\": [\n          \"love girlfriend\",\n          \"whats man\",\n          \"wonderful day\"\n        ],\n        \"semantic_type\": \"\",\n        \"description\": \"\"\n      }\n    }\n  ]\n}",
       "type": "dataframe"
      },
      "text/html": [
       "\n",
       "  <div id=\"df-745fd98e-4205-4cf3-99f6-9a28d53e00c1\" class=\"colab-df-container\">\n",
       "    <div>\n",
       "<style scoped>\n",
       "    .dataframe tbody tr th:only-of-type {\n",
       "        vertical-align: middle;\n",
       "    }\n",
       "\n",
       "    .dataframe tbody tr th {\n",
       "        vertical-align: top;\n",
       "    }\n",
       "\n",
       "    .dataframe thead th {\n",
       "        text-align: right;\n",
       "    }\n",
       "</style>\n",
       "<table border=\"1\" class=\"dataframe\">\n",
       "  <thead>\n",
       "    <tr style=\"text-align: right;\">\n",
       "      <th></th>\n",
       "      <th>text</th>\n",
       "      <th>clean_text</th>\n",
       "    </tr>\n",
       "  </thead>\n",
       "  <tbody>\n",
       "    <tr>\n",
       "      <th>0</th>\n",
       "      <td>Our Deeds are the Reason of this #earthquake M...</td>\n",
       "      <td>deed reason earthquake may allah forgive u</td>\n",
       "    </tr>\n",
       "    <tr>\n",
       "      <th>1</th>\n",
       "      <td>Forest fire near La Ronge Sask. Canada</td>\n",
       "      <td>forest fire near la ronge sask canada</td>\n",
       "    </tr>\n",
       "    <tr>\n",
       "      <th>2</th>\n",
       "      <td>All residents asked to 'shelter in place' are ...</td>\n",
       "      <td>resident asked shelter place notified officer ...</td>\n",
       "    </tr>\n",
       "    <tr>\n",
       "      <th>3</th>\n",
       "      <td>13,000 people receive #wildfires evacuation or...</td>\n",
       "      <td>13000 people receive wildfire evacuation order...</td>\n",
       "    </tr>\n",
       "    <tr>\n",
       "      <th>4</th>\n",
       "      <td>Just got sent this photo from Ruby #Alaska as ...</td>\n",
       "      <td>got sent photo ruby alaska smoke wildfire pour...</td>\n",
       "    </tr>\n",
       "    <tr>\n",
       "      <th>5</th>\n",
       "      <td>#RockyFire Update =&gt; California Hwy. 20 closed...</td>\n",
       "      <td>rockyfire update california hwy 20 closed dire...</td>\n",
       "    </tr>\n",
       "    <tr>\n",
       "      <th>6</th>\n",
       "      <td>#flood #disaster Heavy rain causes flash flood...</td>\n",
       "      <td>flood disaster heavy rain cause flash flooding...</td>\n",
       "    </tr>\n",
       "    <tr>\n",
       "      <th>7</th>\n",
       "      <td>I'm on top of the hill and I can see a fire in...</td>\n",
       "      <td>im top hill see fire wood</td>\n",
       "    </tr>\n",
       "    <tr>\n",
       "      <th>8</th>\n",
       "      <td>There's an emergency evacuation happening now ...</td>\n",
       "      <td>there emergency evacuation happening building ...</td>\n",
       "    </tr>\n",
       "    <tr>\n",
       "      <th>9</th>\n",
       "      <td>I'm afraid that the tornado is coming to our a...</td>\n",
       "      <td>im afraid tornado coming area</td>\n",
       "    </tr>\n",
       "    <tr>\n",
       "      <th>10</th>\n",
       "      <td>Three people died from the heat wave so far</td>\n",
       "      <td>three people died heat wave far</td>\n",
       "    </tr>\n",
       "    <tr>\n",
       "      <th>11</th>\n",
       "      <td>Haha South Tampa is getting flooded hah- WAIT ...</td>\n",
       "      <td>haha south tampa getting flooded hah wait seco...</td>\n",
       "    </tr>\n",
       "    <tr>\n",
       "      <th>12</th>\n",
       "      <td>#raining #flooding #Florida #TampaBay #Tampa 1...</td>\n",
       "      <td>raining flooding florida tampabay tampa 18 19 ...</td>\n",
       "    </tr>\n",
       "    <tr>\n",
       "      <th>13</th>\n",
       "      <td>#Flood in Bago Myanmar #We arrived Bago</td>\n",
       "      <td>flood bago myanmar arrived bago</td>\n",
       "    </tr>\n",
       "    <tr>\n",
       "      <th>14</th>\n",
       "      <td>Damage to school bus on 80 in multi car crash ...</td>\n",
       "      <td>damage school bus 80 multi car crash breaking</td>\n",
       "    </tr>\n",
       "    <tr>\n",
       "      <th>15</th>\n",
       "      <td>What's up man?</td>\n",
       "      <td>whats man</td>\n",
       "    </tr>\n",
       "    <tr>\n",
       "      <th>16</th>\n",
       "      <td>I love fruits</td>\n",
       "      <td>love fruit</td>\n",
       "    </tr>\n",
       "    <tr>\n",
       "      <th>17</th>\n",
       "      <td>Summer is lovely</td>\n",
       "      <td>summer lovely</td>\n",
       "    </tr>\n",
       "    <tr>\n",
       "      <th>18</th>\n",
       "      <td>My car is so fast</td>\n",
       "      <td>car fast</td>\n",
       "    </tr>\n",
       "    <tr>\n",
       "      <th>19</th>\n",
       "      <td>What a goooooooaaaaaal!!!!!!</td>\n",
       "      <td>goooooooaaaaaal</td>\n",
       "    </tr>\n",
       "    <tr>\n",
       "      <th>20</th>\n",
       "      <td>this is ridiculous....</td>\n",
       "      <td>ridiculous</td>\n",
       "    </tr>\n",
       "    <tr>\n",
       "      <th>21</th>\n",
       "      <td>London is cool ;)</td>\n",
       "      <td>london cool</td>\n",
       "    </tr>\n",
       "    <tr>\n",
       "      <th>22</th>\n",
       "      <td>Love skiing</td>\n",
       "      <td>love skiing</td>\n",
       "    </tr>\n",
       "    <tr>\n",
       "      <th>23</th>\n",
       "      <td>What a wonderful day!</td>\n",
       "      <td>wonderful day</td>\n",
       "    </tr>\n",
       "    <tr>\n",
       "      <th>24</th>\n",
       "      <td>LOOOOOOL</td>\n",
       "      <td>looooool</td>\n",
       "    </tr>\n",
       "    <tr>\n",
       "      <th>25</th>\n",
       "      <td>No way...I can't eat that shit</td>\n",
       "      <td>wayi cant eat shit</td>\n",
       "    </tr>\n",
       "    <tr>\n",
       "      <th>26</th>\n",
       "      <td>Was in NYC last week!</td>\n",
       "      <td>nyc last week</td>\n",
       "    </tr>\n",
       "    <tr>\n",
       "      <th>27</th>\n",
       "      <td>Love my girlfriend</td>\n",
       "      <td>love girlfriend</td>\n",
       "    </tr>\n",
       "    <tr>\n",
       "      <th>28</th>\n",
       "      <td>Cooool :)</td>\n",
       "      <td>cooool</td>\n",
       "    </tr>\n",
       "    <tr>\n",
       "      <th>29</th>\n",
       "      <td>Do you like pasta?</td>\n",
       "      <td>like pasta</td>\n",
       "    </tr>\n",
       "  </tbody>\n",
       "</table>\n",
       "</div>\n",
       "    <div class=\"colab-df-buttons\">\n",
       "\n",
       "  <div class=\"colab-df-container\">\n",
       "    <button class=\"colab-df-convert\" onclick=\"convertToInteractive('df-745fd98e-4205-4cf3-99f6-9a28d53e00c1')\"\n",
       "            title=\"Convert this dataframe to an interactive table.\"\n",
       "            style=\"display:none;\">\n",
       "\n",
       "  <svg xmlns=\"http://www.w3.org/2000/svg\" height=\"24px\" viewBox=\"0 -960 960 960\">\n",
       "    <path d=\"M120-120v-720h720v720H120Zm60-500h600v-160H180v160Zm220 220h160v-160H400v160Zm0 220h160v-160H400v160ZM180-400h160v-160H180v160Zm440 0h160v-160H620v160ZM180-180h160v-160H180v160Zm440 0h160v-160H620v160Z\"/>\n",
       "  </svg>\n",
       "    </button>\n",
       "\n",
       "  <style>\n",
       "    .colab-df-container {\n",
       "      display:flex;\n",
       "      gap: 12px;\n",
       "    }\n",
       "\n",
       "    .colab-df-convert {\n",
       "      background-color: #E8F0FE;\n",
       "      border: none;\n",
       "      border-radius: 50%;\n",
       "      cursor: pointer;\n",
       "      display: none;\n",
       "      fill: #1967D2;\n",
       "      height: 32px;\n",
       "      padding: 0 0 0 0;\n",
       "      width: 32px;\n",
       "    }\n",
       "\n",
       "    .colab-df-convert:hover {\n",
       "      background-color: #E2EBFA;\n",
       "      box-shadow: 0px 1px 2px rgba(60, 64, 67, 0.3), 0px 1px 3px 1px rgba(60, 64, 67, 0.15);\n",
       "      fill: #174EA6;\n",
       "    }\n",
       "\n",
       "    .colab-df-buttons div {\n",
       "      margin-bottom: 4px;\n",
       "    }\n",
       "\n",
       "    [theme=dark] .colab-df-convert {\n",
       "      background-color: #3B4455;\n",
       "      fill: #D2E3FC;\n",
       "    }\n",
       "\n",
       "    [theme=dark] .colab-df-convert:hover {\n",
       "      background-color: #434B5C;\n",
       "      box-shadow: 0px 1px 3px 1px rgba(0, 0, 0, 0.15);\n",
       "      filter: drop-shadow(0px 1px 2px rgba(0, 0, 0, 0.3));\n",
       "      fill: #FFFFFF;\n",
       "    }\n",
       "  </style>\n",
       "\n",
       "    <script>\n",
       "      const buttonEl =\n",
       "        document.querySelector('#df-745fd98e-4205-4cf3-99f6-9a28d53e00c1 button.colab-df-convert');\n",
       "      buttonEl.style.display =\n",
       "        google.colab.kernel.accessAllowed ? 'block' : 'none';\n",
       "\n",
       "      async function convertToInteractive(key) {\n",
       "        const element = document.querySelector('#df-745fd98e-4205-4cf3-99f6-9a28d53e00c1');\n",
       "        const dataTable =\n",
       "          await google.colab.kernel.invokeFunction('convertToInteractive',\n",
       "                                                    [key], {});\n",
       "        if (!dataTable) return;\n",
       "\n",
       "        const docLinkHtml = 'Like what you see? Visit the ' +\n",
       "          '<a target=\"_blank\" href=https://colab.research.google.com/notebooks/data_table.ipynb>data table notebook</a>'\n",
       "          + ' to learn more about interactive tables.';\n",
       "        element.innerHTML = '';\n",
       "        dataTable['output_type'] = 'display_data';\n",
       "        await google.colab.output.renderOutput(dataTable, element);\n",
       "        const docLink = document.createElement('div');\n",
       "        docLink.innerHTML = docLinkHtml;\n",
       "        element.appendChild(docLink);\n",
       "      }\n",
       "    </script>\n",
       "  </div>\n",
       "\n",
       "\n",
       "<div id=\"df-a66f6736-35cf-460a-82ab-971b38c60fae\">\n",
       "  <button class=\"colab-df-quickchart\" onclick=\"quickchart('df-a66f6736-35cf-460a-82ab-971b38c60fae')\"\n",
       "            title=\"Suggest charts\"\n",
       "            style=\"display:none;\">\n",
       "\n",
       "<svg xmlns=\"http://www.w3.org/2000/svg\" height=\"24px\"viewBox=\"0 0 24 24\"\n",
       "     width=\"24px\">\n",
       "    <g>\n",
       "        <path d=\"M19 3H5c-1.1 0-2 .9-2 2v14c0 1.1.9 2 2 2h14c1.1 0 2-.9 2-2V5c0-1.1-.9-2-2-2zM9 17H7v-7h2v7zm4 0h-2V7h2v10zm4 0h-2v-4h2v4z\"/>\n",
       "    </g>\n",
       "</svg>\n",
       "  </button>\n",
       "\n",
       "<style>\n",
       "  .colab-df-quickchart {\n",
       "      --bg-color: #E8F0FE;\n",
       "      --fill-color: #1967D2;\n",
       "      --hover-bg-color: #E2EBFA;\n",
       "      --hover-fill-color: #174EA6;\n",
       "      --disabled-fill-color: #AAA;\n",
       "      --disabled-bg-color: #DDD;\n",
       "  }\n",
       "\n",
       "  [theme=dark] .colab-df-quickchart {\n",
       "      --bg-color: #3B4455;\n",
       "      --fill-color: #D2E3FC;\n",
       "      --hover-bg-color: #434B5C;\n",
       "      --hover-fill-color: #FFFFFF;\n",
       "      --disabled-bg-color: #3B4455;\n",
       "      --disabled-fill-color: #666;\n",
       "  }\n",
       "\n",
       "  .colab-df-quickchart {\n",
       "    background-color: var(--bg-color);\n",
       "    border: none;\n",
       "    border-radius: 50%;\n",
       "    cursor: pointer;\n",
       "    display: none;\n",
       "    fill: var(--fill-color);\n",
       "    height: 32px;\n",
       "    padding: 0;\n",
       "    width: 32px;\n",
       "  }\n",
       "\n",
       "  .colab-df-quickchart:hover {\n",
       "    background-color: var(--hover-bg-color);\n",
       "    box-shadow: 0 1px 2px rgba(60, 64, 67, 0.3), 0 1px 3px 1px rgba(60, 64, 67, 0.15);\n",
       "    fill: var(--button-hover-fill-color);\n",
       "  }\n",
       "\n",
       "  .colab-df-quickchart-complete:disabled,\n",
       "  .colab-df-quickchart-complete:disabled:hover {\n",
       "    background-color: var(--disabled-bg-color);\n",
       "    fill: var(--disabled-fill-color);\n",
       "    box-shadow: none;\n",
       "  }\n",
       "\n",
       "  .colab-df-spinner {\n",
       "    border: 2px solid var(--fill-color);\n",
       "    border-color: transparent;\n",
       "    border-bottom-color: var(--fill-color);\n",
       "    animation:\n",
       "      spin 1s steps(1) infinite;\n",
       "  }\n",
       "\n",
       "  @keyframes spin {\n",
       "    0% {\n",
       "      border-color: transparent;\n",
       "      border-bottom-color: var(--fill-color);\n",
       "      border-left-color: var(--fill-color);\n",
       "    }\n",
       "    20% {\n",
       "      border-color: transparent;\n",
       "      border-left-color: var(--fill-color);\n",
       "      border-top-color: var(--fill-color);\n",
       "    }\n",
       "    30% {\n",
       "      border-color: transparent;\n",
       "      border-left-color: var(--fill-color);\n",
       "      border-top-color: var(--fill-color);\n",
       "      border-right-color: var(--fill-color);\n",
       "    }\n",
       "    40% {\n",
       "      border-color: transparent;\n",
       "      border-right-color: var(--fill-color);\n",
       "      border-top-color: var(--fill-color);\n",
       "    }\n",
       "    60% {\n",
       "      border-color: transparent;\n",
       "      border-right-color: var(--fill-color);\n",
       "    }\n",
       "    80% {\n",
       "      border-color: transparent;\n",
       "      border-right-color: var(--fill-color);\n",
       "      border-bottom-color: var(--fill-color);\n",
       "    }\n",
       "    90% {\n",
       "      border-color: transparent;\n",
       "      border-bottom-color: var(--fill-color);\n",
       "    }\n",
       "  }\n",
       "</style>\n",
       "\n",
       "  <script>\n",
       "    async function quickchart(key) {\n",
       "      const quickchartButtonEl =\n",
       "        document.querySelector('#' + key + ' button');\n",
       "      quickchartButtonEl.disabled = true;  // To prevent multiple clicks.\n",
       "      quickchartButtonEl.classList.add('colab-df-spinner');\n",
       "      try {\n",
       "        const charts = await google.colab.kernel.invokeFunction(\n",
       "            'suggestCharts', [key], {});\n",
       "      } catch (error) {\n",
       "        console.error('Error during call to suggestCharts:', error);\n",
       "      }\n",
       "      quickchartButtonEl.classList.remove('colab-df-spinner');\n",
       "      quickchartButtonEl.classList.add('colab-df-quickchart-complete');\n",
       "    }\n",
       "    (() => {\n",
       "      let quickchartButtonEl =\n",
       "        document.querySelector('#df-a66f6736-35cf-460a-82ab-971b38c60fae button');\n",
       "      quickchartButtonEl.style.display =\n",
       "        google.colab.kernel.accessAllowed ? 'block' : 'none';\n",
       "    })();\n",
       "  </script>\n",
       "</div>\n",
       "\n",
       "    </div>\n",
       "  </div>\n"
      ],
      "text/plain": [
       "                                                 text  \\\n",
       "0   Our Deeds are the Reason of this #earthquake M...   \n",
       "1              Forest fire near La Ronge Sask. Canada   \n",
       "2   All residents asked to 'shelter in place' are ...   \n",
       "3   13,000 people receive #wildfires evacuation or...   \n",
       "4   Just got sent this photo from Ruby #Alaska as ...   \n",
       "5   #RockyFire Update => California Hwy. 20 closed...   \n",
       "6   #flood #disaster Heavy rain causes flash flood...   \n",
       "7   I'm on top of the hill and I can see a fire in...   \n",
       "8   There's an emergency evacuation happening now ...   \n",
       "9   I'm afraid that the tornado is coming to our a...   \n",
       "10        Three people died from the heat wave so far   \n",
       "11  Haha South Tampa is getting flooded hah- WAIT ...   \n",
       "12  #raining #flooding #Florida #TampaBay #Tampa 1...   \n",
       "13            #Flood in Bago Myanmar #We arrived Bago   \n",
       "14  Damage to school bus on 80 in multi car crash ...   \n",
       "15                                     What's up man?   \n",
       "16                                      I love fruits   \n",
       "17                                   Summer is lovely   \n",
       "18                                  My car is so fast   \n",
       "19                       What a goooooooaaaaaal!!!!!!   \n",
       "20                             this is ridiculous....   \n",
       "21                                  London is cool ;)   \n",
       "22                                        Love skiing   \n",
       "23                              What a wonderful day!   \n",
       "24                                           LOOOOOOL   \n",
       "25                     No way...I can't eat that shit   \n",
       "26                              Was in NYC last week!   \n",
       "27                                 Love my girlfriend   \n",
       "28                                          Cooool :)   \n",
       "29                                 Do you like pasta?   \n",
       "\n",
       "                                           clean_text  \n",
       "0          deed reason earthquake may allah forgive u  \n",
       "1               forest fire near la ronge sask canada  \n",
       "2   resident asked shelter place notified officer ...  \n",
       "3   13000 people receive wildfire evacuation order...  \n",
       "4   got sent photo ruby alaska smoke wildfire pour...  \n",
       "5   rockyfire update california hwy 20 closed dire...  \n",
       "6   flood disaster heavy rain cause flash flooding...  \n",
       "7                           im top hill see fire wood  \n",
       "8   there emergency evacuation happening building ...  \n",
       "9                       im afraid tornado coming area  \n",
       "10                    three people died heat wave far  \n",
       "11  haha south tampa getting flooded hah wait seco...  \n",
       "12  raining flooding florida tampabay tampa 18 19 ...  \n",
       "13                    flood bago myanmar arrived bago  \n",
       "14      damage school bus 80 multi car crash breaking  \n",
       "15                                          whats man  \n",
       "16                                         love fruit  \n",
       "17                                      summer lovely  \n",
       "18                                           car fast  \n",
       "19                                    goooooooaaaaaal  \n",
       "20                                         ridiculous  \n",
       "21                                        london cool  \n",
       "22                                        love skiing  \n",
       "23                                      wonderful day  \n",
       "24                                           looooool  \n",
       "25                                 wayi cant eat shit  \n",
       "26                                      nyc last week  \n",
       "27                                    love girlfriend  \n",
       "28                                             cooool  \n",
       "29                                         like pasta  "
      ]
     },
     "execution_count": 5,
     "metadata": {},
     "output_type": "execute_result"
    }
   ],
   "source": [
    "# Display some samples of actual and cleaned text\n",
    "df[['text', 'clean_text']].head(30)"
   ]
  },
  {
   "cell_type": "markdown",
   "id": "C4fY8joYTrv_",
   "metadata": {
    "id": "C4fY8joYTrv_"
   },
   "source": [
    "## **Apply TF-IDF, BoW vectorizers**"
   ]
  },
  {
   "cell_type": "markdown",
   "id": "83Y7_gZ5Trv_",
   "metadata": {
    "id": "83Y7_gZ5Trv_"
   },
   "source": [
    "### **Data Preprocessing and Train Test Split**\n",
    "To transform text to numerical feature for machine learning, here first we load preprocessed data and apply Bag-of-Words and TF-IDF text vectorization techniques.\n",
    "The BoW technique is helpful for models applying frequency patterns but no context sensitivity because it addresses text by identifying word frequency.  We can improve with TF-IDF as it gives heavy weights to the words having a low document frequency but significant and reduces common words' influence. Here we created a feature matrix with more than 14,000 distinct words using both the vectorization techniques and subsequently divided into 80% training and 20% testing sets.  While TF-IDF boosts classification by focusing on discriminating words, BoW is computationally effective and suits models such as Logistic Regression."
   ]
  },
  {
   "cell_type": "code",
   "execution_count": 6,
   "id": "oimeXjh6TrwA",
   "metadata": {
    "colab": {
     "base_uri": "https://localhost:8080/"
    },
    "id": "oimeXjh6TrwA",
    "outputId": "7d54a08c-a6e0-4699-dddf-c98df217a240"
   },
   "outputs": [
    {
     "name": "stdout",
     "output_type": "stream",
     "text": [
      "BoW Vectorizer Train Test sets Shape\n",
      "(6090, 14441)\n",
      "(1523, 14441)\n",
      "(6090,)\n",
      "(1523,)\n",
      "\n",
      "\n",
      "TF-IDF Vectorizer Train Test sets Shape\n",
      "(6090, 14441)\n",
      "(1523, 14441)\n",
      "(6090,)\n",
      "(1523,)\n"
     ]
    }
   ],
   "source": [
    "# Load cleaned preprocessed dataset\n",
    "df = pd.read_csv(\"train_cleaned.csv\")\n",
    "\n",
    "# Here Initialize count vectorizers\n",
    "vectorizer_bow = CountVectorizer()\n",
    "\n",
    "# Fit and transform text data\n",
    "bow_X = vectorizer_bow.fit_transform(df['clean_text'])\n",
    "bow_y = df['target']\n",
    "\n",
    "# Split into train and test sets (80% train, 20% test)\n",
    "X_train_bow, X_test_bow, y_train_bow, y_test_bow = train_test_split(bow_X, bow_y, test_size=0.2, random_state=42)\n",
    "print('BoW Vectorizer Train Test sets Shape')\n",
    "print(X_train_bow.shape)\n",
    "print(X_test_bow.shape)\n",
    "print(y_train_bow.shape)\n",
    "print(y_test_bow.shape)\n",
    "\n",
    "# Here initialize the TF-IDF vectorizers\n",
    "vectorizer_tfidf = TfidfVectorizer()\n",
    "\n",
    "# Fit and transform text data\n",
    "tfidf_X = vectorizer_tfidf.fit_transform(df['clean_text'])\n",
    "tfidf_y = df['target']\n",
    "\n",
    "# Here split into train and test sets (80% train, 20% test)\n",
    "X_train_tfidf, X_test_tfidf, y_train_tfidf, y_test_tfidf = train_test_split(tfidf_X, tfidf_y, test_size=0.2, random_state=42)\n",
    "print('\\n\\nTF-IDF Vectorizer Train Test sets Shape')\n",
    "print(X_train_tfidf.shape)\n",
    "print(X_test_tfidf.shape)\n",
    "print(y_train_tfidf.shape)\n",
    "print(y_test_tfidf.shape)"
   ]
  },
  {
   "cell_type": "markdown",
   "id": "ym9VVGm6ZJ29",
   "metadata": {
    "id": "ym9VVGm6ZJ29"
   },
   "source": [
    "Splited Both the BoW and TF-IDF vectorizers' train and test sets in identical shape, consisting of 1523 test samples and 6090 training samples with 14441 features apiece."
   ]
  },
  {
   "cell_type": "markdown",
   "id": "4w0e2wF_TrwC",
   "metadata": {
    "id": "4w0e2wF_TrwC"
   },
   "source": [
    "## **Logistic Regression and  SVM models to classify texts**"
   ]
  },
  {
   "cell_type": "markdown",
   "id": "D-3oq5ZjTrwD",
   "metadata": {
    "id": "D-3oq5ZjTrwD"
   },
   "source": [
    "### **Training Logistic Regression and SVM Models on BoW Vectorizer**\n",
    "\n",
    "Here we train **Logistic Regression** and **Support Vector Machine (SVM)** models for text categorization, using the **Bag-of-Words (BoW)**. To check the performance of models on test set, we use a **classification report** and a **confusion matrix**. For SVM  model use the **linear kernel** because it works well with text data, and Logistic Regression is a good starting model.\n"
   ]
  },
  {
   "cell_type": "code",
   "execution_count": 7,
   "id": "JJWbSw1MTrwE",
   "metadata": {
    "colab": {
     "base_uri": "https://localhost:8080/"
    },
    "id": "JJWbSw1MTrwE",
    "outputId": "3e017bde-d9a3-40ad-e7c7-8dd40132d4a2"
   },
   "outputs": [
    {
     "name": "stdout",
     "output_type": "stream",
     "text": [
      "Logistic Regression BoW Model Performance:\n",
      "\n",
      "\tClassification Report\n",
      "              precision    recall  f1-score   support\n",
      "\n",
      "           0       0.80      0.86      0.83       874\n",
      "           1       0.79      0.71      0.75       649\n",
      "\n",
      "    accuracy                           0.80      1523\n",
      "   macro avg       0.80      0.79      0.79      1523\n",
      "weighted avg       0.80      0.80      0.80      1523\n",
      "\n",
      "\n",
      "\n",
      "SVM BoW Model Performance:\n",
      "\n",
      "\tClassification Report\n",
      "              precision    recall  f1-score   support\n",
      "\n",
      "           0       0.78      0.82      0.80       874\n",
      "           1       0.74      0.69      0.71       649\n",
      "\n",
      "    accuracy                           0.77      1523\n",
      "   macro avg       0.76      0.76      0.76      1523\n",
      "weighted avg       0.76      0.77      0.76      1523\n",
      "\n"
     ]
    }
   ],
   "source": [
    "# Training both models on Bag of Words\n",
    "# Train Logistic Regression\n",
    "lr_bow_model = LogisticRegression()\n",
    "lr_bow_model.fit(X_train_bow, y_train_bow)\n",
    "\n",
    "# Train Support Vector Machine (SVM)\n",
    "svm_bow_model = SVC(kernel='linear')\n",
    "svm_bow_model.fit(X_train_bow, y_train_bow)\n",
    "\n",
    "# Predictions\n",
    "lr_preds_bow = lr_bow_model.predict(X_test_bow)\n",
    "svm_preds_bow = svm_bow_model.predict(X_test_bow)\n",
    "\n",
    "# Evaluate models\n",
    "print(\"Logistic Regression BoW Model Performance:\")\n",
    "print('\\n\\tClassification Report')\n",
    "print(classification_report(y_test_bow, lr_preds_bow))\n",
    "\n",
    "print(\"\\n\\nSVM BoW Model Performance:\")\n",
    "print('\\n\\tClassification Report')\n",
    "print(classification_report(y_test_bow, svm_preds_bow))"
   ]
  },
  {
   "cell_type": "markdown",
   "id": "Tp54csRdaiUy",
   "metadata": {
    "id": "Tp54csRdaiUy"
   },
   "source": [
    "**Classification Report Results of Logestic Regression and SVM Model**\n",
    "\n",
    "At 80% accuracy, precision of 0.80 for class 0 (not disaster) and 0.79 for class 1 (disaster) and recall of 0.86 for class 0 and 0.71 for class 1, the Logistic Regression BoW model performs better for detecting non-disaster tweets. The SVM BoW model is a bit lower than Logistic Regression in recall and precision for both classes but with slightly poorer accuracy of 77%, precision of 0.78 for class 0 and 0.74 for class 1, and recall of 0.82 for class 0 and 0.69 for class 1.  Both models are quite good but Logistic Regression slightly performs better in classification, especially in classifying class 1 (tweets about disasters)."
   ]
  },
  {
   "cell_type": "markdown",
   "id": "cbyJ4llsbi7u",
   "metadata": {
    "id": "cbyJ4llsbi7u"
   },
   "source": [
    "**Confusion Matrix**\n",
    "\n",
    "Here we define a function to create a confusion matrix as a heatmap with labeled axes, and shows true vs predicted labels."
   ]
  },
  {
   "cell_type": "code",
   "execution_count": 8,
   "id": "XVoRW4MvTrwH",
   "metadata": {
    "id": "XVoRW4MvTrwH"
   },
   "outputs": [],
   "source": [
    "# Confusion Matrix\n",
    "def confusion_matrix_plot(true_y, pred_y, trained_model):\n",
    "    conf_mt = confusion_matrix(true_y, pred_y)\n",
    "    plt.figure(figsize=(6, 4))\n",
    "    sns.heatmap(conf_mt, annot=True, fmt=\"d\", cmap=\"Blues\", xticklabels=[\"Not Disaster\", \"Disaster\"], yticklabels=[\"Not Disaster\", \"Disaster\"])\n",
    "    plt.xlabel(\"Predicted Label\")\n",
    "    plt.ylabel(\"True Label\")\n",
    "    plt.title(f\"Confusion Matrix - {trained_model}\")\n",
    "    plt.show()"
   ]
  },
  {
   "cell_type": "code",
   "execution_count": 9,
   "id": "JEIljM5DLnwg",
   "metadata": {
    "colab": {
     "base_uri": "https://localhost:8080/",
     "height": 803
    },
    "id": "JEIljM5DLnwg",
    "outputId": "144820a7-1152-41bc-ccc9-3e4e60f86704"
   },
   "outputs": [
    {
     "data": {
      "image/png": "[encoded data removed]",
      "text/plain": [
       "<Figure size 600x400 with 2 Axes>"
      ]
     },
     "metadata": {},
     "output_type": "display_data"
    },
    {
     "data": {
      "image/png": "[encoded data removed]",
      "text/plain": [
       "<Figure size 600x400 with 2 Axes>"
      ]
     },
     "metadata": {},
     "output_type": "display_data"
    }
   ],
   "source": [
    "# Plot confusion matrix\n",
    "confusion_matrix_plot(y_test_bow, lr_preds_bow, \"Logistic Regression (BoW)\")\n",
    "confusion_matrix_plot(y_test_bow, svm_preds_bow, \"Support Vector Machine (BoW)\")"
   ]
  },
  {
   "cell_type": "markdown",
   "id": "-D0_jH45xVXv",
   "metadata": {
    "id": "-D0_jH45xVXv"
   },
   "source": [
    "- **Confusion Matrix Results**:\n",
    "The confusion matrices compare Logistic Regression and Support Vector Machine (SVM) with Bag of Words (BoW) representation for binary classification. Logistic Regression is slightly superior, correctly classifying more disaster cases (461 vs. 445) and incorrectly classifying fewer instances overall. It produces fewer false positives (119 vs. 153) and false negatives (188 vs. 204) than SVM, indicating improved balance in classification. Even though both models are good, Logistic Regression is the superior of the two in this case."
   ]
  },
  {
   "cell_type": "markdown",
   "id": "lerneDnvTrwJ",
   "metadata": {
    "id": "lerneDnvTrwJ"
   },
   "source": [
    "### **Training Logistic Regression and SVM Models on TF-IDF Vectorizer**\n",
    "\n",
    "Here we use the **TF-IDF (Term Frequency-Inverse Document Frequency)** representation to train **Logistic Regression** and **Support Vector Machine (SVM)** models for text classification.  Following training, we eavluate both models on the test set using a **confusion matrix** heatmap and a **classification report** (precision, recall, and F1-score)."
   ]
  },
  {
   "cell_type": "code",
   "execution_count": 10,
   "id": "Qo5bdIx8TrwK",
   "metadata": {
    "colab": {
     "base_uri": "https://localhost:8080/"
    },
    "id": "Qo5bdIx8TrwK",
    "outputId": "91472828-8e6c-4e41-8808-db81bb089aba"
   },
   "outputs": [
    {
     "name": "stdout",
     "output_type": "stream",
     "text": [
      "Logistic Regression TF-IDF Model Performance:\n",
      "\n",
      "\tClassification Report\n",
      "              precision    recall  f1-score   support\n",
      "\n",
      "           0       0.77      0.91      0.83       874\n",
      "           1       0.84      0.64      0.72       649\n",
      "\n",
      "    accuracy                           0.79      1523\n",
      "   macro avg       0.80      0.77      0.78      1523\n",
      "weighted avg       0.80      0.79      0.79      1523\n",
      "\n",
      "\n",
      "\n",
      "SVM TF-IDF Model Performance:\n",
      "\n",
      "\tClassification Report\n",
      "              precision    recall  f1-score   support\n",
      "\n",
      "           0       0.77      0.92      0.84       874\n",
      "           1       0.85      0.63      0.73       649\n",
      "\n",
      "    accuracy                           0.80      1523\n",
      "   macro avg       0.81      0.78      0.78      1523\n",
      "weighted avg       0.81      0.80      0.79      1523\n",
      "\n"
     ]
    }
   ],
   "source": [
    "# Training Logistic Regression Model\n",
    "lr_tfidf_model = LogisticRegression()\n",
    "lr_tfidf_model.fit(X_train_tfidf, y_train_tfidf)\n",
    "\n",
    "# Training Support Vector Machine (SVM) Model\n",
    "svm_tfidf_model = SVC()\n",
    "svm_tfidf_model.fit(X_train_tfidf, y_train_tfidf)\n",
    "\n",
    "# Predictions on test set\n",
    "lr_preds_tfidf = lr_tfidf_model.predict(X_test_tfidf)\n",
    "svm_preds_tfidf = svm_tfidf_model.predict(X_test_tfidf)\n",
    "\n",
    "# Evaluate models performance\n",
    "print(\"Logistic Regression TF-IDF Model Performance:\")\n",
    "print('\\n\\tClassification Report')\n",
    "print(classification_report(y_test_tfidf, lr_preds_tfidf))\n",
    "\n",
    "print(\"\\n\\nSVM TF-IDF Model Performance:\")\n",
    "print('\\n\\tClassification Report')\n",
    "print(classification_report(y_test_tfidf, svm_preds_tfidf))"
   ]
  },
  {
   "cell_type": "code",
   "execution_count": 11,
   "id": "8XhPXlIuMU3A",
   "metadata": {
    "colab": {
     "base_uri": "https://localhost:8080/",
     "height": 803
    },
    "id": "8XhPXlIuMU3A",
    "outputId": "539b430c-9ea7-405e-dc33-6b76eb1bfb4d"
   },
   "outputs": [
    {
     "data": {
      "image/png": "[encoded data removed]",
      "text/plain": [
       "<Figure size 600x400 with 2 Axes>"
      ]
     },
     "metadata": {},
     "output_type": "display_data"
    },
    {
     "data": {
      "image/png": "[encoded data removed]",
      "text/plain": [
       "<Figure size 600x400 with 2 Axes>"
      ]
     },
     "metadata": {},
     "output_type": "display_data"
    }
   ],
   "source": [
    "confusion_matrix_plot(y_test_tfidf, lr_preds_tfidf, \" Logistic Regression (TF-IDF)\")\n",
    "confusion_matrix_plot(y_test_tfidf, svm_preds_tfidf, \"Support Vector Machine (TF-IDF)\")"
   ]
  },
  {
   "cell_type": "markdown",
   "id": "RshM-w_JTrwN",
   "metadata": {
    "id": "RshM-w_JTrwN"
   },
   "source": [
    "- **Evaluation Results**\n",
    "\n",
    "The overall accuracy of both models is 79%; however, the Logistic Regression model has a lower recall (64%) for disaster tweets and a greater recall (91%) for non-disaster tweets.  With a little higher precision (80%) but a lower recall (69%), the SVM model offers a more balanced precision-recall tradeoff.  Overall, both models display comparable weighted F1-scores, suggesting that they are equally effective at differentiating between tweets about disasters and those that are not."
   ]
  },
  {
   "cell_type": "markdown",
   "id": "HBY189kYTrwP",
   "metadata": {
    "id": "HBY189kYTrwP"
   },
   "source": [
    "### **Hyperparameter Tuning to get the best model**"
   ]
  },
  {
   "cell_type": "markdown",
   "id": "cTfeBmOCTrwQ",
   "metadata": {
    "id": "cTfeBmOCTrwQ"
   },
   "source": [
    "For hyperparameter tuning we use Grid Search and Randomized Search to adjust the hyperparameters for the Support Vector Machine (SVM) and Logistic Regression models, respectively.\n",
    "\n",
    " - **Logistic Regression:** For Logisitic Regression we will utilize GridSearchCV methodically search through various values of C (regularization strength) and solver types (liblinear, saga) using five-fold cross-validation, to determine the optimal combination for maximum accuracy,.\n",
    " - **SVM:** For SVM we will utilize RandomizedSearchCV, because SVM has a bigger hyperparameter space than Grid Search. To speed up the search without sacrificing efficacy, it randomly selects ten combinations of C (regularization strength), kernel type (linear, rbf), and gamma (scale, auto).\n"
   ]
  },
  {
   "cell_type": "code",
   "execution_count": 12,
   "id": "hD6aYDn8TrwR",
   "metadata": {
    "colab": {
     "base_uri": "https://localhost:8080/"
    },
    "id": "hD6aYDn8TrwR",
    "outputId": "1d7fd578-3ccb-411c-9aa4-3109ec5db15c"
   },
   "outputs": [
    {
     "name": "stderr",
     "output_type": "stream",
     "text": [
      "/usr/local/lib/python3.11/dist-packages/sklearn/model_selection/_search.py:317: UserWarning: The total space of parameters 6 is smaller than n_iter=10. Running 6 iterations. For exhaustive searches, use GridSearchCV.\n",
      "  warnings.warn(\n"
     ]
    },
    {
     "name": "stdout",
     "output_type": "stream",
     "text": [
      "Best paramters for Logistic Regression: {'C': 1, 'solver': 'liblinear'}\n",
      "Best Score for Logistic Regression: 0.7939244663382594\n",
      "Best paramters for SVM: {'kernel': 'linear', 'C': 1}\n",
      "Best Score for SVM: 0.7942528735632184\n"
     ]
    }
   ],
   "source": [
    "# Define grid for hyperparameter tuning\n",
    "param_grid_lr = {\n",
    "    'C': [0.1, 1, 10],\n",
    "    'solver': ['liblinear', 'saga', \"lbfgs\"]\n",
    "}\n",
    "\n",
    "param_grid_svm = {\n",
    "    'C': [0.1, 1, 10],\n",
    "    'kernel': ['linear', 'rbf'],  # kernels (Linear and RBF)\n",
    "    #'gamma': ['scale', 'auto']  # Kernel coefficient (for RBF)\n",
    "}\n",
    "\n",
    "# Logistic Regression model Grid Search\n",
    "grid_lr = GridSearchCV(LogisticRegression(), param_grid_lr, cv=5, scoring='accuracy', n_jobs=-1)\n",
    "grid_lr.fit(X_train_tfidf, y_train_tfidf)\n",
    "\n",
    "# SVM Model Randomized Search (for large param spaces it is faster than GridSearch)\n",
    "random_svm = RandomizedSearchCV(SVC(probability=True), param_grid_svm, cv=5, scoring='accuracy', n_jobs=-1)\n",
    "random_svm.fit(X_train_tfidf, y_train_tfidf)\n",
    "\n",
    "# Best scores and parameters\n",
    "print(\"Best paramters for Logistic Regression:\", grid_lr.best_params_)\n",
    "print(\"Best Score for Logistic Regression:\", grid_lr.best_score_)\n",
    "\n",
    "print(\"Best paramters for SVM:\", random_svm.best_params_)\n",
    "print(\"Best Score for SVM:\", random_svm.best_score_)\n"
   ]
  },
  {
   "cell_type": "markdown",
   "id": "Qc4FRECBTrwT",
   "metadata": {
    "id": "Qc4FRECBTrwT"
   },
   "source": [
    "Now we will use test dataset to evaluate the **fine-tuned Logistic Regression and SVM models**.  \n",
    "\n",
    " - We used `best_estimator_` to choose the **best models** from the hyperparameter tuning steps.  \n",
    " - And the evaluate models on test data to make predictions, and a use **classification report** method to displays precision, recall, and F1-score, and **confusion matrix** to show true and false classifications of models.\n"
   ]
  },
  {
   "cell_type": "code",
   "execution_count": 13,
   "id": "9GLhZkGmTrwV",
   "metadata": {
    "colab": {
     "base_uri": "https://localhost:8080/"
    },
    "id": "9GLhZkGmTrwV",
    "outputId": "39458a18-e465-48df-a9f2-6f2baff7ae6d"
   },
   "outputs": [
    {
     "name": "stdout",
     "output_type": "stream",
     "text": [
      "Logistic Regression Fine-Tuned Model Performance:\n",
      "\n",
      "\tClassification Report\n",
      "              precision    recall  f1-score   support\n",
      "\n",
      "           0       0.77      0.91      0.83       874\n",
      "           1       0.84      0.64      0.73       649\n",
      "\n",
      "    accuracy                           0.79      1523\n",
      "   macro avg       0.81      0.77      0.78      1523\n",
      "weighted avg       0.80      0.79      0.79      1523\n",
      "\n",
      "\n",
      "\n",
      "SVM Fine-Tuned Model Performance:\n",
      "\n",
      "\tClassification Report\n",
      "              precision    recall  f1-score   support\n",
      "\n",
      "           0       0.79      0.87      0.83       874\n",
      "           1       0.80      0.69      0.74       649\n",
      "\n",
      "    accuracy                           0.79      1523\n",
      "   macro avg       0.79      0.78      0.78      1523\n",
      "weighted avg       0.79      0.79      0.79      1523\n",
      "\n"
     ]
    }
   ],
   "source": [
    "# Evaluate using best parameters on Test Data\n",
    "lr_best_est = grid_lr.best_estimator_\n",
    "svm_best_est = random_svm.best_estimator_\n",
    "\n",
    "lr_best_preds = lr_best_est.predict(X_test_tfidf)\n",
    "svm_best_preds = svm_best_est.predict(X_test_tfidf)\n",
    "\n",
    "# Evaluate on fined tuned models\n",
    "print(\"Logistic Regression Fine-Tuned Model Performance:\")\n",
    "print('\\n\\tClassification Report')\n",
    "print(classification_report(y_test_tfidf, lr_best_preds))\n",
    "\n",
    "\n",
    "print(\"\\n\\nSVM Fine-Tuned Model Performance:\")\n",
    "print('\\n\\tClassification Report')\n",
    "print(classification_report(y_test_tfidf, svm_best_preds))"
   ]
  },
  {
   "cell_type": "code",
   "execution_count": 14,
   "id": "xXtDypiJIKPc",
   "metadata": {
    "colab": {
     "base_uri": "https://localhost:8080/",
     "height": 803
    },
    "id": "xXtDypiJIKPc",
    "outputId": "ed0c1189-f306-437a-8124-dd55135cab97"
   },
   "outputs": [
    {
     "data": {
      "image/png": "[encoded data removed]",
      "text/plain": [
       "<Figure size 600x400 with 2 Axes>"
      ]
     },
     "metadata": {},
     "output_type": "display_data"
    },
    {
     "data": {
      "image/png": "[encoded data removed]",
      "text/plain": [
       "<Figure size 600x400 with 2 Axes>"
      ]
     },
     "metadata": {},
     "output_type": "display_data"
    }
   ],
   "source": [
    "confusion_matrix_plot(y_test_tfidf, lr_best_preds, \" Logistic Regression (Fine-Tuned)\")\n",
    "confusion_matrix_plot(y_test_tfidf, svm_best_preds, \"Support Vector Machine (Fine-Tuned)\")"
   ]
  },
  {
   "cell_type": "markdown",
   "id": "q9DxYqzCTrwZ",
   "metadata": {
    "id": "q9DxYqzCTrwZ"
   },
   "source": [
    "- **Hyperparameter Tuning Results**\n",
    "\n",
    "From above evaluation matrixs it is clear that both tuned models SVM and Logistic Regression models shows balanced performance in both classes, with a 79% accuracy rate.  Certain disaster-related class (1) are misclassified,we observeed from the accuracy and recall metrics, which show that class 0 (non-disaster) is predicted more accurately than class 1 (disaster), with a greater recall for class 0 and a slightly lower recall for class 1.  By optimizing the trade-off between precision and recall, fine-tuning made the models marginally better than their baseline models.  With a reduced recall for class 1 and a greater recall for class 0, the SVM model performs similarly to logistic regression, indicating a minor bias toward non-disaster predictions."
   ]
  },
  {
   "cell_type": "markdown",
   "id": "52430b2f",
   "metadata": {
    "id": "52430b2f"
   },
   "source": [
    "### Conclusion\n",
    "We successfully implemented BoW and TF-IDF models to transform text data into numerical representations in order to support effective disaster tweet classification. The fine-tuned SVM and Logistic Regression models produced a balanced accuracy of 79% but it displays a slight bias toward non-disaster classification. Fine-tuning optimized precision-recall trade-offs but still misclassified some disaster cases. However, performance boost over baseline models was achieved through hyperparameter tuning. In future work can focus on addressing class imbalance with advanced techniques such as oversampling, ensemble learning, or deep learning to further enhance disaster classification accuracy."
   ]
  },
  {
   "cell_type": "markdown",
   "id": "oeUo7beImiyA",
   "metadata": {
    "id": "oeUo7beImiyA"
   },
   "source": [
    "### Kaggle Submission File"
   ]
  },
  {
   "cell_type": "code",
   "execution_count": 15,
   "id": "oxS1CL-dTrwc",
   "metadata": {
    "id": "oxS1CL-dTrwc"
   },
   "outputs": [],
   "source": [
    "test_df = pd.read_csv(\"test.csv\")  # Load test data\n",
    "test_df[\"cleaned_text\"] = test_df[\"text\"].apply(preprocessing)\n",
    "\n",
    "X_test_k = vectorizer_bow.transform(test_df[\"cleaned_text\"])\n",
    "y_preds_sub_1 = lr_bow_model.predict(X_test_k)\n",
    "\n",
    "sub_file_1 = pd.DataFrame({\"id\": test_df[\"id\"], \"target\": y_preds_sub_1})\n",
    "sub_file_1.to_csv(\"submission_t1.csv\", index=False)"
   ]
  },
  {
   "cell_type": "markdown",
   "id": "Y-wpFQSTNDHo",
   "metadata": {
    "id": "Y-wpFQSTNDHo"
   },
   "source": [
    "# Task 2:\tBuild a model based on neural networks, trained from scratch (RNN, LSTM, etc.):"
   ]
  },
  {
   "cell_type": "markdown",
   "id": "mehWz1tpPP96",
   "metadata": {
    "id": "mehWz1tpPP96"
   },
   "source": [
    "In this below cell, we imports necessary modules from TensorFlow to build a neural network for text processing. It uses an LSTM-based model with bidirectional layers and an embedding layer for sequence modeling, suitable for tasks like text classification. we use the Tokenizer and pad_sequences for preprocessing the text data before feeding it into the model."
   ]
  },
  {
   "cell_type": "code",
   "execution_count": 16,
   "id": "4be9e140",
   "metadata": {
    "id": "4be9e140"
   },
   "outputs": [],
   "source": [
    "import tensorflow as tf\n",
    "from tensorflow.keras.models import Sequential, Model\n",
    "from tensorflow.keras.preprocessing.text import Tokenizer\n",
    "from tensorflow.keras.preprocessing.sequence import pad_sequences\n",
    "from tensorflow.keras.layers import Embedding, LSTM, GRU, Dense, Dropout, Bidirectional, BatchNormalization, Input, Add, GlobalMaxPooling1D, Attention, SimpleRNN\n",
    "from tensorflow.keras.optimizers import Adam\n",
    "from tensorflow.keras.regularizers import l2\n",
    "from tensorflow.keras.callbacks import EarlyStopping"
   ]
  },
  {
   "cell_type": "markdown",
   "id": "pR48g8pcQGzZ",
   "metadata": {
    "id": "pR48g8pcQGzZ"
   },
   "source": [
    "We will load previously cleaned \"train_cleaned.csv\" dataset using Pandas, and use a Tokenizer with vocabulary size 10,000 to use the maximum memory. We will replace the Out-of-vocabulary words into a special token. Then convert the Text data into numerical sequences and padded to a given length (MAX_LEN=50) for homogeneous input. Finaly extract the labels for classification Labels (0 = non-disaster, 1 = disaster), and spilt the data into 80-20 for effective model testing and preventing data leakage."
   ]
  },
  {
   "cell_type": "code",
   "execution_count": 20,
   "id": "d06fd804",
   "metadata": {
    "id": "d06fd804"
   },
   "outputs": [],
   "source": [
    "# Load dataset\n",
    "df = pd.read_csv(\"train_cleaned.csv\")\n",
    "\n",
    "# Tokenization\n",
    "MAX_VOCAB = 10000  # To keep the maximum words\n",
    "MAX_LEN = 50  # Max tweet length (after padding)\n",
    "tokenizer = Tokenizer(num_words=MAX_VOCAB, oov_token=\"<OOV>\")\n",
    "tokenizer.fit_on_texts(df['clean_text'])\n",
    "\n",
    "# Convert text to sequences\n",
    "X = tokenizer.texts_to_sequences(df['clean_text'])\n",
    "X = pad_sequences(X, maxlen=MAX_LEN, padding='post')  # Ensure uniform length\n",
    "y = df['target'].values  # Binary labels (0 = not disaster, 1 = disaster)\n",
    "\n",
    "# Train-test split\n",
    "X_train, X_test, y_train, y_test = train_test_split(X, y, test_size=0.2, random_state=42)"
   ]
  },
  {
   "cell_type": "markdown",
   "id": "9nc83tgAiA3u",
   "metadata": {
    "id": "9nc83tgAiA3u"
   },
   "source": [
    "## **Describe why did you chose the architecture/hyperparameters**"
   ]
  },
  {
   "cell_type": "markdown",
   "id": "NRyWi4MXh2tK",
   "metadata": {
    "id": "NRyWi4MXh2tK"
   },
   "source": [
    "### **Training LSTM Model**\n",
    "For the LSTM model architecture we use an embedding layer to turn text into dense vectors in order to classify tweets about disasters.  We use Droupout Layer to avoid overfitting, to captured past and future context applied a Bidirectional LSTM. Use a Dense layer for feature learning follows the processing of sequential dependencies by another LSTM. At last applied sigmoid layer to produce binary classification probabilities. For effective learning and precise predictions, trained the model for ten epochs using the Adam optimizer and binary cross-entropy loss."
   ]
  },
  {
   "cell_type": "code",
   "execution_count": 28,
   "id": "dbe30734",
   "metadata": {
    "colab": {
     "base_uri": "https://localhost:8080/"
    },
    "id": "dbe30734",
    "outputId": "0fe6b932-fca6-458f-e0eb-2661a8d0a226"
   },
   "outputs": [
    {
     "name": "stdout",
     "output_type": "stream",
     "text": [
      "Epoch 1/10\n"
     ]
    },
    {
     "name": "stderr",
     "output_type": "stream",
     "text": [
      "/usr/local/lib/python3.11/dist-packages/keras/src/layers/core/embedding.py:90: UserWarning: Argument `input_length` is deprecated. Just remove it.\n",
      "  warnings.warn(\n"
     ]
    },
    {
     "name": "stdout",
     "output_type": "stream",
     "text": [
      "\u001b[1m191/191\u001b[0m \u001b[32m━━━━━━━━━━━━━━━━━━━━\u001b[0m\u001b[37m\u001b[0m \u001b[1m8s\u001b[0m 20ms/step - accuracy: 0.5766 - loss: 0.6843 - val_accuracy: 0.5739 - val_loss: 0.6831\n",
      "Epoch 2/10\n",
      "\u001b[1m191/191\u001b[0m \u001b[32m━━━━━━━━━━━━━━━━━━━━\u001b[0m\u001b[37m\u001b[0m \u001b[1m3s\u001b[0m 14ms/step - accuracy: 0.5717 - loss: 0.6854 - val_accuracy: 0.5739 - val_loss: 0.6840\n",
      "Epoch 3/10\n",
      "\u001b[1m191/191\u001b[0m \u001b[32m━━━━━━━━━━━━━━━━━━━━\u001b[0m\u001b[37m\u001b[0m \u001b[1m6s\u001b[0m 17ms/step - accuracy: 0.5818 - loss: 0.6821 - val_accuracy: 0.5739 - val_loss: 0.6842\n",
      "Epoch 4/10\n",
      "\u001b[1m191/191\u001b[0m \u001b[32m━━━━━━━━━━━━━━━━━━━━\u001b[0m\u001b[37m\u001b[0m \u001b[1m5s\u001b[0m 14ms/step - accuracy: 0.5665 - loss: 0.6857 - val_accuracy: 0.5739 - val_loss: 0.6822\n",
      "Epoch 5/10\n",
      "\u001b[1m191/191\u001b[0m \u001b[32m━━━━━━━━━━━━━━━━━━━━\u001b[0m\u001b[37m\u001b[0m \u001b[1m3s\u001b[0m 13ms/step - accuracy: 0.5636 - loss: 0.6858 - val_accuracy: 0.5739 - val_loss: 0.6826\n",
      "Epoch 6/10\n",
      "\u001b[1m191/191\u001b[0m \u001b[32m━━━━━━━━━━━━━━━━━━━━\u001b[0m\u001b[37m\u001b[0m \u001b[1m3s\u001b[0m 14ms/step - accuracy: 0.5679 - loss: 0.6847 - val_accuracy: 0.5739 - val_loss: 0.6826\n",
      "Epoch 7/10\n",
      "\u001b[1m191/191\u001b[0m \u001b[32m━━━━━━━━━━━━━━━━━━━━\u001b[0m\u001b[37m\u001b[0m \u001b[1m3s\u001b[0m 17ms/step - accuracy: 0.5773 - loss: 0.6819 - val_accuracy: 0.5739 - val_loss: 0.6822\n",
      "Epoch 8/10\n",
      "\u001b[1m191/191\u001b[0m \u001b[32m━━━━━━━━━━━━━━━━━━━━\u001b[0m\u001b[37m\u001b[0m \u001b[1m5s\u001b[0m 14ms/step - accuracy: 0.5670 - loss: 0.6846 - val_accuracy: 0.5739 - val_loss: 0.6822\n",
      "Epoch 9/10\n",
      "\u001b[1m191/191\u001b[0m \u001b[32m━━━━━━━━━━━━━━━━━━━━\u001b[0m\u001b[37m\u001b[0m \u001b[1m3s\u001b[0m 14ms/step - accuracy: 0.6418 - loss: 0.6329 - val_accuracy: 0.7636 - val_loss: 0.5325\n",
      "Epoch 10/10\n",
      "\u001b[1m191/191\u001b[0m \u001b[32m━━━━━━━━━━━━━━━━━━━━\u001b[0m\u001b[37m\u001b[0m \u001b[1m3s\u001b[0m 14ms/step - accuracy: 0.8460 - loss: 0.4169 - val_accuracy: 0.7905 - val_loss: 0.4896\n",
      "\u001b[1m48/48\u001b[0m \u001b[32m━━━━━━━━━━━━━━━━━━━━\u001b[0m\u001b[37m\u001b[0m \u001b[1m0s\u001b[0m 8ms/step - accuracy: 0.7743 - loss: 0.5215\n",
      "LSTM Model Test Accuracy: 0.7905\n"
     ]
    }
   ],
   "source": [
    "# Initialize LSTM model\n",
    "model_lstm = Sequential([Embedding(input_dim=MAX_VOCAB, output_dim=100, input_length=MAX_LEN),\n",
    "                        Bidirectional(LSTM(128, return_sequences=True)),\n",
    "                        Dropout(0.5),\n",
    "                        LSTM(64),\n",
    "                        Dropout(0.5),\n",
    "                        Dense(64, activation='relu'),\n",
    "                        Dense(1, activation='sigmoid')\n",
    "                        ])\n",
    "\n",
    "# Compile model\n",
    "model_lstm.compile(loss='binary_crossentropy', optimizer='adam', metrics=['accuracy'])\n",
    "\n",
    "# Train model\n",
    "history_lstm = model_lstm.fit(X_train, y_train, epochs=10, batch_size=32, validation_data=(X_test, y_test))\n",
    "\n",
    "# Evaluate model\n",
    "loss, accuracy = model_lstm.evaluate(X_test, y_test)\n",
    "print(f\"LSTM Model Test Accuracy: {accuracy:.4f}\")"
   ]
  },
  {
   "cell_type": "markdown",
   "id": "_eAS92VdI82s",
   "metadata": {
    "id": "_eAS92VdI82s"
   },
   "source": [
    "### **Training RNN Model**\n",
    "\n",
    "Here in this RNN Model architecture we use the first layer, called Embedding, transforms words into dense vectors with 100 dimensions.  After processing sequential input while preserving temporal dependencies, a SimpleRNN layer (128 units) employs a Dropout (0.5) to avoid overfitting.  A second Dropout layer comes after a second SimpleRNN layer (64 units) refines the learned features.  The last sigmoid layer, which produces probabilities for binary classification, comes after a Dense (64, ReLU) layer recovers significant patterns.  We use the Adam optimizer and binary cross-entropy loss to construct the model, which is then trained for 10 epochs with a batch size of 32.  In order to ensure its efficacy for text-based classification tasks, the evaluation analyzes accuracy on test data."
   ]
  },
  {
   "cell_type": "code",
   "execution_count": 29,
   "id": "r8ySLLN1Yqvb",
   "metadata": {
    "colab": {
     "base_uri": "https://localhost:8080/"
    },
    "id": "r8ySLLN1Yqvb",
    "outputId": "5ab3f9fa-3399-4efe-f712-007cf04b465e"
   },
   "outputs": [
    {
     "name": "stdout",
     "output_type": "stream",
     "text": [
      "Epoch 1/10\n",
      "\u001b[1m191/191\u001b[0m \u001b[32m━━━━━━━━━━━━━━━━━━━━\u001b[0m\u001b[37m\u001b[0m \u001b[1m11s\u001b[0m 27ms/step - accuracy: 0.5251 - loss: 0.7188 - val_accuracy: 0.5739 - val_loss: 0.6867\n",
      "Epoch 2/10\n",
      "\u001b[1m191/191\u001b[0m \u001b[32m━━━━━━━━━━━━━━━━━━━━\u001b[0m\u001b[37m\u001b[0m \u001b[1m2s\u001b[0m 12ms/step - accuracy: 0.5506 - loss: 0.7050 - val_accuracy: 0.5752 - val_loss: 0.6847\n",
      "Epoch 3/10\n",
      "\u001b[1m191/191\u001b[0m \u001b[32m━━━━━━━━━━━━━━━━━━━━\u001b[0m\u001b[37m\u001b[0m \u001b[1m2s\u001b[0m 11ms/step - accuracy: 0.5145 - loss: 0.7121 - val_accuracy: 0.5246 - val_loss: 0.6954\n",
      "Epoch 4/10\n",
      "\u001b[1m191/191\u001b[0m \u001b[32m━━━━━━━━━━━━━━━━━━━━\u001b[0m\u001b[37m\u001b[0m \u001b[1m2s\u001b[0m 11ms/step - accuracy: 0.5270 - loss: 0.7035 - val_accuracy: 0.5686 - val_loss: 0.6849\n",
      "Epoch 5/10\n",
      "\u001b[1m191/191\u001b[0m \u001b[32m━━━━━━━━━━━━━━━━━━━━\u001b[0m\u001b[37m\u001b[0m \u001b[1m2s\u001b[0m 10ms/step - accuracy: 0.5258 - loss: 0.7030 - val_accuracy: 0.5870 - val_loss: 0.6768\n",
      "Epoch 6/10\n",
      "\u001b[1m191/191\u001b[0m \u001b[32m━━━━━━━━━━━━━━━━━━━━\u001b[0m\u001b[37m\u001b[0m \u001b[1m2s\u001b[0m 11ms/step - accuracy: 0.5485 - loss: 0.6933 - val_accuracy: 0.5305 - val_loss: 0.6841\n",
      "Epoch 7/10\n",
      "\u001b[1m191/191\u001b[0m \u001b[32m━━━━━━━━━━━━━━━━━━━━\u001b[0m\u001b[37m\u001b[0m \u001b[1m2s\u001b[0m 11ms/step - accuracy: 0.5307 - loss: 0.6970 - val_accuracy: 0.5739 - val_loss: 0.6821\n",
      "Epoch 8/10\n",
      "\u001b[1m191/191\u001b[0m \u001b[32m━━━━━━━━━━━━━━━━━━━━\u001b[0m\u001b[37m\u001b[0m \u001b[1m3s\u001b[0m 11ms/step - accuracy: 0.5659 - loss: 0.6858 - val_accuracy: 0.5817 - val_loss: 0.6810\n",
      "Epoch 9/10\n",
      "\u001b[1m191/191\u001b[0m \u001b[32m━━━━━━━━━━━━━━━━━━━━\u001b[0m\u001b[37m\u001b[0m \u001b[1m3s\u001b[0m 11ms/step - accuracy: 0.5747 - loss: 0.6834 - val_accuracy: 0.5837 - val_loss: 0.6834\n",
      "Epoch 10/10\n",
      "\u001b[1m191/191\u001b[0m \u001b[32m━━━━━━━━━━━━━━━━━━━━\u001b[0m\u001b[37m\u001b[0m \u001b[1m2s\u001b[0m 10ms/step - accuracy: 0.5760 - loss: 0.6831 - val_accuracy: 0.5837 - val_loss: 0.6808\n",
      "\u001b[1m48/48\u001b[0m \u001b[32m━━━━━━━━━━━━━━━━━━━━\u001b[0m\u001b[37m\u001b[0m \u001b[1m0s\u001b[0m 4ms/step - accuracy: 0.5810 - loss: 0.6809\n",
      "RNN Model Test Accuracy: 0.5837\n"
     ]
    }
   ],
   "source": [
    "# Initialize RNN model\n",
    "model_rnn = Sequential([\n",
    "    Embedding(input_dim=MAX_VOCAB, output_dim=100, input_length=MAX_LEN),\n",
    "    SimpleRNN(128, return_sequences=True),\n",
    "    Dropout(0.5),\n",
    "    SimpleRNN(64),\n",
    "    Dropout(0.5),\n",
    "    Dense(64, activation='relu'),\n",
    "    Dense(1, activation='sigmoid')\n",
    "])\n",
    "\n",
    "# Compile model\n",
    "model_rnn.compile(loss='binary_crossentropy', optimizer='adam', metrics=['accuracy'])\n",
    "\n",
    "# Train model\n",
    "history_rnn = model_rnn.fit(X_train, y_train, epochs=10, batch_size=32, validation_data=(X_test, y_test))\n",
    "\n",
    "# Evaluate model\n",
    "loss_rnn, accuracy_rnn = model_rnn.evaluate(X_test, y_test)\n",
    "print(f\"RNN Model Test Accuracy: {accuracy_rnn:.4f}\")"
   ]
  },
  {
   "cell_type": "markdown",
   "id": "ZST4yZ3MJOXA",
   "metadata": {
    "id": "ZST4yZ3MJOXA"
   },
   "source": [
    "### **Training GRU Model**\n",
    "\n",
    "Here in GRU-based model architecture we use an Embedding layer that converts words into dense 100-dimensional vectors. Use a Bidirectional GRU (128 units) captures long-range dependencies in both forward and backward directions, followed by a Dropout (0.5) to reduce overfitting. A GRU (64 units) further refines sequential patterns, followed by another Dropout layer. A Dense (64, ReLU) layer extracts high-level features before the final sigmoid layer outputs probabilities for binary classification. And finaly the compile the model with binary cross-entropy loss and Adam optimizer and trained for 10 epochs with batch size 32. We chose GRUs for their efficiency in handling sequential text data while reducing computational complexity compared to LSTMs."
   ]
  },
  {
   "cell_type": "code",
   "execution_count": 30,
   "id": "8yCCM57eYr05",
   "metadata": {
    "colab": {
     "base_uri": "https://localhost:8080/"
    },
    "id": "8yCCM57eYr05",
    "outputId": "ae08a674-6154-480b-facc-0fad17fd5849"
   },
   "outputs": [
    {
     "name": "stdout",
     "output_type": "stream",
     "text": [
      "Epoch 1/10\n",
      "\u001b[1m191/191\u001b[0m \u001b[32m━━━━━━━━━━━━━━━━━━━━\u001b[0m\u001b[37m\u001b[0m \u001b[1m7s\u001b[0m 18ms/step - accuracy: 0.5716 - loss: 0.6861 - val_accuracy: 0.5739 - val_loss: 0.6822\n",
      "Epoch 2/10\n",
      "\u001b[1m191/191\u001b[0m \u001b[32m━━━━━━━━━━━━━━━━━━━━\u001b[0m\u001b[37m\u001b[0m \u001b[1m4s\u001b[0m 14ms/step - accuracy: 0.5627 - loss: 0.6869 - val_accuracy: 0.5739 - val_loss: 0.6824\n",
      "Epoch 3/10\n",
      "\u001b[1m191/191\u001b[0m \u001b[32m━━━━━━━━━━━━━━━━━━━━\u001b[0m\u001b[37m\u001b[0m \u001b[1m5s\u001b[0m 14ms/step - accuracy: 0.5730 - loss: 0.6833 - val_accuracy: 0.5739 - val_loss: 0.6826\n",
      "Epoch 4/10\n",
      "\u001b[1m191/191\u001b[0m \u001b[32m━━━━━━━━━━━━━━━━━━━━\u001b[0m\u001b[37m\u001b[0m \u001b[1m3s\u001b[0m 17ms/step - accuracy: 0.5811 - loss: 0.6818 - val_accuracy: 0.5739 - val_loss: 0.6856\n",
      "Epoch 5/10\n",
      "\u001b[1m191/191\u001b[0m \u001b[32m━━━━━━━━━━━━━━━━━━━━\u001b[0m\u001b[37m\u001b[0m \u001b[1m4s\u001b[0m 13ms/step - accuracy: 0.5697 - loss: 0.6849 - val_accuracy: 0.5739 - val_loss: 0.6822\n",
      "Epoch 6/10\n",
      "\u001b[1m191/191\u001b[0m \u001b[32m━━━━━━━━━━━━━━━━━━━━\u001b[0m\u001b[37m\u001b[0m \u001b[1m5s\u001b[0m 13ms/step - accuracy: 0.5590 - loss: 0.6868 - val_accuracy: 0.5739 - val_loss: 0.6836\n",
      "Epoch 7/10\n",
      "\u001b[1m191/191\u001b[0m \u001b[32m━━━━━━━━━━━━━━━━━━━━\u001b[0m\u001b[37m\u001b[0m \u001b[1m5s\u001b[0m 13ms/step - accuracy: 0.5737 - loss: 0.6835 - val_accuracy: 0.5739 - val_loss: 0.6850\n",
      "Epoch 8/10\n",
      "\u001b[1m191/191\u001b[0m \u001b[32m━━━━━━━━━━━━━━━━━━━━\u001b[0m\u001b[37m\u001b[0m \u001b[1m2s\u001b[0m 13ms/step - accuracy: 0.5658 - loss: 0.6858 - val_accuracy: 0.5739 - val_loss: 0.6831\n",
      "Epoch 9/10\n",
      "\u001b[1m191/191\u001b[0m \u001b[32m━━━━━━━━━━━━━━━━━━━━\u001b[0m\u001b[37m\u001b[0m \u001b[1m3s\u001b[0m 13ms/step - accuracy: 0.5723 - loss: 0.6838 - val_accuracy: 0.5739 - val_loss: 0.6823\n",
      "Epoch 10/10\n",
      "\u001b[1m191/191\u001b[0m \u001b[32m━━━━━━━━━━━━━━━━━━━━\u001b[0m\u001b[37m\u001b[0m \u001b[1m3s\u001b[0m 16ms/step - accuracy: 0.5675 - loss: 0.6841 - val_accuracy: 0.5739 - val_loss: 0.6835\n",
      "\u001b[1m48/48\u001b[0m \u001b[32m━━━━━━━━━━━━━━━━━━━━\u001b[0m\u001b[37m\u001b[0m \u001b[1m0s\u001b[0m 8ms/step - accuracy: 0.5694 - loss: 0.6844\n",
      "GRU Model Test Accuracy: 0.5739\n"
     ]
    }
   ],
   "source": [
    "# Initialize GRU Model\n",
    "model_gru = Sequential([\n",
    "    Embedding(input_dim=MAX_VOCAB, output_dim=100, input_length=MAX_LEN),\n",
    "    Bidirectional(GRU(128, return_sequences=True)),\n",
    "    Dropout(0.5),\n",
    "    GRU(64),\n",
    "    Dropout(0.5),\n",
    "    Dense(64, activation='relu'),\n",
    "    Dense(1, activation='sigmoid')\n",
    "])\n",
    "\n",
    "# Compile model\n",
    "model_gru.compile(loss='binary_crossentropy', optimizer='adam', metrics=['accuracy'])\n",
    "\n",
    "# Train model\n",
    "history_gru = model_gru.fit(X_train, y_train, epochs=10, batch_size=32, validation_data=(X_test, y_test))\n",
    "\n",
    "# Evaluate model\n",
    "loss_gru, accuracy_gru = model_gru.evaluate(X_test, y_test)\n",
    "print(f\"GRU Model Test Accuracy: {accuracy_gru:.4f}\")\n"
   ]
  },
  {
   "cell_type": "markdown",
   "id": "o7Pp1SNsKyTw",
   "metadata": {
    "id": "o7Pp1SNsKyTw"
   },
   "source": [
    "### Model Evaluations Matrix\n",
    "We use classification report and accuracy and loss plot to evaluate the model's performance, the classification_report_matrix function predicts test data labels, converts probabilities into binary values, and prints comprehensive classification metrics such as F1-score, precision, and recall. The training_history_plot function plots training and validation accuracy and loss over epochs, to identify problems like as overfitting or underfitting."
   ]
  },
  {
   "cell_type": "code",
   "execution_count": 31,
   "id": "ZVJBslZEX9pv",
   "metadata": {
    "id": "ZVJBslZEX9pv"
   },
   "outputs": [],
   "source": [
    "def classification_report_matrix(trained_model, X_test, y_test):\n",
    "    y_pred_ = trained_model.predict(X_test)\n",
    "    classes_y_pred = (y_pred_ > 0.5).astype(\"int32\")\n",
    "\n",
    "    print(\"Classification Report:\\n\", classification_report(y_test, classes_y_pred))"
   ]
  },
  {
   "cell_type": "code",
   "execution_count": 32,
   "id": "yoQScPngYFaA",
   "metadata": {
    "id": "yoQScPngYFaA"
   },
   "outputs": [],
   "source": [
    "def training_history_plot(model_history):\n",
    "    plt.figure(figsize=(12, 5))\n",
    "\n",
    "    # Trained model Accuracy plot\n",
    "    plt.subplot(1, 2, 1)\n",
    "    plt.plot(model_history.history['accuracy'], label='Train Accuracy')\n",
    "    plt.plot(model_history.history['val_accuracy'], label='Validation Accuracy')\n",
    "    plt.xlabel('Epochs')\n",
    "    plt.ylabel('Accuracy')\n",
    "    plt.title('Training and Validation Accuracy')\n",
    "    plt.legend()\n",
    "\n",
    "    # Trained Model Loss plot\n",
    "    plt.subplot(1, 2, 2)\n",
    "    plt.plot(model_history.history['loss'], label='Train Loss')\n",
    "    plt.plot(model_history.history['val_loss'], label='Validation Loss')\n",
    "    plt.xlabel('Epochs')\n",
    "    plt.ylabel('Loss')\n",
    "    plt.title('Training and Validation Loss')\n",
    "    plt.legend()\n",
    "\n",
    "    plt.show()"
   ]
  },
  {
   "cell_type": "markdown",
   "id": "6480f86b",
   "metadata": {
    "id": "6480f86b"
   },
   "source": [
    "### LSTM Model Evaluation"
   ]
  },
  {
   "cell_type": "code",
   "execution_count": 33,
   "id": "cd1ec93d",
   "metadata": {
    "colab": {
     "base_uri": "https://localhost:8080/",
     "height": 646
    },
    "id": "cd1ec93d",
    "outputId": "fa97ef3b-c1e0-45e7-b981-3922226b1e5e"
   },
   "outputs": [
    {
     "name": "stdout",
     "output_type": "stream",
     "text": [
      "\u001b[1m48/48\u001b[0m \u001b[32m━━━━━━━━━━━━━━━━━━━━\u001b[0m\u001b[37m\u001b[0m \u001b[1m1s\u001b[0m 16ms/step\n",
      "Classification Report:\n",
      "               precision    recall  f1-score   support\n",
      "\n",
      "           0       0.79      0.86      0.83       874\n",
      "           1       0.79      0.69      0.74       649\n",
      "\n",
      "    accuracy                           0.79      1523\n",
      "   macro avg       0.79      0.78      0.78      1523\n",
      "weighted avg       0.79      0.79      0.79      1523\n",
      "\n"
     ]
    },
    {
     "data": {
      "image/png": "[encoded data removed]",
      "text/plain": [
       "<Figure size 1200x500 with 2 Axes>"
      ]
     },
     "metadata": {},
     "output_type": "display_data"
    }
   ],
   "source": [
    "# Print classification report for LSTM model\n",
    "classification_report_matrix(model_lstm, X_test, y_test)\n",
    "\n",
    "# Plot accuracy and loss for LSTM model\n",
    "training_history_plot(history_lstm)"
   ]
  },
  {
   "cell_type": "markdown",
   "id": "cXqCcZGtLkyf",
   "metadata": {
    "id": "cXqCcZGtLkyf"
   },
   "source": [
    "**LSTM Model Evaluation**\n",
    "\n",
    "From above evaluation results it shows the LSTM model performs mediocrely for text classification. Its precision is higher (0.79), resulting in more false positives, but its recall for disaster tweets is higher (0.69), indicating that it detects more disaster tweets.  The model has a higher recall (0.85), and greater precision (0.80) for tweets that are not disasters.  Although there is potential for improvement in addressing class imbalances and precision, the model's overall accuracy of 79% is supported by balanced macro and weighted averages, which show that performance is generally consistent across both classes."
   ]
  },
  {
   "cell_type": "markdown",
   "id": "3aaec26a",
   "metadata": {
    "id": "3aaec26a"
   },
   "source": [
    "### RNN Model Evaluation"
   ]
  },
  {
   "cell_type": "code",
   "execution_count": 34,
   "id": "OJl7TsI4YRPB",
   "metadata": {
    "colab": {
     "base_uri": "https://localhost:8080/",
     "height": 646
    },
    "id": "OJl7TsI4YRPB",
    "outputId": "28895dd0-9091-474b-a85e-8e68b90836e2"
   },
   "outputs": [
    {
     "name": "stdout",
     "output_type": "stream",
     "text": [
      "\u001b[1m48/48\u001b[0m \u001b[32m━━━━━━━━━━━━━━━━━━━━\u001b[0m\u001b[37m\u001b[0m \u001b[1m1s\u001b[0m 15ms/step\n",
      "Classification Report:\n",
      "               precision    recall  f1-score   support\n",
      "\n",
      "           0       0.58      0.97      0.73       874\n",
      "           1       0.61      0.06      0.12       649\n",
      "\n",
      "    accuracy                           0.58      1523\n",
      "   macro avg       0.60      0.52      0.42      1523\n",
      "weighted avg       0.59      0.58      0.47      1523\n",
      "\n"
     ]
    },
    {
     "data": {
      "image/png": "[encoded data removed]",
      "text/plain": [
       "<Figure size 1200x500 with 2 Axes>"
      ]
     },
     "metadata": {},
     "output_type": "display_data"
    }
   ],
   "source": [
    "classification_report_matrix(model_rnn, X_test, y_test)\n",
    "training_history_plot(history_rnn)"
   ]
  },
  {
   "cell_type": "markdown",
   "id": "9x4bCPy6MeWT",
   "metadata": {
    "id": "9x4bCPy6MeWT"
   },
   "source": [
    "**RNN Model Evaluation**\n",
    "\n",
    "The RNN model shows that the model performs much better in classifying class 0 (non-disaster tweets) with a high recall of 0.97, i.e., correctly classifying most non-disaster tweets. For class 1 (disaster tweets), recall is very low at 0.06, i.e., poor detection of disaster tweets, and most are predicted as non-disaster. The total accuracy is 58%, which is predominantly contributed by class 0 dominance. The macro F1-score is 0.42, indicating an unbalanced model performance. "
   ]
  },
  {
   "cell_type": "markdown",
   "id": "105f6af9",
   "metadata": {
    "id": "105f6af9"
   },
   "source": [
    "### GRU Model Evaluation"
   ]
  },
  {
   "cell_type": "code",
   "execution_count": 35,
   "id": "Bidm-d1GuVzY",
   "metadata": {
    "colab": {
     "base_uri": "https://localhost:8080/",
     "height": 767
    },
    "id": "Bidm-d1GuVzY",
    "outputId": "34745f58-fb3c-4fb9-ed0f-048f23d1ccf3"
   },
   "outputs": [
    {
     "name": "stdout",
     "output_type": "stream",
     "text": [
      "\u001b[1m48/48\u001b[0m \u001b[32m━━━━━━━━━━━━━━━━━━━━\u001b[0m\u001b[37m\u001b[0m \u001b[1m1s\u001b[0m 11ms/step\n",
      "Classification Report:\n",
      "               precision    recall  f1-score   support\n",
      "\n",
      "           0       0.57      1.00      0.73       874\n",
      "           1       0.00      0.00      0.00       649\n",
      "\n",
      "    accuracy                           0.57      1523\n",
      "   macro avg       0.29      0.50      0.36      1523\n",
      "weighted avg       0.33      0.57      0.42      1523\n",
      "\n"
     ]
    },
    {
     "name": "stderr",
     "output_type": "stream",
     "text": [
      "/usr/local/lib/python3.11/dist-packages/sklearn/metrics/_classification.py:1565: UndefinedMetricWarning: Precision is ill-defined and being set to 0.0 in labels with no predicted samples. Use `zero_division` parameter to control this behavior.\n",
      "  _warn_prf(average, modifier, f\"{metric.capitalize()} is\", len(result))\n",
      "/usr/local/lib/python3.11/dist-packages/sklearn/metrics/_classification.py:1565: UndefinedMetricWarning: Precision is ill-defined and being set to 0.0 in labels with no predicted samples. Use `zero_division` parameter to control this behavior.\n",
      "  _warn_prf(average, modifier, f\"{metric.capitalize()} is\", len(result))\n",
      "/usr/local/lib/python3.11/dist-packages/sklearn/metrics/_classification.py:1565: UndefinedMetricWarning: Precision is ill-defined and being set to 0.0 in labels with no predicted samples. Use `zero_division` parameter to control this behavior.\n",
      "  _warn_prf(average, modifier, f\"{metric.capitalize()} is\", len(result))\n"
     ]
    },
    {
     "data": {
      "image/png": "[encoded data removed]",
      "text/plain": [
       "<Figure size 1200x500 with 2 Axes>"
      ]
     },
     "metadata": {},
     "output_type": "display_data"
    }
   ],
   "source": [
    "classification_report_matrix(model_gru, X_test, y_test)\n",
    "training_history_plot(history_gru)"
   ]
  },
  {
   "cell_type": "markdown",
   "id": "N59qchpOf6RM",
   "metadata": {
    "id": "N59qchpOf6RM"
   },
   "source": [
    "**GRU Model Evaluation**\n",
    "\n",
    "Both RNN and GRU models are worst with class imbalance. Non-disaster tweets (class 0) are identified with **perfect recall (1.00)**, but precision is **only 0.57**, leading to a lot of false positives. Disaster tweets (class 1) are completely misclassified, with both **precision and recall at 0**, i.e., the model misses all of them. The overall **accuracy is 57%**, but the **macro F1-score (0.36)** indicates poor performance, especially in the minority class. That this bias towards non-disaster tweets is so high suggests that more sophisticated class balancing strategies, such as resampling or loss modification, are needed."
   ]
  },
  {
   "cell_type": "markdown",
   "id": "qGnh4NWQuA5s",
   "metadata": {
    "id": "qGnh4NWQuA5s"
   },
   "source": [
    "## **Tune hyperparameters to get the best model (several experiments with changing the size of embeddings/hidden sizes/type of layers)**"
   ]
  },
  {
   "cell_type": "markdown",
   "id": "au3-gDIXORma",
   "metadata": {
    "id": "au3-gDIXORma"
   },
   "source": [
    "In this hyperparameter tuning model we use a deep learning architecture that combines an attention mechanism with bidirectional LSTM and GRU layers for binary tweet classification.  First, words are represented as dense vectors by an embedding layer, which may use pre-trained word embeddings.  After capturing sequential dependencies with a bidirectional LSTM, we use a bidirectional GRU to extract more context.  An attention layer refines key features before integrating with the GRU output. By reducing dimensionality, and to avoid overfitting a global max pooling layer feeds into dense layers that use L2 regularization and dropout .  Following binary classification by a sigmoid-activated output layer, to trained the model we use the Adam optimizer with binary cross-entropy loss."
   ]
  },
  {
   "cell_type": "code",
   "execution_count": 36,
   "id": "6313162a",
   "metadata": {
    "colab": {
     "base_uri": "https://localhost:8080/",
     "height": 752
    },
    "id": "6313162a",
    "outputId": "9d8234a7-c34b-4ff5-921d-23810b1c0ac6"
   },
   "outputs": [
    {
     "name": "stderr",
     "output_type": "stream",
     "text": [
      "/usr/local/lib/python3.11/dist-packages/keras/src/layers/core/embedding.py:90: UserWarning: Argument `input_length` is deprecated. Just remove it.\n",
      "  warnings.warn(\n"
     ]
    },
    {
     "data": {
      "text/html": [
       "<pre style=\"white-space:pre;overflow-x:auto;line-height:normal;font-family:Menlo,'DejaVu Sans Mono',consolas,'Courier New',monospace\"><span style=\"font-weight: bold\">Model: \"functional_6\"</span>\n",
       "</pre>\n"
      ],
      "text/plain": [
       "\u001b[1mModel: \"functional_6\"\u001b[0m\n"
      ]
     },
     "metadata": {},
     "output_type": "display_data"
    },
    {
     "data": {
      "text/html": [
       "<pre style=\"white-space:pre;overflow-x:auto;line-height:normal;font-family:Menlo,'DejaVu Sans Mono',consolas,'Courier New',monospace\">┏━━━━━━━━━━━━━━━━━━━━━━━━━━━┳━━━━━━━━━━━━━━━━━━━━━━━━┳━━━━━━━━━━━━━━━━┳━━━━━━━━━━━━━━━━━━━━━━━━┓\n",
       "┃<span style=\"font-weight: bold\"> Layer (type)              </span>┃<span style=\"font-weight: bold\"> Output Shape           </span>┃<span style=\"font-weight: bold\">        Param # </span>┃<span style=\"font-weight: bold\"> Connected to           </span>┃\n",
       "┡━━━━━━━━━━━━━━━━━━━━━━━━━━━╇━━━━━━━━━━━━━━━━━━━━━━━━╇━━━━━━━━━━━━━━━━╇━━━━━━━━━━━━━━━━━━━━━━━━┩\n",
       "│ input_layer_6             │ (<span style=\"color: #00d7ff; text-decoration-color: #00d7ff\">None</span>, <span style=\"color: #00af00; text-decoration-color: #00af00\">50</span>)             │              <span style=\"color: #00af00; text-decoration-color: #00af00\">0</span> │ -                      │\n",
       "│ (<span style=\"color: #0087ff; text-decoration-color: #0087ff\">InputLayer</span>)              │                        │                │                        │\n",
       "├───────────────────────────┼────────────────────────┼────────────────┼────────────────────────┤\n",
       "│ embedding_6 (<span style=\"color: #0087ff; text-decoration-color: #0087ff\">Embedding</span>)   │ (<span style=\"color: #00d7ff; text-decoration-color: #00d7ff\">None</span>, <span style=\"color: #00af00; text-decoration-color: #00af00\">50</span>, <span style=\"color: #00af00; text-decoration-color: #00af00\">300</span>)        │      <span style=\"color: #00af00; text-decoration-color: #00af00\">3,000,000</span> │ input_layer_6[<span style=\"color: #00af00; text-decoration-color: #00af00\">0</span>][<span style=\"color: #00af00; text-decoration-color: #00af00\">0</span>]    │\n",
       "├───────────────────────────┼────────────────────────┼────────────────┼────────────────────────┤\n",
       "│ bidirectional_4           │ (<span style=\"color: #00d7ff; text-decoration-color: #00d7ff\">None</span>, <span style=\"color: #00af00; text-decoration-color: #00af00\">50</span>, <span style=\"color: #00af00; text-decoration-color: #00af00\">512</span>)        │      <span style=\"color: #00af00; text-decoration-color: #00af00\">1,140,736</span> │ embedding_6[<span style=\"color: #00af00; text-decoration-color: #00af00\">0</span>][<span style=\"color: #00af00; text-decoration-color: #00af00\">0</span>]      │\n",
       "│ (<span style=\"color: #0087ff; text-decoration-color: #0087ff\">Bidirectional</span>)           │                        │                │                        │\n",
       "├───────────────────────────┼────────────────────────┼────────────────┼────────────────────────┤\n",
       "│ bidirectional_5           │ (<span style=\"color: #00d7ff; text-decoration-color: #00d7ff\">None</span>, <span style=\"color: #00af00; text-decoration-color: #00af00\">50</span>, <span style=\"color: #00af00; text-decoration-color: #00af00\">256</span>)        │        <span style=\"color: #00af00; text-decoration-color: #00af00\">493,056</span> │ bidirectional_4[<span style=\"color: #00af00; text-decoration-color: #00af00\">0</span>][<span style=\"color: #00af00; text-decoration-color: #00af00\">0</span>]  │\n",
       "│ (<span style=\"color: #0087ff; text-decoration-color: #0087ff\">Bidirectional</span>)           │                        │                │                        │\n",
       "├───────────────────────────┼────────────────────────┼────────────────┼────────────────────────┤\n",
       "│ attention (<span style=\"color: #0087ff; text-decoration-color: #0087ff\">Attention</span>)     │ (<span style=\"color: #00d7ff; text-decoration-color: #00d7ff\">None</span>, <span style=\"color: #00af00; text-decoration-color: #00af00\">50</span>, <span style=\"color: #00af00; text-decoration-color: #00af00\">256</span>)        │              <span style=\"color: #00af00; text-decoration-color: #00af00\">0</span> │ bidirectional_5[<span style=\"color: #00af00; text-decoration-color: #00af00\">0</span>][<span style=\"color: #00af00; text-decoration-color: #00af00\">0</span>], │\n",
       "│                           │                        │                │ bidirectional_5[<span style=\"color: #00af00; text-decoration-color: #00af00\">0</span>][<span style=\"color: #00af00; text-decoration-color: #00af00\">0</span>]  │\n",
       "├───────────────────────────┼────────────────────────┼────────────────┼────────────────────────┤\n",
       "│ add (<span style=\"color: #0087ff; text-decoration-color: #0087ff\">Add</span>)                 │ (<span style=\"color: #00d7ff; text-decoration-color: #00d7ff\">None</span>, <span style=\"color: #00af00; text-decoration-color: #00af00\">50</span>, <span style=\"color: #00af00; text-decoration-color: #00af00\">256</span>)        │              <span style=\"color: #00af00; text-decoration-color: #00af00\">0</span> │ attention[<span style=\"color: #00af00; text-decoration-color: #00af00\">0</span>][<span style=\"color: #00af00; text-decoration-color: #00af00\">0</span>],       │\n",
       "│                           │                        │                │ bidirectional_5[<span style=\"color: #00af00; text-decoration-color: #00af00\">0</span>][<span style=\"color: #00af00; text-decoration-color: #00af00\">0</span>]  │\n",
       "├───────────────────────────┼────────────────────────┼────────────────┼────────────────────────┤\n",
       "│ batch_normalization       │ (<span style=\"color: #00d7ff; text-decoration-color: #00d7ff\">None</span>, <span style=\"color: #00af00; text-decoration-color: #00af00\">50</span>, <span style=\"color: #00af00; text-decoration-color: #00af00\">256</span>)        │          <span style=\"color: #00af00; text-decoration-color: #00af00\">1,024</span> │ add[<span style=\"color: #00af00; text-decoration-color: #00af00\">0</span>][<span style=\"color: #00af00; text-decoration-color: #00af00\">0</span>]              │\n",
       "│ (<span style=\"color: #0087ff; text-decoration-color: #0087ff\">BatchNormalization</span>)      │                        │                │                        │\n",
       "├───────────────────────────┼────────────────────────┼────────────────┼────────────────────────┤\n",
       "│ global_max_pooling1d      │ (<span style=\"color: #00d7ff; text-decoration-color: #00d7ff\">None</span>, <span style=\"color: #00af00; text-decoration-color: #00af00\">256</span>)            │              <span style=\"color: #00af00; text-decoration-color: #00af00\">0</span> │ batch_normalization[<span style=\"color: #00af00; text-decoration-color: #00af00\">0</span>… │\n",
       "│ (<span style=\"color: #0087ff; text-decoration-color: #0087ff\">GlobalMaxPooling1D</span>)      │                        │                │                        │\n",
       "├───────────────────────────┼────────────────────────┼────────────────┼────────────────────────┤\n",
       "│ dense_12 (<span style=\"color: #0087ff; text-decoration-color: #0087ff\">Dense</span>)          │ (<span style=\"color: #00d7ff; text-decoration-color: #00d7ff\">None</span>, <span style=\"color: #00af00; text-decoration-color: #00af00\">128</span>)            │         <span style=\"color: #00af00; text-decoration-color: #00af00\">32,896</span> │ global_max_pooling1d[<span style=\"color: #00af00; text-decoration-color: #00af00\">…</span> │\n",
       "├───────────────────────────┼────────────────────────┼────────────────┼────────────────────────┤\n",
       "│ dropout_12 (<span style=\"color: #0087ff; text-decoration-color: #0087ff\">Dropout</span>)      │ (<span style=\"color: #00d7ff; text-decoration-color: #00d7ff\">None</span>, <span style=\"color: #00af00; text-decoration-color: #00af00\">128</span>)            │              <span style=\"color: #00af00; text-decoration-color: #00af00\">0</span> │ dense_12[<span style=\"color: #00af00; text-decoration-color: #00af00\">0</span>][<span style=\"color: #00af00; text-decoration-color: #00af00\">0</span>]         │\n",
       "├───────────────────────────┼────────────────────────┼────────────────┼────────────────────────┤\n",
       "│ dense_13 (<span style=\"color: #0087ff; text-decoration-color: #0087ff\">Dense</span>)          │ (<span style=\"color: #00d7ff; text-decoration-color: #00d7ff\">None</span>, <span style=\"color: #00af00; text-decoration-color: #00af00\">64</span>)             │          <span style=\"color: #00af00; text-decoration-color: #00af00\">8,256</span> │ dropout_12[<span style=\"color: #00af00; text-decoration-color: #00af00\">0</span>][<span style=\"color: #00af00; text-decoration-color: #00af00\">0</span>]       │\n",
       "├───────────────────────────┼────────────────────────┼────────────────┼────────────────────────┤\n",
       "│ dropout_13 (<span style=\"color: #0087ff; text-decoration-color: #0087ff\">Dropout</span>)      │ (<span style=\"color: #00d7ff; text-decoration-color: #00d7ff\">None</span>, <span style=\"color: #00af00; text-decoration-color: #00af00\">64</span>)             │              <span style=\"color: #00af00; text-decoration-color: #00af00\">0</span> │ dense_13[<span style=\"color: #00af00; text-decoration-color: #00af00\">0</span>][<span style=\"color: #00af00; text-decoration-color: #00af00\">0</span>]         │\n",
       "├───────────────────────────┼────────────────────────┼────────────────┼────────────────────────┤\n",
       "│ dense_14 (<span style=\"color: #0087ff; text-decoration-color: #0087ff\">Dense</span>)          │ (<span style=\"color: #00d7ff; text-decoration-color: #00d7ff\">None</span>, <span style=\"color: #00af00; text-decoration-color: #00af00\">1</span>)              │             <span style=\"color: #00af00; text-decoration-color: #00af00\">65</span> │ dropout_13[<span style=\"color: #00af00; text-decoration-color: #00af00\">0</span>][<span style=\"color: #00af00; text-decoration-color: #00af00\">0</span>]       │\n",
       "└───────────────────────────┴────────────────────────┴────────────────┴────────────────────────┘\n",
       "</pre>\n"
      ],
      "text/plain": [
       "┏━━━━━━━━━━━━━━━━━━━━━━━━━━━┳━━━━━━━━━━━━━━━━━━━━━━━━┳━━━━━━━━━━━━━━━━┳━━━━━━━━━━━━━━━━━━━━━━━━┓\n",
       "┃\u001b[1m \u001b[0m\u001b[1mLayer (type)             \u001b[0m\u001b[1m \u001b[0m┃\u001b[1m \u001b[0m\u001b[1mOutput Shape          \u001b[0m\u001b[1m \u001b[0m┃\u001b[1m \u001b[0m\u001b[1m       Param #\u001b[0m\u001b[1m \u001b[0m┃\u001b[1m \u001b[0m\u001b[1mConnected to          \u001b[0m\u001b[1m \u001b[0m┃\n",
       "┡━━━━━━━━━━━━━━━━━━━━━━━━━━━╇━━━━━━━━━━━━━━━━━━━━━━━━╇━━━━━━━━━━━━━━━━╇━━━━━━━━━━━━━━━━━━━━━━━━┩\n",
       "│ input_layer_6             │ (\u001b[38;5;45mNone\u001b[0m, \u001b[38;5;34m50\u001b[0m)             │              \u001b[38;5;34m0\u001b[0m │ -                      │\n",
       "│ (\u001b[38;5;33mInputLayer\u001b[0m)              │                        │                │                        │\n",
       "├───────────────────────────┼────────────────────────┼────────────────┼────────────────────────┤\n",
       "│ embedding_6 (\u001b[38;5;33mEmbedding\u001b[0m)   │ (\u001b[38;5;45mNone\u001b[0m, \u001b[38;5;34m50\u001b[0m, \u001b[38;5;34m300\u001b[0m)        │      \u001b[38;5;34m3,000,000\u001b[0m │ input_layer_6[\u001b[38;5;34m0\u001b[0m][\u001b[38;5;34m0\u001b[0m]    │\n",
       "├───────────────────────────┼────────────────────────┼────────────────┼────────────────────────┤\n",
       "│ bidirectional_4           │ (\u001b[38;5;45mNone\u001b[0m, \u001b[38;5;34m50\u001b[0m, \u001b[38;5;34m512\u001b[0m)        │      \u001b[38;5;34m1,140,736\u001b[0m │ embedding_6[\u001b[38;5;34m0\u001b[0m][\u001b[38;5;34m0\u001b[0m]      │\n",
       "│ (\u001b[38;5;33mBidirectional\u001b[0m)           │                        │                │                        │\n",
       "├───────────────────────────┼────────────────────────┼────────────────┼────────────────────────┤\n",
       "│ bidirectional_5           │ (\u001b[38;5;45mNone\u001b[0m, \u001b[38;5;34m50\u001b[0m, \u001b[38;5;34m256\u001b[0m)        │        \u001b[38;5;34m493,056\u001b[0m │ bidirectional_4[\u001b[38;5;34m0\u001b[0m][\u001b[38;5;34m0\u001b[0m]  │\n",
       "│ (\u001b[38;5;33mBidirectional\u001b[0m)           │                        │                │                        │\n",
       "├───────────────────────────┼────────────────────────┼────────────────┼────────────────────────┤\n",
       "│ attention (\u001b[38;5;33mAttention\u001b[0m)     │ (\u001b[38;5;45mNone\u001b[0m, \u001b[38;5;34m50\u001b[0m, \u001b[38;5;34m256\u001b[0m)        │              \u001b[38;5;34m0\u001b[0m │ bidirectional_5[\u001b[38;5;34m0\u001b[0m][\u001b[38;5;34m0\u001b[0m], │\n",
       "│                           │                        │                │ bidirectional_5[\u001b[38;5;34m0\u001b[0m][\u001b[38;5;34m0\u001b[0m]  │\n",
       "├───────────────────────────┼────────────────────────┼────────────────┼────────────────────────┤\n",
       "│ add (\u001b[38;5;33mAdd\u001b[0m)                 │ (\u001b[38;5;45mNone\u001b[0m, \u001b[38;5;34m50\u001b[0m, \u001b[38;5;34m256\u001b[0m)        │              \u001b[38;5;34m0\u001b[0m │ attention[\u001b[38;5;34m0\u001b[0m][\u001b[38;5;34m0\u001b[0m],       │\n",
       "│                           │                        │                │ bidirectional_5[\u001b[38;5;34m0\u001b[0m][\u001b[38;5;34m0\u001b[0m]  │\n",
       "├───────────────────────────┼────────────────────────┼────────────────┼────────────────────────┤\n",
       "│ batch_normalization       │ (\u001b[38;5;45mNone\u001b[0m, \u001b[38;5;34m50\u001b[0m, \u001b[38;5;34m256\u001b[0m)        │          \u001b[38;5;34m1,024\u001b[0m │ add[\u001b[38;5;34m0\u001b[0m][\u001b[38;5;34m0\u001b[0m]              │\n",
       "│ (\u001b[38;5;33mBatchNormalization\u001b[0m)      │                        │                │                        │\n",
       "├───────────────────────────┼────────────────────────┼────────────────┼────────────────────────┤\n",
       "│ global_max_pooling1d      │ (\u001b[38;5;45mNone\u001b[0m, \u001b[38;5;34m256\u001b[0m)            │              \u001b[38;5;34m0\u001b[0m │ batch_normalization[\u001b[38;5;34m0\u001b[0m… │\n",
       "│ (\u001b[38;5;33mGlobalMaxPooling1D\u001b[0m)      │                        │                │                        │\n",
       "├───────────────────────────┼────────────────────────┼────────────────┼────────────────────────┤\n",
       "│ dense_12 (\u001b[38;5;33mDense\u001b[0m)          │ (\u001b[38;5;45mNone\u001b[0m, \u001b[38;5;34m128\u001b[0m)            │         \u001b[38;5;34m32,896\u001b[0m │ global_max_pooling1d[\u001b[38;5;34m…\u001b[0m │\n",
       "├───────────────────────────┼────────────────────────┼────────────────┼────────────────────────┤\n",
       "│ dropout_12 (\u001b[38;5;33mDropout\u001b[0m)      │ (\u001b[38;5;45mNone\u001b[0m, \u001b[38;5;34m128\u001b[0m)            │              \u001b[38;5;34m0\u001b[0m │ dense_12[\u001b[38;5;34m0\u001b[0m][\u001b[38;5;34m0\u001b[0m]         │\n",
       "├───────────────────────────┼────────────────────────┼────────────────┼────────────────────────┤\n",
       "│ dense_13 (\u001b[38;5;33mDense\u001b[0m)          │ (\u001b[38;5;45mNone\u001b[0m, \u001b[38;5;34m64\u001b[0m)             │          \u001b[38;5;34m8,256\u001b[0m │ dropout_12[\u001b[38;5;34m0\u001b[0m][\u001b[38;5;34m0\u001b[0m]       │\n",
       "├───────────────────────────┼────────────────────────┼────────────────┼────────────────────────┤\n",
       "│ dropout_13 (\u001b[38;5;33mDropout\u001b[0m)      │ (\u001b[38;5;45mNone\u001b[0m, \u001b[38;5;34m64\u001b[0m)             │              \u001b[38;5;34m0\u001b[0m │ dense_13[\u001b[38;5;34m0\u001b[0m][\u001b[38;5;34m0\u001b[0m]         │\n",
       "├───────────────────────────┼────────────────────────┼────────────────┼────────────────────────┤\n",
       "│ dense_14 (\u001b[38;5;33mDense\u001b[0m)          │ (\u001b[38;5;45mNone\u001b[0m, \u001b[38;5;34m1\u001b[0m)              │             \u001b[38;5;34m65\u001b[0m │ dropout_13[\u001b[38;5;34m0\u001b[0m][\u001b[38;5;34m0\u001b[0m]       │\n",
       "└───────────────────────────┴────────────────────────┴────────────────┴────────────────────────┘\n"
      ]
     },
     "metadata": {},
     "output_type": "display_data"
    },
    {
     "data": {
      "text/html": [
       "<pre style=\"white-space:pre;overflow-x:auto;line-height:normal;font-family:Menlo,'DejaVu Sans Mono',consolas,'Courier New',monospace\"><span style=\"font-weight: bold\"> Total params: </span><span style=\"color: #00af00; text-decoration-color: #00af00\">4,676,033</span> (17.84 MB)\n",
       "</pre>\n"
      ],
      "text/plain": [
       "\u001b[1m Total params: \u001b[0m\u001b[38;5;34m4,676,033\u001b[0m (17.84 MB)\n"
      ]
     },
     "metadata": {},
     "output_type": "display_data"
    },
    {
     "data": {
      "text/html": [
       "<pre style=\"white-space:pre;overflow-x:auto;line-height:normal;font-family:Menlo,'DejaVu Sans Mono',consolas,'Courier New',monospace\"><span style=\"font-weight: bold\"> Trainable params: </span><span style=\"color: #00af00; text-decoration-color: #00af00\">4,675,521</span> (17.84 MB)\n",
       "</pre>\n"
      ],
      "text/plain": [
       "\u001b[1m Trainable params: \u001b[0m\u001b[38;5;34m4,675,521\u001b[0m (17.84 MB)\n"
      ]
     },
     "metadata": {},
     "output_type": "display_data"
    },
    {
     "data": {
      "text/html": [
       "<pre style=\"white-space:pre;overflow-x:auto;line-height:normal;font-family:Menlo,'DejaVu Sans Mono',consolas,'Courier New',monospace\"><span style=\"font-weight: bold\"> Non-trainable params: </span><span style=\"color: #00af00; text-decoration-color: #00af00\">512</span> (2.00 KB)\n",
       "</pre>\n"
      ],
      "text/plain": [
       "\u001b[1m Non-trainable params: \u001b[0m\u001b[38;5;34m512\u001b[0m (2.00 KB)\n"
      ]
     },
     "metadata": {},
     "output_type": "display_data"
    }
   ],
   "source": [
    "# Tuning Hyperparameters\n",
    "MAX_VOCAB = 10000  # vocabulary size limits\n",
    "MAX_LEN = 50  # length of max tweets\n",
    "EMBEDDING_DIM = 300  # word embeddings (Using 300D)\n",
    "LSTM_UNITS = 256  # LSTM units\n",
    "GRU_UNITS = 128  # GRU units\n",
    "DROPOUT_RATE = 0.3  # Dropout rate to avoid overfiting\n",
    "L2_REG = 0.01  # L2 Regularization\n",
    "LEARNING_RATE = 0.0003  # Adam optimizer Learning rate\n",
    "\n",
    "# Model Input Layer\n",
    "input_layer = Input(shape=(MAX_LEN,))\n",
    "\n",
    "# Embedding Layer\n",
    "embeddd_layer = Embedding(input_dim=MAX_VOCAB, output_dim=EMBEDDING_DIM, input_length=MAX_LEN, trainable=True)(input_layer)\n",
    "\n",
    "# LSTM Bidirectional Layer\n",
    "lstm_output = Bidirectional(LSTM(LSTM_UNITS, return_sequences=True, kernel_regularizer=l2(L2_REG)))(embeddd_layer)\n",
    "\n",
    "# GRU Layer (Stacked with LSTM)\n",
    "gru_output = Bidirectional(GRU(GRU_UNITS, return_sequences=True, kernel_regularizer=l2(L2_REG)))(lstm_output)\n",
    "\n",
    "# Attention Layer\n",
    "atten_layer = Attention()([gru_output, gru_output])\n",
    "\n",
    "# LSTM, GRU, and Attention outputs Combine\n",
    "merged_lstm_gru_att = Add()([atten_layer, gru_output])\n",
    "merged_lstm_gru_att = BatchNormalization()(merged_lstm_gru_att)\n",
    "\n",
    "# to reduce sequence length apply Global Max Pooling\n",
    "G_max_pooled = GlobalMaxPooling1D()(merged_lstm_gru_att)\n",
    "\n",
    "# Fully Connected Layers\n",
    "dense_1 = Dense(128, activation='relu', kernel_regularizer=l2(L2_REG))(G_max_pooled)\n",
    "dense_1 = Dropout(DROPOUT_RATE)(dense_1)\n",
    "\n",
    "dense_2 = Dense(64, activation='relu', kernel_regularizer=l2(L2_REG))(dense_1)\n",
    "dense_2 = Dropout(DROPOUT_RATE)(dense_2)\n",
    "\n",
    "# Binary Classification Output Layer\n",
    "output_layer = Dense(1, activation='sigmoid')(dense_2)\n",
    "\n",
    "# Define Model\n",
    "complex_model = Model(inputs=input_layer, outputs=output_layer)\n",
    "\n",
    "# Compile the model\n",
    "complex_model.compile(loss='binary_crossentropy', optimizer=Adam(learning_rate=LEARNING_RATE), metrics=['accuracy'])\n",
    "\n",
    "# Print model summary\n",
    "complex_model.summary()"
   ]
  },
  {
   "cell_type": "code",
   "execution_count": 37,
   "id": "70e1677a",
   "metadata": {
    "colab": {
     "base_uri": "https://localhost:8080/"
    },
    "id": "70e1677a",
    "outputId": "e2668f1d-83c5-4e1f-d3c8-3f2390e27093"
   },
   "outputs": [
    {
     "name": "stdout",
     "output_type": "stream",
     "text": [
      "Epoch 1/25\n",
      "\u001b[1m191/191\u001b[0m \u001b[32m━━━━━━━━━━━━━━━━━━━━\u001b[0m\u001b[37m\u001b[0m \u001b[1m11s\u001b[0m 27ms/step - accuracy: 0.5957 - loss: 14.5673 - val_accuracy: 0.6934 - val_loss: 3.9961\n",
      "Epoch 2/25\n",
      "\u001b[1m191/191\u001b[0m \u001b[32m━━━━━━━━━━━━━━━━━━━━\u001b[0m\u001b[37m\u001b[0m \u001b[1m9s\u001b[0m 24ms/step - accuracy: 0.8519 - loss: 2.7786 - val_accuracy: 0.7564 - val_loss: 1.4688\n",
      "Epoch 3/25\n",
      "\u001b[1m191/191\u001b[0m \u001b[32m━━━━━━━━━━━━━━━━━━━━\u001b[0m\u001b[37m\u001b[0m \u001b[1m5s\u001b[0m 26ms/step - accuracy: 0.9063 - loss: 0.9695 - val_accuracy: 0.7085 - val_loss: 0.9204\n",
      "Epoch 4/25\n",
      "\u001b[1m191/191\u001b[0m \u001b[32m━━━━━━━━━━━━━━━━━━━━\u001b[0m\u001b[37m\u001b[0m \u001b[1m5s\u001b[0m 25ms/step - accuracy: 0.9267 - loss: 0.5065 - val_accuracy: 0.7761 - val_loss: 0.7611\n",
      "Epoch 5/25\n",
      "\u001b[1m191/191\u001b[0m \u001b[32m━━━━━━━━━━━━━━━━━━━━\u001b[0m\u001b[37m\u001b[0m \u001b[1m5s\u001b[0m 24ms/step - accuracy: 0.9423 - loss: 0.3392 - val_accuracy: 0.7032 - val_loss: 0.7907\n",
      "Epoch 6/25\n",
      "\u001b[1m191/191\u001b[0m \u001b[32m━━━━━━━━━━━━━━━━━━━━\u001b[0m\u001b[37m\u001b[0m \u001b[1m5s\u001b[0m 27ms/step - accuracy: 0.9558 - loss: 0.2455 - val_accuracy: 0.7229 - val_loss: 1.1733\n",
      "Epoch 7/25\n",
      "\u001b[1m191/191\u001b[0m \u001b[32m━━━━━━━━━━━━━━━━━━━━\u001b[0m\u001b[37m\u001b[0m \u001b[1m10s\u001b[0m 26ms/step - accuracy: 0.9576 - loss: 0.2062 - val_accuracy: 0.7590 - val_loss: 0.8315\n",
      "\u001b[1m48/48\u001b[0m \u001b[32m━━━━━━━━━━━━━━━━━━━━\u001b[0m\u001b[37m\u001b[0m \u001b[1m0s\u001b[0m 8ms/step - accuracy: 0.7470 - loss: 0.8132\n",
      "\n",
      "Complex Model Test Accuracy: 0.78\n"
     ]
    }
   ],
   "source": [
    "# Apply Early Stopping to prevent overfitting\n",
    "early_stop = EarlyStopping(monitor='val_loss', patience=3, restore_best_weights=True)\n",
    "\n",
    "# Train the Complex Model\n",
    "history_complex_model = complex_model.fit(X_train, y_train, epochs=25, batch_size=32, validation_data=(X_test, y_test), callbacks=[early_stop])\n",
    "\n",
    "# Evaluate Complex Model on Test Data\n",
    "model_loss, model_accuracy = complex_model.evaluate(X_test, y_test)\n",
    "print(f\"\\nComplex Model Test Accuracy: {round(model_accuracy,2)}\")"
   ]
  },
  {
   "cell_type": "code",
   "execution_count": 38,
   "id": "872ee6b7",
   "metadata": {
    "colab": {
     "base_uri": "https://localhost:8080/",
     "height": 636
    },
    "id": "872ee6b7",
    "outputId": "cee184bc-22aa-4fd7-bf07-dc6c9c8d5066"
   },
   "outputs": [
    {
     "name": "stdout",
     "output_type": "stream",
     "text": [
      "\u001b[1m48/48\u001b[0m \u001b[32m━━━━━━━━━━━━━━━━━━━━\u001b[0m\u001b[37m\u001b[0m \u001b[1m1s\u001b[0m 16ms/step\n",
      "Fine-Tuned Model Performance:\n",
      "\n",
      "\tClassification Report\n",
      "              precision    recall  f1-score   support\n",
      "\n",
      "           0       0.81      0.80      0.80       874\n",
      "           1       0.73      0.75      0.74       649\n",
      "\n",
      "    accuracy                           0.78      1523\n",
      "   macro avg       0.77      0.77      0.77      1523\n",
      "weighted avg       0.78      0.78      0.78      1523\n",
      "\n"
     ]
    },
    {
     "data": {
      "image/png": "[encoded data removed]",
      "text/plain": [
       "<Figure size 600x400 with 2 Axes>"
      ]
     },
     "metadata": {},
     "output_type": "display_data"
    }
   ],
   "source": [
    "tuned_preds = complex_model.predict(X_test)\n",
    "tuned_preds = (tuned_preds > 0.5).astype(\"int32\")\n",
    "# Evaluate models\n",
    "print(\"Fine-Tuned Model Performance:\")\n",
    "print('\\n\\tClassification Report')\n",
    "print(classification_report(y_test, tuned_preds))\n",
    "confusion_matrix_plot(y_test, tuned_preds, \"Fine-Tuned Model\")"
   ]
  },
  {
   "cell_type": "markdown",
   "id": "e1Y1Hdd5uCUp",
   "metadata": {
    "id": "e1Y1Hdd5uCUp"
   },
   "source": [
    "- **Fine-Tuned Model Evaluation**\n",
    "\n",
    "The optimized model demonstrates significant improvement, with a general accuracy rate of 78%. For non-disaster tweets (class 0), it maintains high precision (81%) and recall (80%), avoiding unnecessary false positives. Disaster tweets (class 1) improve significantly as well, with recall at 75% and precision at 73%, so that the model can pick up more disaster-related tweets effectively. The macro and weighted F1-scores of 0.77 and 0.78, respectively, reflect a balanced performance on both classes. These gains reflect that the model has learned patterns in the data successfully while minimizing bias, resulting in improved generalization."
   ]
  },
  {
   "cell_type": "markdown",
   "id": "6cad10c5",
   "metadata": {
    "id": "6cad10c5"
   },
   "source": [
    "### Conclusion\n",
    "The optimized architecture, with the use of bidirectional LSTM and GRU layers and an attention mechanism, significantly improves disaster tweet classification to 78% accuracy. With equal recall and precision for both classes, the model shows better generalization and less bias compared to previous architectures. While the previous models suffered from class imbalance, the optimized model can efficiently capture sequential dependencies and refine critical features, leading to better disaster tweet detection. Further development can include resolving class imbalance again using more advanced sampling techniques or transformer-based models for even greater accuracy and context sensitivity."
   ]
  },
  {
   "cell_type": "markdown",
   "id": "58cd7006",
   "metadata": {
    "id": "58cd7006"
   },
   "source": [
    "### Kaggle Submission file"
   ]
  },
  {
   "cell_type": "code",
   "execution_count": 40,
   "id": "GlKcE4Pg5bIl",
   "metadata": {
    "colab": {
     "base_uri": "https://localhost:8080/"
    },
    "id": "GlKcE4Pg5bIl",
    "outputId": "95d53c7a-e33b-49fe-b12a-e834cc8f66ea"
   },
   "outputs": [
    {
     "name": "stdout",
     "output_type": "stream",
     "text": [
      "\u001b[1m102/102\u001b[0m \u001b[32m━━━━━━━━━━━━━━━━━━━━\u001b[0m\u001b[37m\u001b[0m \u001b[1m1s\u001b[0m 5ms/step\n"
     ]
    }
   ],
   "source": [
    "test_df = pd.read_csv(\"test.csv\")  # Load test cleaned text data\n",
    "test_df[\"cleaned_text\"] = test_df[\"text\"].apply(preprocessing)\n",
    "\n",
    "# Convert text to sequences\n",
    "X_test = tokenizer.texts_to_sequences(test_df['cleaned_text'])\n",
    "X_test = pad_sequences(X_test, maxlen=MAX_LEN, padding='post')  # Ensure uniform length\n",
    "y_preds_sub_2 = model_lstm.predict(X_test)\n",
    "y_preds_sub_2 = (y_preds_sub_2 > 0.5).astype(\"int32\")\n",
    "\n",
    "sub_file_2 = pd.DataFrame({\"id\": test_df[\"id\"], \"target\": y_preds_sub_2.ravel()})\n",
    "sub_file_2.to_csv(\"submission_t2.csv\", index=False)"
   ]
  },
  {
   "cell_type": "markdown",
   "id": "_J5kW1NauIbV",
   "metadata": {
    "id": "_J5kW1NauIbV"
   },
   "source": [
    "# Task 3:\tFine-tune pre-trained model (it may be from torch/transformers, etc.)"
   ]
  },
  {
   "cell_type": "markdown",
   "id": "ITxFvtPgR0yb",
   "metadata": {
    "id": "ITxFvtPgR0yb"
   },
   "source": [
    "### Installing necessary libraries\n",
    "Installling Hugging Face's transformers library which offers pre-trained transformer models such as BERT and GPT. Datasets provides quick access to extensive training datasets.  While torchmetrics offers a range of evaluation metrics, torch is the PyTorch framework used for deep learning. These libraries work together to facilitate effective model training for machine learning and natural language processing experiments."
   ]
  },
  {
   "cell_type": "code",
   "execution_count": 41,
   "id": "qiRJMDnI8DUP",
   "metadata": {
    "colab": {
     "base_uri": "https://localhost:8080/",
     "height": 1000
    },
    "id": "qiRJMDnI8DUP",
    "outputId": "82e746b7-48eb-4664-ef62-f0f869ec5d4e"
   },
   "outputs": [
    {
     "name": "stdout",
     "output_type": "stream",
     "text": [
      "Requirement already satisfied: transformers in /usr/local/lib/python3.11/dist-packages (4.48.3)\n",
      "Collecting datasets\n",
      "  Downloading datasets-3.4.0-py3-none-any.whl.metadata (19 kB)\n",
      "Requirement already satisfied: torch in /usr/local/lib/python3.11/dist-packages (2.6.0+cu124)\n",
      "Collecting torchmetrics\n",
      "  Downloading torchmetrics-1.6.3-py3-none-any.whl.metadata (20 kB)\n",
      "Requirement already satisfied: scikit-learn in /usr/local/lib/python3.11/dist-packages (1.6.1)\n",
      "Requirement already satisfied: filelock in /usr/local/lib/python3.11/dist-packages (from transformers) (3.17.0)\n",
      "Requirement already satisfied: huggingface-hub<1.0,>=0.24.0 in /usr/local/lib/python3.11/dist-packages (from transformers) (0.28.1)\n",
      "Requirement already satisfied: numpy>=1.17 in /usr/local/lib/python3.11/dist-packages (from transformers) (1.26.4)\n",
      "Requirement already satisfied: packaging>=20.0 in /usr/local/lib/python3.11/dist-packages (from transformers) (24.2)\n",
      "Requirement already satisfied: pyyaml>=5.1 in /usr/local/lib/python3.11/dist-packages (from transformers) (6.0.2)\n",
      "Requirement already satisfied: regex!=2019.12.17 in /usr/local/lib/python3.11/dist-packages (from transformers) (2024.11.6)\n",
      "Requirement already satisfied: requests in /usr/local/lib/python3.11/dist-packages (from transformers) (2.32.3)\n",
      "Requirement already satisfied: tokenizers<0.22,>=0.21 in /usr/local/lib/python3.11/dist-packages (from transformers) (0.21.0)\n",
      "Requirement already satisfied: safetensors>=0.4.1 in /usr/local/lib/python3.11/dist-packages (from transformers) (0.5.3)\n",
      "Requirement already satisfied: tqdm>=4.27 in /usr/local/lib/python3.11/dist-packages (from transformers) (4.67.1)\n",
      "Requirement already satisfied: pyarrow>=15.0.0 in /usr/local/lib/python3.11/dist-packages (from datasets) (18.1.0)\n",
      "Collecting dill<0.3.9,>=0.3.0 (from datasets)\n",
      "  Downloading dill-0.3.8-py3-none-any.whl.metadata (10 kB)\n",
      "Requirement already satisfied: pandas in /usr/local/lib/python3.11/dist-packages (from datasets) (2.2.2)\n",
      "Collecting xxhash (from datasets)\n",
      "  Downloading xxhash-3.5.0-cp311-cp311-manylinux_2_17_x86_64.manylinux2014_x86_64.whl.metadata (12 kB)\n",
      "Collecting multiprocess<0.70.17 (from datasets)\n",
      "  Downloading multiprocess-0.70.16-py311-none-any.whl.metadata (7.2 kB)\n",
      "Requirement already satisfied: fsspec<=2024.12.0,>=2023.1.0 in /usr/local/lib/python3.11/dist-packages (from fsspec[http]<=2024.12.0,>=2023.1.0->datasets) (2024.10.0)\n",
      "Requirement already satisfied: aiohttp in /usr/local/lib/python3.11/dist-packages (from datasets) (3.11.13)\n",
      "Requirement already satisfied: typing-extensions>=4.10.0 in /usr/local/lib/python3.11/dist-packages (from torch) (4.12.2)\n",
      "Requirement already satisfied: networkx in /usr/local/lib/python3.11/dist-packages (from torch) (3.4.2)\n",
      "Requirement already satisfied: jinja2 in /usr/local/lib/python3.11/dist-packages (from torch) (3.1.6)\n",
      "Collecting nvidia-cuda-nvrtc-cu12==12.4.127 (from torch)\n",
      "  Downloading nvidia_cuda_nvrtc_cu12-12.4.127-py3-none-manylinux2014_x86_64.whl.metadata (1.5 kB)\n",
      "Collecting nvidia-cuda-runtime-cu12==12.4.127 (from torch)\n",
      "  Downloading nvidia_cuda_runtime_cu12-12.4.127-py3-none-manylinux2014_x86_64.whl.metadata (1.5 kB)\n",
      "Collecting nvidia-cuda-cupti-cu12==12.4.127 (from torch)\n",
      "  Downloading nvidia_cuda_cupti_cu12-12.4.127-py3-none-manylinux2014_x86_64.whl.metadata (1.6 kB)\n",
      "Collecting nvidia-cudnn-cu12==9.1.0.70 (from torch)\n",
      "  Downloading nvidia_cudnn_cu12-9.1.0.70-py3-none-manylinux2014_x86_64.whl.metadata (1.6 kB)\n",
      "Collecting nvidia-cublas-cu12==12.4.5.8 (from torch)\n",
      "  Downloading nvidia_cublas_cu12-12.4.5.8-py3-none-manylinux2014_x86_64.whl.metadata (1.5 kB)\n",
      "Collecting nvidia-cufft-cu12==11.2.1.3 (from torch)\n",
      "  Downloading nvidia_cufft_cu12-11.2.1.3-py3-none-manylinux2014_x86_64.whl.metadata (1.5 kB)\n",
      "Collecting nvidia-curand-cu12==10.3.5.147 (from torch)\n",
      "  Downloading nvidia_curand_cu12-10.3.5.147-py3-none-manylinux2014_x86_64.whl.metadata (1.5 kB)\n",
      "Collecting nvidia-cusolver-cu12==11.6.1.9 (from torch)\n",
      "  Downloading nvidia_cusolver_cu12-11.6.1.9-py3-none-manylinux2014_x86_64.whl.metadata (1.6 kB)\n",
      "Collecting nvidia-cusparse-cu12==12.3.1.170 (from torch)\n",
      "  Downloading nvidia_cusparse_cu12-12.3.1.170-py3-none-manylinux2014_x86_64.whl.metadata (1.6 kB)\n",
      "Requirement already satisfied: nvidia-cusparselt-cu12==0.6.2 in /usr/local/lib/python3.11/dist-packages (from torch) (0.6.2)\n",
      "Requirement already satisfied: nvidia-nccl-cu12==2.21.5 in /usr/local/lib/python3.11/dist-packages (from torch) (2.21.5)\n",
      "Requirement already satisfied: nvidia-nvtx-cu12==12.4.127 in /usr/local/lib/python3.11/dist-packages (from torch) (12.4.127)\n",
      "Collecting nvidia-nvjitlink-cu12==12.4.127 (from torch)\n",
      "  Downloading nvidia_nvjitlink_cu12-12.4.127-py3-none-manylinux2014_x86_64.whl.metadata (1.5 kB)\n",
      "Requirement already satisfied: triton==3.2.0 in /usr/local/lib/python3.11/dist-packages (from torch) (3.2.0)\n",
      "Requirement already satisfied: sympy==1.13.1 in /usr/local/lib/python3.11/dist-packages (from torch) (1.13.1)\n",
      "Requirement already satisfied: mpmath<1.4,>=1.1.0 in /usr/local/lib/python3.11/dist-packages (from sympy==1.13.1->torch) (1.3.0)\n",
      "Collecting lightning-utilities>=0.8.0 (from torchmetrics)\n",
      "  Downloading lightning_utilities-0.14.1-py3-none-any.whl.metadata (5.6 kB)\n",
      "Requirement already satisfied: scipy>=1.6.0 in /usr/local/lib/python3.11/dist-packages (from scikit-learn) (1.14.1)\n",
      "Requirement already satisfied: joblib>=1.2.0 in /usr/local/lib/python3.11/dist-packages (from scikit-learn) (1.4.2)\n",
      "Requirement already satisfied: threadpoolctl>=3.1.0 in /usr/local/lib/python3.11/dist-packages (from scikit-learn) (3.5.0)\n",
      "Requirement already satisfied: aiohappyeyeballs>=2.3.0 in /usr/local/lib/python3.11/dist-packages (from aiohttp->datasets) (2.6.1)\n",
      "Requirement already satisfied: aiosignal>=1.1.2 in /usr/local/lib/python3.11/dist-packages (from aiohttp->datasets) (1.3.2)\n",
      "Requirement already satisfied: attrs>=17.3.0 in /usr/local/lib/python3.11/dist-packages (from aiohttp->datasets) (25.2.0)\n",
      "Requirement already satisfied: frozenlist>=1.1.1 in /usr/local/lib/python3.11/dist-packages (from aiohttp->datasets) (1.5.0)\n",
      "Requirement already satisfied: multidict<7.0,>=4.5 in /usr/local/lib/python3.11/dist-packages (from aiohttp->datasets) (6.1.0)\n",
      "Requirement already satisfied: propcache>=0.2.0 in /usr/local/lib/python3.11/dist-packages (from aiohttp->datasets) (0.3.0)\n",
      "Requirement already satisfied: yarl<2.0,>=1.17.0 in /usr/local/lib/python3.11/dist-packages (from aiohttp->datasets) (1.18.3)\n",
      "Requirement already satisfied: setuptools in /usr/local/lib/python3.11/dist-packages (from lightning-utilities>=0.8.0->torchmetrics) (75.1.0)\n",
      "Requirement already satisfied: charset-normalizer<4,>=2 in /usr/local/lib/python3.11/dist-packages (from requests->transformers) (3.4.1)\n",
      "Requirement already satisfied: idna<4,>=2.5 in /usr/local/lib/python3.11/dist-packages (from requests->transformers) (3.10)\n",
      "Requirement already satisfied: urllib3<3,>=1.21.1 in /usr/local/lib/python3.11/dist-packages (from requests->transformers) (2.3.0)\n",
      "Requirement already satisfied: certifi>=2017.4.17 in /usr/local/lib/python3.11/dist-packages (from requests->transformers) (2025.1.31)\n",
      "Requirement already satisfied: MarkupSafe>=2.0 in /usr/local/lib/python3.11/dist-packages (from jinja2->torch) (3.0.2)\n",
      "Requirement already satisfied: python-dateutil>=2.8.2 in /usr/local/lib/python3.11/dist-packages (from pandas->datasets) (2.8.2)\n",
      "Requirement already satisfied: pytz>=2020.1 in /usr/local/lib/python3.11/dist-packages (from pandas->datasets) (2025.1)\n",
      "Requirement already satisfied: tzdata>=2022.7 in /usr/local/lib/python3.11/dist-packages (from pandas->datasets) (2025.1)\n",
      "Requirement already satisfied: six>=1.5 in /usr/local/lib/python3.11/dist-packages (from python-dateutil>=2.8.2->pandas->datasets) (1.17.0)\n",
      "Downloading datasets-3.4.0-py3-none-any.whl (487 kB)\n",
      "\u001b[2K   \u001b[90m━━━━━━━━━━━━━━━━━━━━━━━━━━━━━━━━━━━━━━━━\u001b[0m \u001b[32m487.4/487.4 kB\u001b[0m \u001b[31m26.9 MB/s\u001b[0m eta \u001b[36m0:00:00\u001b[0m\n",
      "\u001b[?25hDownloading nvidia_cublas_cu12-12.4.5.8-py3-none-manylinux2014_x86_64.whl (363.4 MB)\n",
      "\u001b[2K   \u001b[90m━━━━━━━━━━━━━━━━━━━━━━━━━━━━━━━━━━━━━━━━\u001b[0m \u001b[32m363.4/363.4 MB\u001b[0m \u001b[31m1.9 MB/s\u001b[0m eta \u001b[36m0:00:00\u001b[0m\n",
      "\u001b[?25hDownloading nvidia_cuda_cupti_cu12-12.4.127-py3-none-manylinux2014_x86_64.whl (13.8 MB)\n",
      "\u001b[2K   \u001b[90m━━━━━━━━━━━━━━━━━━━━━━━━━━━━━━━━━━━━━━━━\u001b[0m \u001b[32m13.8/13.8 MB\u001b[0m \u001b[31m104.2 MB/s\u001b[0m eta \u001b[36m0:00:00\u001b[0m\n",
      "\u001b[?25hDownloading nvidia_cuda_nvrtc_cu12-12.4.127-py3-none-manylinux2014_x86_64.whl (24.6 MB)\n",
      "\u001b[2K   \u001b[90m━━━━━━━━━━━━━━━━━━━━━━━━━━━━━━━━━━━━━━━━\u001b[0m \u001b[32m24.6/24.6 MB\u001b[0m \u001b[31m84.0 MB/s\u001b[0m eta \u001b[36m0:00:00\u001b[0m\n",
      "\u001b[?25hDownloading nvidia_cuda_runtime_cu12-12.4.127-py3-none-manylinux2014_x86_64.whl (883 kB)\n",
      "\u001b[2K   \u001b[90m━━━━━━━━━━━━━━━━━━━━━━━━━━━━━━━━━━━━━━━━\u001b[0m \u001b[32m883.7/883.7 kB\u001b[0m \u001b[31m52.7 MB/s\u001b[0m eta \u001b[36m0:00:00\u001b[0m\n",
      "\u001b[?25hDownloading nvidia_cudnn_cu12-9.1.0.70-py3-none-manylinux2014_x86_64.whl (664.8 MB)\n",
      "\u001b[2K   \u001b[90m━━━━━━━━━━━━━━━━━━━━━━━━━━━━━━━━━━━━━━━━\u001b[0m \u001b[32m664.8/664.8 MB\u001b[0m \u001b[31m2.7 MB/s\u001b[0m eta \u001b[36m0:00:00\u001b[0m\n",
      "\u001b[?25hDownloading nvidia_cufft_cu12-11.2.1.3-py3-none-manylinux2014_x86_64.whl (211.5 MB)\n",
      "\u001b[2K   \u001b[90m━━━━━━━━━━━━━━━━━━━━━━━━━━━━━━━━━━━━━━━━\u001b[0m \u001b[32m211.5/211.5 MB\u001b[0m \u001b[31m6.6 MB/s\u001b[0m eta \u001b[36m0:00:00\u001b[0m\n",
      "\u001b[?25hDownloading nvidia_curand_cu12-10.3.5.147-py3-none-manylinux2014_x86_64.whl (56.3 MB)\n",
      "\u001b[2K   \u001b[90m━━━━━━━━━━━━━━━━━━━━━━━━━━━━━━━━━━━━━━━━\u001b[0m \u001b[32m56.3/56.3 MB\u001b[0m \u001b[31m14.3 MB/s\u001b[0m eta \u001b[36m0:00:00\u001b[0m\n",
      "\u001b[?25hDownloading nvidia_cusolver_cu12-11.6.1.9-py3-none-manylinux2014_x86_64.whl (127.9 MB)\n",
      "\u001b[2K   \u001b[90m━━━━━━━━━━━━━━━━━━━━━━━━━━━━━━━━━━━━━━━━\u001b[0m \u001b[32m127.9/127.9 MB\u001b[0m \u001b[31m7.6 MB/s\u001b[0m eta \u001b[36m0:00:00\u001b[0m\n",
      "\u001b[?25hDownloading nvidia_cusparse_cu12-12.3.1.170-py3-none-manylinux2014_x86_64.whl (207.5 MB)\n",
      "\u001b[2K   \u001b[90m━━━━━━━━━━━━━━━━━━━━━━━━━━━━━━━━━━━━━━━━\u001b[0m \u001b[32m207.5/207.5 MB\u001b[0m \u001b[31m6.4 MB/s\u001b[0m eta \u001b[36m0:00:00\u001b[0m\n",
      "\u001b[?25hDownloading nvidia_nvjitlink_cu12-12.4.127-py3-none-manylinux2014_x86_64.whl (21.1 MB)\n",
      "\u001b[2K   \u001b[90m━━━━━━━━━━━━━━━━━━━━━━━━━━━━━━━━━━━━━━━━\u001b[0m \u001b[32m21.1/21.1 MB\u001b[0m \u001b[31m88.7 MB/s\u001b[0m eta \u001b[36m0:00:00\u001b[0m\n",
      "\u001b[?25hDownloading torchmetrics-1.6.3-py3-none-any.whl (931 kB)\n",
      "\u001b[2K   \u001b[90m━━━━━━━━━━━━━━━━━━━━━━━━━━━━━━━━━━━━━━━━\u001b[0m \u001b[32m931.7/931.7 kB\u001b[0m \u001b[31m54.8 MB/s\u001b[0m eta \u001b[36m0:00:00\u001b[0m\n",
      "\u001b[?25hDownloading dill-0.3.8-py3-none-any.whl (116 kB)\n",
      "\u001b[2K   \u001b[90m━━━━━━━━━━━━━━━━━━━━━━━━━━━━━━━━━━━━━━━━\u001b[0m \u001b[32m116.3/116.3 kB\u001b[0m \u001b[31m9.4 MB/s\u001b[0m eta \u001b[36m0:00:00\u001b[0m\n",
      "\u001b[?25hDownloading lightning_utilities-0.14.1-py3-none-any.whl (28 kB)\n",
      "Downloading multiprocess-0.70.16-py311-none-any.whl (143 kB)\n",
      "\u001b[2K   \u001b[90m━━━━━━━━━━━━━━━━━━━━━━━━━━━━━━━━━━━━━━━━\u001b[0m \u001b[32m143.5/143.5 kB\u001b[0m \u001b[31m13.4 MB/s\u001b[0m eta \u001b[36m0:00:00\u001b[0m\n",
      "\u001b[?25hDownloading xxhash-3.5.0-cp311-cp311-manylinux_2_17_x86_64.manylinux2014_x86_64.whl (194 kB)\n",
      "\u001b[2K   \u001b[90m━━━━━━━━━━━━━━━━━━━━━━━━━━━━━━━━━━━━━━━━\u001b[0m \u001b[32m194.8/194.8 kB\u001b[0m \u001b[31m15.7 MB/s\u001b[0m eta \u001b[36m0:00:00\u001b[0m\n",
      "\u001b[?25hInstalling collected packages: xxhash, nvidia-nvjitlink-cu12, nvidia-curand-cu12, nvidia-cufft-cu12, nvidia-cuda-runtime-cu12, nvidia-cuda-nvrtc-cu12, nvidia-cuda-cupti-cu12, nvidia-cublas-cu12, lightning-utilities, dill, nvidia-cusparse-cu12, nvidia-cudnn-cu12, multiprocess, nvidia-cusolver-cu12, datasets, torchmetrics\n",
      "  Attempting uninstall: nvidia-nvjitlink-cu12\n",
      "    Found existing installation: nvidia-nvjitlink-cu12 12.5.82\n",
      "    Uninstalling nvidia-nvjitlink-cu12-12.5.82:\n",
      "      Successfully uninstalled nvidia-nvjitlink-cu12-12.5.82\n",
      "  Attempting uninstall: nvidia-curand-cu12\n",
      "    Found existing installation: nvidia-curand-cu12 10.3.6.82\n",
      "    Uninstalling nvidia-curand-cu12-10.3.6.82:\n",
      "      Successfully uninstalled nvidia-curand-cu12-10.3.6.82\n",
      "  Attempting uninstall: nvidia-cufft-cu12\n",
      "    Found existing installation: nvidia-cufft-cu12 11.2.3.61\n",
      "    Uninstalling nvidia-cufft-cu12-11.2.3.61:\n",
      "      Successfully uninstalled nvidia-cufft-cu12-11.2.3.61\n",
      "  Attempting uninstall: nvidia-cuda-runtime-cu12\n",
      "    Found existing installation: nvidia-cuda-runtime-cu12 12.5.82\n",
      "    Uninstalling nvidia-cuda-runtime-cu12-12.5.82:\n",
      "      Successfully uninstalled nvidia-cuda-runtime-cu12-12.5.82\n",
      "  Attempting uninstall: nvidia-cuda-nvrtc-cu12\n",
      "    Found existing installation: nvidia-cuda-nvrtc-cu12 12.5.82\n",
      "    Uninstalling nvidia-cuda-nvrtc-cu12-12.5.82:\n",
      "      Successfully uninstalled nvidia-cuda-nvrtc-cu12-12.5.82\n",
      "  Attempting uninstall: nvidia-cuda-cupti-cu12\n",
      "    Found existing installation: nvidia-cuda-cupti-cu12 12.5.82\n",
      "    Uninstalling nvidia-cuda-cupti-cu12-12.5.82:\n",
      "      Successfully uninstalled nvidia-cuda-cupti-cu12-12.5.82\n",
      "  Attempting uninstall: nvidia-cublas-cu12\n",
      "    Found existing installation: nvidia-cublas-cu12 12.5.3.2\n",
      "    Uninstalling nvidia-cublas-cu12-12.5.3.2:\n",
      "      Successfully uninstalled nvidia-cublas-cu12-12.5.3.2\n",
      "  Attempting uninstall: nvidia-cusparse-cu12\n",
      "    Found existing installation: nvidia-cusparse-cu12 12.5.1.3\n",
      "    Uninstalling nvidia-cusparse-cu12-12.5.1.3:\n",
      "      Successfully uninstalled nvidia-cusparse-cu12-12.5.1.3\n",
      "  Attempting uninstall: nvidia-cudnn-cu12\n",
      "    Found existing installation: nvidia-cudnn-cu12 9.3.0.75\n",
      "    Uninstalling nvidia-cudnn-cu12-9.3.0.75:\n",
      "      Successfully uninstalled nvidia-cudnn-cu12-9.3.0.75\n",
      "  Attempting uninstall: nvidia-cusolver-cu12\n",
      "    Found existing installation: nvidia-cusolver-cu12 11.6.3.83\n",
      "    Uninstalling nvidia-cusolver-cu12-11.6.3.83:\n",
      "      Successfully uninstalled nvidia-cusolver-cu12-11.6.3.83\n",
      "Successfully installed datasets-3.4.0 dill-0.3.8 lightning-utilities-0.14.1 multiprocess-0.70.16 nvidia-cublas-cu12-12.4.5.8 nvidia-cuda-cupti-cu12-12.4.127 nvidia-cuda-nvrtc-cu12-12.4.127 nvidia-cuda-runtime-cu12-12.4.127 nvidia-cudnn-cu12-9.1.0.70 nvidia-cufft-cu12-11.2.1.3 nvidia-curand-cu12-10.3.5.147 nvidia-cusolver-cu12-11.6.1.9 nvidia-cusparse-cu12-12.3.1.170 nvidia-nvjitlink-cu12-12.4.127 torchmetrics-1.6.3 xxhash-3.5.0\n"
     ]
    },
    {
     "data": {
      "application/vnd.colab-display-data+json": {
       "id": "4df12eb07b034f50987d67f1493a5e50",
       "pip_warning": {
        "packages": [
         "nvidia"
        ]
       }
      }
     },
     "metadata": {},
     "output_type": "display_data"
    }
   ],
   "source": [
    "!pip install transformers datasets torch torchmetrics scikit-learn"
   ]
  },
  {
   "cell_type": "markdown",
   "id": "MxGg-yzQS9wz",
   "metadata": {
    "id": "MxGg-yzQS9wz"
   },
   "source": [
    "### Importing Necessary Libraries\n",
    "Here we import PyTorch and the transformers package from Hugging Face to put up a pipeline to refine a BERT model for text classification. WE imported the pre-trained BertForSequenceClassification model, establishing a custom Dataset for data handling, and employing BertTokenizerFast for effective text tokenization.  While AdamW serves as the optimizer with weight decay, the DataLoader controls batching during training.  TrainingArguments enable adjusting hyperparameters such as batch size and learning rate, while the Trainer class streamlines the training procedure."
   ]
  },
  {
   "cell_type": "code",
   "execution_count": 1,
   "id": "vs1Bmf6TR-a2",
   "metadata": {
    "id": "vs1Bmf6TR-a2"
   },
   "outputs": [],
   "source": [
    "import torch\n",
    "from transformers import BertTokenizerFast\n",
    "from torch.utils.data import Dataset\n",
    "from transformers import BertForSequenceClassification\n",
    "#from torch.utils.data import DataLoader\n",
    "from transformers import AdamW\n",
    "from transformers import Trainer, TrainingArguments"
   ]
  },
  {
   "cell_type": "markdown",
   "id": "N72ORGuQTZsR",
   "metadata": {
    "id": "N72ORGuQTZsR"
   },
   "source": [
    "### Load Dataset\n",
    "From dataset we use only text and target columns, and the target labels specify if the tweet is about a disaster (1) or not. We will use 80% of the dataset for training, while the remaining 20% is used for validation."
   ]
  },
  {
   "cell_type": "code",
   "execution_count": 5,
   "id": "qoDNthsi8E80",
   "metadata": {
    "id": "qoDNthsi8E80"
   },
   "outputs": [],
   "source": [
    "# Load Disaster Tweets Dataset\n",
    "df = pd.read_csv(\"train.csv\")\n",
    "\n",
    "# Select 'text' and 'target' columns form dataset\n",
    "df = df[['text', 'target']]\n",
    "\n",
    "# Split dataset into Train and Test sets\n",
    "texts_train, texts_val, labels_train, labels_val = train_test_split(df['text'].tolist(), df['target'].tolist(),\n",
    "                                                                    test_size=0.2, random_state=42)"
   ]
  },
  {
   "cell_type": "markdown",
   "id": "d76b6a16",
   "metadata": {
    "id": "d76b6a16"
   },
   "source": [
    "### Prepare Dataset\n",
    "Here then we tokenized the text using a pre-trained BERT tokenizer (bert-base-uncased), which truncates and pads the sequences to a predetermined length of 128 tokens.  Then transform the corresponding labels into tensors for training and assessment, and transform the tokenized text and attention masks into PyTorch tensors for model input."
   ]
  },
  {
   "cell_type": "code",
   "execution_count": 6,
   "id": "ca0bbf98",
   "metadata": {
    "colab": {
     "base_uri": "https://localhost:8080/",
     "height": 269,
     "referenced_widgets": [
      "57cfedf2e6124d74adbad2fc9aa9e6bc",
      "de284f9ac13640db9809af228f89c933",
      "e10a37eb712f4b3ab3d4c3f124c4e39f",
      "b0ba07d5ac294005891188ddd4051e79",
      "aa7697e8fcd24fb8a023c870cef76ebc",
      "4e624f1ea1934cc782c598c78a404ff0",
      "543700d6cfa84407919e0777ecbd5e3c",
      "561f99d80707419db5a4cfc09567fbb3",
      "d4ead761000942e19d6e5235d345d627",
      "7fcf06e61af247e9a9c2c6eeb5c118b2",
      "bfe40e9aa2594535afd11082855d978c",
      "3952b276b3ee4854bb628128bbc6c602",
      "5d9eedfb933f410c884aa9b19f2fda30",
      "84e7b3606b624982b3b44f1ac14f21b2",
      "4c543f3d7c94495cbecc85069e6a852a",
      "af854c33529e40b68c7475be1e8248b0",
      "02d61ca328ea4adaa47d137e641f24cd",
      "90810c0c8e2d44499afe5198c9902197",
      "da3be03cc4e2439cbfd31e156bb9bdf9",
      "d2a77f12dc2f43b3813e67b034d5d096",
      "298cc208f428432391ec38d05c1868c6",
      "c7a0a8c9f16043d8a95143d1476f697d",
      "d503b031c79740fbaf6185c4ef8817b0",
      "ce25d520f217482894e45de25cffd54e",
      "d8be3e7ecb574e4dad510d30ed7a31e4",
      "fe86ba0f0b8e41b68eb919254a119622",
      "1a08cb54a82e492189aa235bc7b195b9",
      "44e2e67726dd478e9e56baeb43525574",
      "65ecc424b7f940e7a6e5bcfcedc50e3b",
      "9162ac2e276849478008d76813938232",
      "069aee2d5cdb4686941b4064ce3a44d6",
      "db157603e5d64711a76849cab7c76eb7",
      "9ec1ac4185fa48a4887e1fa10e1b389c",
      "f4eb1b3a34774b678f62ba7df82489d8",
      "0fc24149547242d5bccd856b207d0368",
      "b6a0d831b0fa44c692df4823181061f4",
      "5f60f316f1c54dd1861f5825d1db742d",
      "994c4c4e69cc4a9b978852845bc36fd1",
      "2a5dfead3b224788853607c2b233543c",
      "957c1752ed984024986629731db5908e",
      "0253caf320cc422aa18e2bb9324cb4f8",
      "256e114d9b93400281fd3ae1b141af07",
      "51af110f7f954ff7badbe9812545d87d",
      "8c85325a161b4e9c9def4c35d1f9e194"
     ]
    },
    "id": "ca0bbf98",
    "outputId": "8ba56518-9be3-4568-fa87-add28f3f44b4"
   },
   "outputs": [
    {
     "name": "stderr",
     "output_type": "stream",
     "text": [
      "/usr/local/lib/python3.11/dist-packages/huggingface_hub/utils/_auth.py:94: UserWarning: \n",
      "The secret `HF_TOKEN` does not exist in your Colab secrets.\n",
      "To authenticate with the Hugging Face Hub, create a token in your settings tab (https://huggingface.co/settings/tokens), set it as secret in your Google Colab and restart your session.\n",
      "You will be able to reuse this secret in all of your notebooks.\n",
      "Please note that authentication is recommended but still optional to access public models or datasets.\n",
      "  warnings.warn(\n"
     ]
    },
    {
     "data": {
      "application/vnd.jupyter.widget-view+json": {
       "model_id": "57cfedf2e6124d74adbad2fc9aa9e6bc",
       "version_major": 2,
       "version_minor": 0
      },
      "text/plain": [
       "tokenizer_config.json:   0%|          | 0.00/48.0 [00:00<?, ?B/s]"
      ]
     },
     "metadata": {},
     "output_type": "display_data"
    },
    {
     "data": {
      "application/vnd.jupyter.widget-view+json": {
       "model_id": "3952b276b3ee4854bb628128bbc6c602",
       "version_major": 2,
       "version_minor": 0
      },
      "text/plain": [
       "vocab.txt:   0%|          | 0.00/232k [00:00<?, ?B/s]"
      ]
     },
     "metadata": {},
     "output_type": "display_data"
    },
    {
     "data": {
      "application/vnd.jupyter.widget-view+json": {
       "model_id": "d503b031c79740fbaf6185c4ef8817b0",
       "version_major": 2,
       "version_minor": 0
      },
      "text/plain": [
       "tokenizer.json:   0%|          | 0.00/466k [00:00<?, ?B/s]"
      ]
     },
     "metadata": {},
     "output_type": "display_data"
    },
    {
     "data": {
      "application/vnd.jupyter.widget-view+json": {
       "model_id": "f4eb1b3a34774b678f62ba7df82489d8",
       "version_major": 2,
       "version_minor": 0
      },
      "text/plain": [
       "config.json:   0%|          | 0.00/570 [00:00<?, ?B/s]"
      ]
     },
     "metadata": {},
     "output_type": "display_data"
    }
   ],
   "source": [
    "# Load pre-trained BERT tokenizer (bert-base-uncased)\n",
    "bert_tokenizer = BertTokenizerFast.from_pretrained(\"bert-base-uncased\")\n",
    "\n",
    "# Tokenize Text\n",
    "train_encodings_ = bert_tokenizer(texts_train, truncation=True, padding=True, max_length=128)\n",
    "val_encodings_ = bert_tokenizer(texts_val, truncation=True, padding=True, max_length=128)\n",
    "\n",
    "# Convert to PyTorch Tensors\n",
    "inputs_train = torch.tensor(train_encodings_[\"input_ids\"])\n",
    "masks_train = torch.tensor(train_encodings_[\"attention_mask\"])\n",
    "labels_train = torch.tensor(labels_train)\n",
    "\n",
    "inputs_val = torch.tensor(val_encodings_[\"input_ids\"])\n",
    "masks_val = torch.tensor(val_encodings_[\"attention_mask\"])\n",
    "labels_val = torch.tensor(labels_val)"
   ]
  },
  {
   "cell_type": "markdown",
   "id": "RxlneLvfT2XV",
   "metadata": {
    "id": "RxlneLvfT2XV"
   },
   "source": [
    "### Custom Dataset Creation\n",
    "Here we create custom PyTorch dataset called the PyTorchDataset to handle tokenized disaster tweets.  For model training, it makes the input token IDs, labels, and attention masks available by storing them.  _getitem_ retrieves individual samples as dictionaries with input IDs, attention masks, and labels, whereas _len_ gives the number of samples in the dataset.  Afterwards, dataset_train and dataset_val are created using this dataset, which are necessary for providing data to a PyTorch model for training and evaluation."
   ]
  },
  {
   "cell_type": "code",
   "execution_count": 7,
   "id": "jsAg52ZC8ONp",
   "metadata": {
    "id": "jsAg52ZC8ONp"
   },
   "outputs": [],
   "source": [
    "class PyTorchDataset(Dataset):\n",
    "    def __init__(self, input_ids, attention_mask, labels):\n",
    "        self.input_ids = input_ids\n",
    "        self.attention_mask = attention_mask\n",
    "        self.labels = labels\n",
    "\n",
    "    def __len__(self):\n",
    "        return len(self.labels)\n",
    "\n",
    "    def __getitem__(self, idx):\n",
    "        return {\n",
    "            \"input_ids\": self.input_ids[idx],\n",
    "            \"attention_mask\": self.attention_mask[idx],\n",
    "            \"labels\": self.labels[idx],\n",
    "        }\n",
    "\n",
    "# Create PyTorch Dataset\n",
    "dataset_train = PyTorchDataset(inputs_train, masks_train, labels_train)\n",
    "dataset_val = PyTorchDataset(inputs_val, masks_val, labels_val)"
   ]
  },
  {
   "cell_type": "markdown",
   "id": "S0mjDhoOUQ6n",
   "metadata": {
    "id": "S0mjDhoOUQ6n"
   },
   "source": [
    "### Load BERT Model\n",
    "Here we load the pre-trained BERT model to classify tweets as either disaster or non-disaster."
   ]
  },
  {
   "cell_type": "code",
   "execution_count": 8,
   "id": "OYwPQBfu8N8m",
   "metadata": {
    "colab": {
     "base_uri": "https://localhost:8080/",
     "height": 104,
     "referenced_widgets": [
      "6dd5097a8d5f49d290636f805b9f6162",
      "2535ede80b0247299925a3e34403d05a",
      "176324da8cf1495596f54869bb0eb7d0",
      "ad4786723ce54111aa339c7f2da3187c",
      "114fb6825af34f1396c8c6c08b4826df",
      "0268860126f14febae7f5aa66b0689fb",
      "19b9d74fc2d9482bb3dd56a8b7c94b34",
      "9d325ef20ff34a40878a11fc4b438168",
      "1cb1de771fb6491791d63fd8a09cba5e",
      "756640667f9e40cba5de84aef0aaf102",
      "f9a62d59fa2d45788e218e897e4840e0"
     ]
    },
    "id": "OYwPQBfu8N8m",
    "outputId": "09783df7-4d5f-435a-ec11-58cbe4451c01"
   },
   "outputs": [
    {
     "data": {
      "application/vnd.jupyter.widget-view+json": {
       "model_id": "6dd5097a8d5f49d290636f805b9f6162",
       "version_major": 2,
       "version_minor": 0
      },
      "text/plain": [
       "model.safetensors:   0%|          | 0.00/440M [00:00<?, ?B/s]"
      ]
     },
     "metadata": {},
     "output_type": "display_data"
    },
    {
     "name": "stderr",
     "output_type": "stream",
     "text": [
      "Some weights of BertForSequenceClassification were not initialized from the model checkpoint at bert-base-uncased and are newly initialized: ['classifier.bias', 'classifier.weight']\n",
      "You should probably TRAIN this model on a down-stream task to be able to use it for predictions and inference.\n"
     ]
    }
   ],
   "source": [
    "# Load BERT Model (num_label = 2: two classes disaster or non-disaster)\n",
    "BERT_model = BertForSequenceClassification.from_pretrained(\"bert-base-uncased\", num_labels=2)"
   ]
  },
  {
   "cell_type": "markdown",
   "id": "PQtR9s6LU0Az",
   "metadata": {
    "id": "PQtR9s6LU0Az"
   },
   "source": [
    "Here we will initializes the AdamW optimizer for optimizing the BERT model and configures DataLoaders for training and validation with a batch size of 16."
   ]
  },
  {
   "cell_type": "code",
   "execution_count": 9,
   "id": "SirjGEvW8Nv_",
   "metadata": {
    "colab": {
     "base_uri": "https://localhost:8080/"
    },
    "id": "SirjGEvW8Nv_",
    "outputId": "002d418e-b476-44bd-8f1b-ca70b73e5115"
   },
   "outputs": [
    {
     "name": "stderr",
     "output_type": "stream",
     "text": [
      "/usr/local/lib/python3.11/dist-packages/transformers/optimization.py:591: FutureWarning: This implementation of AdamW is deprecated and will be removed in a future version. Use the PyTorch implementation torch.optim.AdamW instead, or set `no_deprecation_warning=True` to disable this warning\n",
      "  warnings.warn(\n"
     ]
    }
   ],
   "source": [
    "# Initialize Training Batch Size\n",
    "BATCH_SIZE = 16\n",
    "\n",
    "# Data_Loader for Mini-Batches\n",
    "#train_data_loader = DataLoader(dataset_train, batch_size=BATCH_SIZE, shuffle=True)\n",
    "#val_data_loader = DataLoader(dataset_val, batch_size=BATCH_SIZE, shuffle=False)\n",
    "\n",
    "# Define AdamW Optimizer which is recommended for transformers\n",
    "adam_optimizer = AdamW(BERT_model.parameters(), lr=2e-5)"
   ]
  },
  {
   "cell_type": "markdown",
   "id": "lnUVcU67VIny",
   "metadata": {
    "id": "lnUVcU67VIny"
   },
   "source": [
    "### Define Training Arguments\n",
    "Here we will defines training arguments, sets up a Trainer with BERT for sequence classification, and initiates fine-tuning for three epochs using the AdamW optimizer. Here we need api key:\n",
    "\n",
    "We can find your API key here: https://wandb.ai/authorize"
   ]
  },
  {
   "cell_type": "code",
   "execution_count": 10,
   "id": "oDyJX1jS8bCp",
   "metadata": {
    "colab": {
     "base_uri": "https://localhost:8080/",
     "height": 554
    },
    "id": "oDyJX1jS8bCp",
    "outputId": "a154f150-4b84-4ca4-b202-611560295a79"
   },
   "outputs": [
    {
     "name": "stderr",
     "output_type": "stream",
     "text": [
      "/usr/local/lib/python3.11/dist-packages/transformers/training_args.py:1575: FutureWarning: `evaluation_strategy` is deprecated and will be removed in version 4.46 of 🤗 Transformers. Use `eval_strategy` instead\n",
      "  warnings.warn(\n",
      "\u001b[34m\u001b[1mwandb\u001b[0m: \u001b[33mWARNING\u001b[0m The `run_name` is currently set to the same value as `TrainingArguments.output_dir`. If this was not intended, please specify a different run name by setting the `TrainingArguments.run_name` parameter.\n",
      "\u001b[34m\u001b[1mwandb\u001b[0m: Using wandb-core as the SDK backend.  Please refer to https://wandb.me/wandb-core for more information.\n"
     ]
    },
    {
     "data": {
      "application/javascript": [
       "\n",
       "        window._wandbApiKey = new Promise((resolve, reject) => {\n",
       "            function loadScript(url) {\n",
       "            return new Promise(function(resolve, reject) {\n",
       "                let newScript = document.createElement(\"script\");\n",
       "                newScript.onerror = reject;\n",
       "                newScript.onload = resolve;\n",
       "                document.body.appendChild(newScript);\n",
       "                newScript.src = url;\n",
       "            });\n",
       "            }\n",
       "            loadScript(\"https://cdn.jsdelivr.net/npm/postmate/build/postmate.min.js\").then(() => {\n",
       "            const iframe = document.createElement('iframe')\n",
       "            iframe.style.cssText = \"width:0;height:0;border:none\"\n",
       "            document.body.appendChild(iframe)\n",
       "            const handshake = new Postmate({\n",
       "                container: iframe,\n",
       "                url: 'https://wandb.ai/authorize'\n",
       "            });\n",
       "            const timeout = setTimeout(() => reject(\"Couldn't auto authenticate\"), 5000)\n",
       "            handshake.then(function(child) {\n",
       "                child.on('authorize', data => {\n",
       "                    clearTimeout(timeout)\n",
       "                    resolve(data)\n",
       "                });\n",
       "            });\n",
       "            })\n",
       "        });\n",
       "    "
      ],
      "text/plain": [
       "<IPython.core.display.Javascript object>"
      ]
     },
     "metadata": {},
     "output_type": "display_data"
    },
    {
     "name": "stderr",
     "output_type": "stream",
     "text": [
      "\u001b[34m\u001b[1mwandb\u001b[0m: Logging into wandb.ai. (Learn how to deploy a W&B server locally: https://wandb.me/wandb-server)\n",
      "\u001b[34m\u001b[1mwandb\u001b[0m: You can find your API key in your browser here: https://wandb.ai/authorize\n",
      "wandb: Paste an API key from your profile and hit enter:"
     ]
    },
    {
     "name": "stdout",
     "output_type": "stream",
     "text": [
      " ··········\n"
     ]
    },
    {
     "name": "stderr",
     "output_type": "stream",
     "text": [
      "\u001b[34m\u001b[1mwandb\u001b[0m: \u001b[33mWARNING\u001b[0m If you're specifying your api key in code, ensure this code is not shared publicly.\n",
      "\u001b[34m\u001b[1mwandb\u001b[0m: \u001b[33mWARNING\u001b[0m Consider setting the WANDB_API_KEY environment variable, or running `wandb login` from the command line.\n",
      "\u001b[34m\u001b[1mwandb\u001b[0m: No netrc file found, creating one.\n",
      "\u001b[34m\u001b[1mwandb\u001b[0m: Appending key for api.wandb.ai to your netrc file: /root/.netrc\n",
      "\u001b[34m\u001b[1mwandb\u001b[0m: Currently logged in as: \u001b[33mvivekjetani83\u001b[0m (\u001b[33mvivekjetani83-hse-university\u001b[0m) to \u001b[32mhttps://api.wandb.ai\u001b[0m. Use \u001b[1m`wandb login --relogin`\u001b[0m to force relogin\n"
     ]
    },
    {
     "data": {
      "text/html": [
       "Tracking run with wandb version 0.19.8"
      ],
      "text/plain": [
       "<IPython.core.display.HTML object>"
      ]
     },
     "metadata": {},
     "output_type": "display_data"
    },
    {
     "data": {
      "text/html": [
       "Run data is saved locally in <code>/content/wandb/run-20250317_135508-8o5kpe41</code>"
      ],
      "text/plain": [
       "<IPython.core.display.HTML object>"
      ]
     },
     "metadata": {},
     "output_type": "display_data"
    },
    {
     "data": {
      "text/html": [
       "Syncing run <strong><a href='https://wandb.ai/vivekjetani83-hse-university/huggingface/runs/8o5kpe41' target=\"_blank\">./results</a></strong> to <a href='https://wandb.ai/vivekjetani83-hse-university/huggingface' target=\"_blank\">Weights & Biases</a> (<a href='https://wandb.me/developer-guide' target=\"_blank\">docs</a>)<br>"
      ],
      "text/plain": [
       "<IPython.core.display.HTML object>"
      ]
     },
     "metadata": {},
     "output_type": "display_data"
    },
    {
     "data": {
      "text/html": [
       " View project at <a href='https://wandb.ai/vivekjetani83-hse-university/huggingface' target=\"_blank\">https://wandb.ai/vivekjetani83-hse-university/huggingface</a>"
      ],
      "text/plain": [
       "<IPython.core.display.HTML object>"
      ]
     },
     "metadata": {},
     "output_type": "display_data"
    },
    {
     "data": {
      "text/html": [
       " View run at <a href='https://wandb.ai/vivekjetani83-hse-university/huggingface/runs/8o5kpe41' target=\"_blank\">https://wandb.ai/vivekjetani83-hse-university/huggingface/runs/8o5kpe41</a>"
      ],
      "text/plain": [
       "<IPython.core.display.HTML object>"
      ]
     },
     "metadata": {},
     "output_type": "display_data"
    },
    {
     "data": {
      "text/html": [
       "\n",
       "    <div>\n",
       "      \n",
       "      <progress value='1143' max='1143' style='width:300px; height:20px; vertical-align: middle;'></progress>\n",
       "      [1143/1143 05:46, Epoch 3/3]\n",
       "    </div>\n",
       "    <table border=\"1\" class=\"dataframe\">\n",
       "  <thead>\n",
       " <tr style=\"text-align: left;\">\n",
       "      <th>Epoch</th>\n",
       "      <th>Training Loss</th>\n",
       "      <th>Validation Loss</th>\n",
       "    </tr>\n",
       "  </thead>\n",
       "  <tbody>\n",
       "    <tr>\n",
       "      <td>1</td>\n",
       "      <td>0.344400</td>\n",
       "      <td>0.415334</td>\n",
       "    </tr>\n",
       "    <tr>\n",
       "      <td>2</td>\n",
       "      <td>0.342100</td>\n",
       "      <td>0.413929</td>\n",
       "    </tr>\n",
       "    <tr>\n",
       "      <td>3</td>\n",
       "      <td>0.365700</td>\n",
       "      <td>0.464766</td>\n",
       "    </tr>\n",
       "  </tbody>\n",
       "</table><p>"
      ],
      "text/plain": [
       "<IPython.core.display.HTML object>"
      ]
     },
     "metadata": {},
     "output_type": "display_data"
    },
    {
     "data": {
      "text/plain": [
       "TrainOutput(global_step=1143, training_loss=0.3983849201511106, metrics={'train_runtime': 414.3705, 'train_samples_per_second': 44.091, 'train_steps_per_second': 2.758, 'total_flos': 788654832890400.0, 'train_loss': 0.3983849201511106, 'epoch': 3.0})"
      ]
     },
     "execution_count": 10,
     "metadata": {},
     "output_type": "execute_result"
    }
   ],
   "source": [
    "# Initialize Training Arguments\n",
    "train_args = TrainingArguments(\n",
    "    output_dir=\"./results\",\n",
    "    num_train_epochs=3,\n",
    "    per_device_train_batch_size=BATCH_SIZE,\n",
    "    per_device_eval_batch_size=BATCH_SIZE,\n",
    "    warmup_steps=500,\n",
    "    weight_decay=0.01,\n",
    "    evaluation_strategy=\"epoch\",\n",
    "    logging_dir=\"./logs\",\n",
    "    logging_steps=10,\n",
    ")\n",
    "\n",
    "# Initialize ModelTrainer\n",
    "model_trainer = Trainer(\n",
    "    model=BERT_model,\n",
    "    args=train_args,\n",
    "    train_dataset=dataset_train,\n",
    "    eval_dataset=dataset_val,\n",
    "    optimizers=(adam_optimizer, None),\n",
    ")\n",
    "\n",
    "# Start Training\n",
    "model_trainer.train()"
   ]
  },
  {
   "cell_type": "markdown",
   "id": "zoeBPxGwVeUk",
   "metadata": {
    "id": "zoeBPxGwVeUk"
   },
   "source": [
    "### Evaluate Pre_trained BERT Model\n",
    "Here we will evaluate the trained BERT model, to makes predictions on the validation dataset, calculate accuracy, and outputs a thorough classification report for performance assessment."
   ]
  },
  {
   "cell_type": "code",
   "execution_count": 11,
   "id": "ja-JxFbz8bHC",
   "metadata": {
    "colab": {
     "base_uri": "https://localhost:8080/",
     "height": 191
    },
    "id": "ja-JxFbz8bHC",
    "outputId": "dafd2b0e-932a-440c-e580-75b3f8df50dc"
   },
   "outputs": [
    {
     "data": {
      "text/html": [],
      "text/plain": [
       "<IPython.core.display.HTML object>"
      ]
     },
     "metadata": {},
     "output_type": "display_data"
    },
    {
     "name": "stdout",
     "output_type": "stream",
     "text": [
      "Validation Accuracy: 0.83\n",
      "              precision    recall  f1-score   support\n",
      "\n",
      "           0       0.85      0.87      0.86       874\n",
      "           1       0.81      0.79      0.80       649\n",
      "\n",
      "    accuracy                           0.83      1523\n",
      "   macro avg       0.83      0.83      0.83      1523\n",
      "weighted avg       0.83      0.83      0.83      1523\n",
      "\n"
     ]
    }
   ],
   "source": [
    "# Get Predictions\n",
    "preds_output = model_trainer.predict(dataset_val)\n",
    "preds = torch.argmax(torch.tensor(preds_output.predictions), dim=1).numpy()\n",
    "labels = labels_val.numpy()\n",
    "\n",
    "# Compute Accuracy\n",
    "accuracy = accuracy_score(labels, preds)\n",
    "print(f\"Validation Accuracy: {round(accuracy,2)}\")\n",
    "\n",
    "# Detailed Classification Report\n",
    "print(classification_report(labels, preds))"
   ]
  },
  {
   "cell_type": "markdown",
   "id": "6VTV641CV4KR",
   "metadata": {
    "id": "6VTV641CV4KR"
   },
   "source": [
    "**BERT Model Evaluation Results**\n",
    "\n",
    "With a validation accuracy of 83.%, the refined BERT model showed excellent performance in classifying disaster tweets.  With 85% precision for non-disaster tweets and 81% precision for disaster tweets, as well as an overall F1-score of 83%, it demonstrated strong performance across both classes and a balanced trade-off between recall and precision."
   ]
  },
  {
   "cell_type": "markdown",
   "id": "977a0c9f",
   "metadata": {
    "id": "977a0c9f"
   },
   "source": [
    "### Conclusion\n",
    "Tuning a pre-trained BERT model improved disaster tweet classification greatly to 83% validation accuracy. Having balanced precision (85% non-disaster, 81% disaster) and an F1-score of 86%, the model captures context meaning very well with fewer misclassifications. Leveraging the deep contextual sense of BERT, as well as optimized tokenization and training methods, was more performant than previous models. Improvements in the future could explore deeper transformer models or domain pre-training for further improvement."
   ]
  },
  {
   "cell_type": "markdown",
   "id": "VzYXyl-TWTYx",
   "metadata": {
    "id": "VzYXyl-TWTYx"
   },
   "source": [
    "### Kaggle Submission File\n",
    "Here we use Pre-trained BERT model to predict on test data for disaster tweet classification. It builds a PyTorch dataset and DataLoader, tokenizes the text, then transforms it into tensors.  Following the model's prediction of disaster labels (0 or 1) for every tweet, the output is saved in a CSV file (submission_t3.csv) for submission."
   ]
  },
  {
   "cell_type": "code",
   "execution_count": 12,
   "id": "1zLDrwZBFweN",
   "metadata": {
    "colab": {
     "base_uri": "https://localhost:8080/",
     "height": 52
    },
    "id": "1zLDrwZBFweN",
    "outputId": "224ff946-136f-4bd3-fa39-b3ced81b2d59"
   },
   "outputs": [
    {
     "data": {
      "text/html": [],
      "text/plain": [
       "<IPython.core.display.HTML object>"
      ]
     },
     "metadata": {},
     "output_type": "display_data"
    },
    {
     "name": "stdout",
     "output_type": "stream",
     "text": [
      "[1 1 1 ... 1 1 1]\n",
      "Submission file saved as submission_t3.csv\n"
     ]
    }
   ],
   "source": [
    "# Load Kaggle test data\n",
    "test_df = pd.read_csv(\"test.csv\")\n",
    "\n",
    "# Extract text column\n",
    "test_texts = test_df[\"text\"].tolist()\n",
    "\n",
    "# Load Pre-Trained Tokenizer\n",
    "tokenizer = BertTokenizerFast.from_pretrained(\"bert-base-uncased\")\n",
    "\n",
    "# Tokenize Test Data\n",
    "test_encodings = tokenizer(test_texts, truncation=True, padding=True, max_length=128)\n",
    "\n",
    "# Convert to PyTorch Tensors\n",
    "test_inputs = torch.tensor(test_encodings[\"input_ids\"])\n",
    "test_masks = torch.tensor(test_encodings[\"attention_mask\"])\n",
    "\n",
    "# Create PyTorch Dataset for test data\n",
    "class TestTweetDataset(torch.utils.data.Dataset):\n",
    "    def __init__(self, input_ids, attention_mask):\n",
    "        self.input_ids = input_ids\n",
    "        self.attention_mask = attention_mask\n",
    "\n",
    "    def __len__(self):\n",
    "        return len(self.input_ids)\n",
    "\n",
    "    def __getitem__(self, idx):\n",
    "        return {\n",
    "            \"input_ids\": self.input_ids[idx],\n",
    "            \"attention_mask\": self.attention_mask[idx],\n",
    "        }\n",
    "\n",
    "test_dataset = TestTweetDataset(test_inputs, test_masks)\n",
    "\n",
    "# DataLoader for test data\n",
    "#test_loader = torch.utils.data.DataLoader(test_dataset, batch_size=16, shuffle=False)\n",
    "\n",
    "# Make Predictions\n",
    "# Get Predictions\n",
    "preds_output = model_trainer.predict(test_dataset)\n",
    "preds_ = torch.argmax(torch.tensor(preds_output.predictions), dim=1).numpy()\n",
    "print(preds_)\n",
    "# Prepare submission\n",
    "submission = pd.DataFrame({\"id\": test_df[\"id\"], \"target\": preds_})\n",
    "\n",
    "# Save to CSV\n",
    "submission.to_csv(\"submission_t3.csv\", index=False)\n",
    "\n",
    "print(\"Submission file saved as submission_t3.csv\")"
   ]
  },
  {
   "cell_type": "markdown",
   "id": "6f7d73e6",
   "metadata": {
    "id": "6f7d73e6"
   },
   "source": [
    "# Final Conclusion\n",
    "In this Tweet Text Classification task, we have learned various machine learning and deep learning models for disaster tweet classification and compared LSTM, RNN, GRU, and fine-tuned BERT. The GRU and RNN models were not good against class imbalance and disaster tweet recall, while the LSTM model was decent with an accuracy of 79%. Fine-tuning the pre-trained BERT model performed best among all the approaches with 83% validation accuracy and balanced precision and recall. It demonstrates how robust transformer-based models are for text classification since they are capable of learning contextual meaning and dependency. The future work for improvement can be attempting to utilize larger pre-trained models, hyperparameter tuning, and data augmentation techniques to further improve the classification."
   ]
  },
  {
   "cell_type": "code",
   "execution_count": null,
   "id": "9683b84e",
   "metadata": {
    "id": "9683b84e"
   },
   "outputs": [],
   "source": []
  }
 ],
 "metadata": {
  "accelerator": "GPU",
  "colab": {
   "gpuType": "T4",
   "provenance": []
  },
  "kernelspec": {
   "display_name": "Python 3 (ipykernel)",
   "language": "python",
   "name": "python3"
  },
  "language_info": {
   "codemirror_mode": {
    "name": "ipython",
    "version": 3
   },
   "file_extension": ".py",
   "mimetype": "text/x-python",
   "name": "python",
   "nbconvert_exporter": "python",
   "pygments_lexer": "ipython3",
   "version": "3.9.12"
  },
  "widgets": {
   "application/vnd.jupyter.widget-state+json": {
    "0253caf320cc422aa18e2bb9324cb4f8": {
     "model_module": "@jupyter-widgets/base",
     "model_module_version": "1.2.0",
     "model_name": "LayoutModel",
     "state": {
      "_model_module": "@jupyter-widgets/base",
      "_model_module_version": "1.2.0",
      "_model_name": "LayoutModel",
      "_view_count": null,
      "_view_module": "@jupyter-widgets/base",
      "_view_module_version": "1.2.0",
      "_view_name": "LayoutView",
      "align_content": null,
      "align_items": null,
      "align_self": null,
      "border": null,
      "bottom": null,
      "display": null,
      "flex": null,
      "flex_flow": null,
      "grid_area": null,
      "grid_auto_columns": null,
      "grid_auto_flow": null,
      "grid_auto_rows": null,
      "grid_column": null,
      "grid_gap": null,
      "grid_row": null,
      "grid_template_areas": null,
      "grid_template_columns": null,
      "grid_template_rows": null,
      "height": null,
      "justify_content": null,
      "justify_items": null,
      "left": null,
      "margin": null,
      "max_height": null,
      "max_width": null,
      "min_height": null,
      "min_width": null,
      "object_fit": null,
      "object_position": null,
      "order": null,
      "overflow": null,
      "overflow_x": null,
      "overflow_y": null,
      "padding": null,
      "right": null,
      "top": null,
      "visibility": null,
      "width": null
     }
    },
    "0268860126f14febae7f5aa66b0689fb": {
     "model_module": "@jupyter-widgets/base",
     "model_module_version": "1.2.0",
     "model_name": "LayoutModel",
     "state": {
      "_model_module": "@jupyter-widgets/base",
      "_model_module_version": "1.2.0",
      "_model_name": "LayoutModel",
      "_view_count": null,
      "_view_module": "@jupyter-widgets/base",
      "_view_module_version": "1.2.0",
      "_view_name": "LayoutView",
      "align_content": null,
      "align_items": null,
      "align_self": null,
      "border": null,
      "bottom": null,
      "display": null,
      "flex": null,
      "flex_flow": null,
      "grid_area": null,
      "grid_auto_columns": null,
      "grid_auto_flow": null,
      "grid_auto_rows": null,
      "grid_column": null,
      "grid_gap": null,
      "grid_row": null,
      "grid_template_areas": null,
      "grid_template_columns": null,
      "grid_template_rows": null,
      "height": null,
      "justify_content": null,
      "justify_items": null,
      "left": null,
      "margin": null,
      "max_height": null,
      "max_width": null,
      "min_height": null,
      "min_width": null,
      "object_fit": null,
      "object_position": null,
      "order": null,
      "overflow": null,
      "overflow_x": null,
      "overflow_y": null,
      "padding": null,
      "right": null,
      "top": null,
      "visibility": null,
      "width": null
     }
    },
    "02d61ca328ea4adaa47d137e641f24cd": {
     "model_module": "@jupyter-widgets/base",
     "model_module_version": "1.2.0",
     "model_name": "LayoutModel",
     "state": {
      "_model_module": "@jupyter-widgets/base",
      "_model_module_version": "1.2.0",
      "_model_name": "LayoutModel",
      "_view_count": null,
      "_view_module": "@jupyter-widgets/base",
      "_view_module_version": "1.2.0",
      "_view_name": "LayoutView",
      "align_content": null,
      "align_items": null,
      "align_self": null,
      "border": null,
      "bottom": null,
      "display": null,
      "flex": null,
      "flex_flow": null,
      "grid_area": null,
      "grid_auto_columns": null,
      "grid_auto_flow": null,
      "grid_auto_rows": null,
      "grid_column": null,
      "grid_gap": null,
      "grid_row": null,
      "grid_template_areas": null,
      "grid_template_columns": null,
      "grid_template_rows": null,
      "height": null,
      "justify_content": null,
      "justify_items": null,
      "left": null,
      "margin": null,
      "max_height": null,
      "max_width": null,
      "min_height": null,
      "min_width": null,
      "object_fit": null,
      "object_position": null,
      "order": null,
      "overflow": null,
      "overflow_x": null,
      "overflow_y": null,
      "padding": null,
      "right": null,
      "top": null,
      "visibility": null,
      "width": null
     }
    },
    "069aee2d5cdb4686941b4064ce3a44d6": {
     "model_module": "@jupyter-widgets/controls",
     "model_module_version": "1.5.0",
     "model_name": "ProgressStyleModel",
     "state": {
      "_model_module": "@jupyter-widgets/controls",
      "_model_module_version": "1.5.0",
      "_model_name": "ProgressStyleModel",
      "_view_count": null,
      "_view_module": "@jupyter-widgets/base",
      "_view_module_version": "1.2.0",
      "_view_name": "StyleView",
      "bar_color": null,
      "description_width": ""
     }
    },
    "0fc24149547242d5bccd856b207d0368": {
     "model_module": "@jupyter-widgets/controls",
     "model_module_version": "1.5.0",
     "model_name": "HTMLModel",
     "state": {
      "_dom_classes": [],
      "_model_module": "@jupyter-widgets/controls",
      "_model_module_version": "1.5.0",
      "_model_name": "HTMLModel",
      "_view_count": null,
      "_view_module": "@jupyter-widgets/controls",
      "_view_module_version": "1.5.0",
      "_view_name": "HTMLView",
      "description": "",
      "description_tooltip": null,
      "layout": "IPY_MODEL_2a5dfead3b224788853607c2b233543c",
      "placeholder": "​",
      "style": "IPY_MODEL_957c1752ed984024986629731db5908e",
      "value": "config.json: 100%"
     }
    },
    "114fb6825af34f1396c8c6c08b4826df": {
     "model_module": "@jupyter-widgets/base",
     "model_module_version": "1.2.0",
     "model_name": "LayoutModel",
     "state": {
      "_model_module": "@jupyter-widgets/base",
      "_model_module_version": "1.2.0",
      "_model_name": "LayoutModel",
      "_view_count": null,
      "_view_module": "@jupyter-widgets/base",
      "_view_module_version": "1.2.0",
      "_view_name": "LayoutView",
      "align_content": null,
      "align_items": null,
      "align_self": null,
      "border": null,
      "bottom": null,
      "display": null,
      "flex": null,
      "flex_flow": null,
      "grid_area": null,
      "grid_auto_columns": null,
      "grid_auto_flow": null,
      "grid_auto_rows": null,
      "grid_column": null,
      "grid_gap": null,
      "grid_row": null,
      "grid_template_areas": null,
      "grid_template_columns": null,
      "grid_template_rows": null,
      "height": null,
      "justify_content": null,
      "justify_items": null,
      "left": null,
      "margin": null,
      "max_height": null,
      "max_width": null,
      "min_height": null,
      "min_width": null,
      "object_fit": null,
      "object_position": null,
      "order": null,
      "overflow": null,
      "overflow_x": null,
      "overflow_y": null,
      "padding": null,
      "right": null,
      "top": null,
      "visibility": null,
      "width": null
     }
    },
    "176324da8cf1495596f54869bb0eb7d0": {
     "model_module": "@jupyter-widgets/controls",
     "model_module_version": "1.5.0",
     "model_name": "FloatProgressModel",
     "state": {
      "_dom_classes": [],
      "_model_module": "@jupyter-widgets/controls",
      "_model_module_version": "1.5.0",
      "_model_name": "FloatProgressModel",
      "_view_count": null,
      "_view_module": "@jupyter-widgets/controls",
      "_view_module_version": "1.5.0",
      "_view_name": "ProgressView",
      "bar_style": "success",
      "description": "",
      "description_tooltip": null,
      "layout": "IPY_MODEL_9d325ef20ff34a40878a11fc4b438168",
      "max": 440449768,
      "min": 0,
      "orientation": "horizontal",
      "style": "IPY_MODEL_1cb1de771fb6491791d63fd8a09cba5e",
      "value": 440449768
     }
    },
    "19b9d74fc2d9482bb3dd56a8b7c94b34": {
     "model_module": "@jupyter-widgets/controls",
     "model_module_version": "1.5.0",
     "model_name": "DescriptionStyleModel",
     "state": {
      "_model_module": "@jupyter-widgets/controls",
      "_model_module_version": "1.5.0",
      "_model_name": "DescriptionStyleModel",
      "_view_count": null,
      "_view_module": "@jupyter-widgets/base",
      "_view_module_version": "1.2.0",
      "_view_name": "StyleView",
      "description_width": ""
     }
    },
    "1a08cb54a82e492189aa235bc7b195b9": {
     "model_module": "@jupyter-widgets/base",
     "model_module_version": "1.2.0",
     "model_name": "LayoutModel",
     "state": {
      "_model_module": "@jupyter-widgets/base",
      "_model_module_version": "1.2.0",
      "_model_name": "LayoutModel",
      "_view_count": null,
      "_view_module": "@jupyter-widgets/base",
      "_view_module_version": "1.2.0",
      "_view_name": "LayoutView",
      "align_content": null,
      "align_items": null,
      "align_self": null,
      "border": null,
      "bottom": null,
      "display": null,
      "flex": null,
      "flex_flow": null,
      "grid_area": null,
      "grid_auto_columns": null,
      "grid_auto_flow": null,
      "grid_auto_rows": null,
      "grid_column": null,
      "grid_gap": null,
      "grid_row": null,
      "grid_template_areas": null,
      "grid_template_columns": null,
      "grid_template_rows": null,
      "height": null,
      "justify_content": null,
      "justify_items": null,
      "left": null,
      "margin": null,
      "max_height": null,
      "max_width": null,
      "min_height": null,
      "min_width": null,
      "object_fit": null,
      "object_position": null,
      "order": null,
      "overflow": null,
      "overflow_x": null,
      "overflow_y": null,
      "padding": null,
      "right": null,
      "top": null,
      "visibility": null,
      "width": null
     }
    },
    "1cb1de771fb6491791d63fd8a09cba5e": {
     "model_module": "@jupyter-widgets/controls",
     "model_module_version": "1.5.0",
     "model_name": "ProgressStyleModel",
     "state": {
      "_model_module": "@jupyter-widgets/controls",
      "_model_module_version": "1.5.0",
      "_model_name": "ProgressStyleModel",
      "_view_count": null,
      "_view_module": "@jupyter-widgets/base",
      "_view_module_version": "1.2.0",
      "_view_name": "StyleView",
      "bar_color": null,
      "description_width": ""
     }
    },
    "2535ede80b0247299925a3e34403d05a": {
     "model_module": "@jupyter-widgets/controls",
     "model_module_version": "1.5.0",
     "model_name": "HTMLModel",
     "state": {
      "_dom_classes": [],
      "_model_module": "@jupyter-widgets/controls",
      "_model_module_version": "1.5.0",
      "_model_name": "HTMLModel",
      "_view_count": null,
      "_view_module": "@jupyter-widgets/controls",
      "_view_module_version": "1.5.0",
      "_view_name": "HTMLView",
      "description": "",
      "description_tooltip": null,
      "layout": "IPY_MODEL_0268860126f14febae7f5aa66b0689fb",
      "placeholder": "​",
      "style": "IPY_MODEL_19b9d74fc2d9482bb3dd56a8b7c94b34",
      "value": "model.safetensors: 100%"
     }
    },
    "256e114d9b93400281fd3ae1b141af07": {
     "model_module": "@jupyter-widgets/controls",
     "model_module_version": "1.5.0",
     "model_name": "ProgressStyleModel",
     "state": {
      "_model_module": "@jupyter-widgets/controls",
      "_model_module_version": "1.5.0",
      "_model_name": "ProgressStyleModel",
      "_view_count": null,
      "_view_module": "@jupyter-widgets/base",
      "_view_module_version": "1.2.0",
      "_view_name": "StyleView",
      "bar_color": null,
      "description_width": ""
     }
    },
    "298cc208f428432391ec38d05c1868c6": {
     "model_module": "@jupyter-widgets/base",
     "model_module_version": "1.2.0",
     "model_name": "LayoutModel",
     "state": {
      "_model_module": "@jupyter-widgets/base",
      "_model_module_version": "1.2.0",
      "_model_name": "LayoutModel",
      "_view_count": null,
      "_view_module": "@jupyter-widgets/base",
      "_view_module_version": "1.2.0",
      "_view_name": "LayoutView",
      "align_content": null,
      "align_items": null,
      "align_self": null,
      "border": null,
      "bottom": null,
      "display": null,
      "flex": null,
      "flex_flow": null,
      "grid_area": null,
      "grid_auto_columns": null,
      "grid_auto_flow": null,
      "grid_auto_rows": null,
      "grid_column": null,
      "grid_gap": null,
      "grid_row": null,
      "grid_template_areas": null,
      "grid_template_columns": null,
      "grid_template_rows": null,
      "height": null,
      "justify_content": null,
      "justify_items": null,
      "left": null,
      "margin": null,
      "max_height": null,
      "max_width": null,
      "min_height": null,
      "min_width": null,
      "object_fit": null,
      "object_position": null,
      "order": null,
      "overflow": null,
      "overflow_x": null,
      "overflow_y": null,
      "padding": null,
      "right": null,
      "top": null,
      "visibility": null,
      "width": null
     }
    },
    "2a5dfead3b224788853607c2b233543c": {
     "model_module": "@jupyter-widgets/base",
     "model_module_version": "1.2.0",
     "model_name": "LayoutModel",
     "state": {
      "_model_module": "@jupyter-widgets/base",
      "_model_module_version": "1.2.0",
      "_model_name": "LayoutModel",
      "_view_count": null,
      "_view_module": "@jupyter-widgets/base",
      "_view_module_version": "1.2.0",
      "_view_name": "LayoutView",
      "align_content": null,
      "align_items": null,
      "align_self": null,
      "border": null,
      "bottom": null,
      "display": null,
      "flex": null,
      "flex_flow": null,
      "grid_area": null,
      "grid_auto_columns": null,
      "grid_auto_flow": null,
      "grid_auto_rows": null,
      "grid_column": null,
      "grid_gap": null,
      "grid_row": null,
      "grid_template_areas": null,
      "grid_template_columns": null,
      "grid_template_rows": null,
      "height": null,
      "justify_content": null,
      "justify_items": null,
      "left": null,
      "margin": null,
      "max_height": null,
      "max_width": null,
      "min_height": null,
      "min_width": null,
      "object_fit": null,
      "object_position": null,
      "order": null,
      "overflow": null,
      "overflow_x": null,
      "overflow_y": null,
      "padding": null,
      "right": null,
      "top": null,
      "visibility": null,
      "width": null
     }
    },
    "3952b276b3ee4854bb628128bbc6c602": {
     "model_module": "@jupyter-widgets/controls",
     "model_module_version": "1.5.0",
     "model_name": "HBoxModel",
     "state": {
      "_dom_classes": [],
      "_model_module": "@jupyter-widgets/controls",
      "_model_module_version": "1.5.0",
      "_model_name": "HBoxModel",
      "_view_count": null,
      "_view_module": "@jupyter-widgets/controls",
      "_view_module_version": "1.5.0",
      "_view_name": "HBoxView",
      "box_style": "",
      "children": [
       "IPY_MODEL_5d9eedfb933f410c884aa9b19f2fda30",
       "IPY_MODEL_84e7b3606b624982b3b44f1ac14f21b2",
       "IPY_MODEL_4c543f3d7c94495cbecc85069e6a852a"
      ],
      "layout": "IPY_MODEL_af854c33529e40b68c7475be1e8248b0"
     }
    },
    "44e2e67726dd478e9e56baeb43525574": {
     "model_module": "@jupyter-widgets/base",
     "model_module_version": "1.2.0",
     "model_name": "LayoutModel",
     "state": {
      "_model_module": "@jupyter-widgets/base",
      "_model_module_version": "1.2.0",
      "_model_name": "LayoutModel",
      "_view_count": null,
      "_view_module": "@jupyter-widgets/base",
      "_view_module_version": "1.2.0",
      "_view_name": "LayoutView",
      "align_content": null,
      "align_items": null,
      "align_self": null,
      "border": null,
      "bottom": null,
      "display": null,
      "flex": null,
      "flex_flow": null,
      "grid_area": null,
      "grid_auto_columns": null,
      "grid_auto_flow": null,
      "grid_auto_rows": null,
      "grid_column": null,
      "grid_gap": null,
      "grid_row": null,
      "grid_template_areas": null,
      "grid_template_columns": null,
      "grid_template_rows": null,
      "height": null,
      "justify_content": null,
      "justify_items": null,
      "left": null,
      "margin": null,
      "max_height": null,
      "max_width": null,
      "min_height": null,
      "min_width": null,
      "object_fit": null,
      "object_position": null,
      "order": null,
      "overflow": null,
      "overflow_x": null,
      "overflow_y": null,
      "padding": null,
      "right": null,
      "top": null,
      "visibility": null,
      "width": null
     }
    },
    "4c543f3d7c94495cbecc85069e6a852a": {
     "model_module": "@jupyter-widgets/controls",
     "model_module_version": "1.5.0",
     "model_name": "HTMLModel",
     "state": {
      "_dom_classes": [],
      "_model_module": "@jupyter-widgets/controls",
      "_model_module_version": "1.5.0",
      "_model_name": "HTMLModel",
      "_view_count": null,
      "_view_module": "@jupyter-widgets/controls",
      "_view_module_version": "1.5.0",
      "_view_name": "HTMLView",
      "description": "",
      "description_tooltip": null,
      "layout": "IPY_MODEL_298cc208f428432391ec38d05c1868c6",
      "placeholder": "​",
      "style": "IPY_MODEL_c7a0a8c9f16043d8a95143d1476f697d",
      "value": " 232k/232k [00:00&lt;00:00, 10.0MB/s]"
     }
    },
    "4e624f1ea1934cc782c598c78a404ff0": {
     "model_module": "@jupyter-widgets/base",
     "model_module_version": "1.2.0",
     "model_name": "LayoutModel",
     "state": {
      "_model_module": "@jupyter-widgets/base",
      "_model_module_version": "1.2.0",
      "_model_name": "LayoutModel",
      "_view_count": null,
      "_view_module": "@jupyter-widgets/base",
      "_view_module_version": "1.2.0",
      "_view_name": "LayoutView",
      "align_content": null,
      "align_items": null,
      "align_self": null,
      "border": null,
      "bottom": null,
      "display": null,
      "flex": null,
      "flex_flow": null,
      "grid_area": null,
      "grid_auto_columns": null,
      "grid_auto_flow": null,
      "grid_auto_rows": null,
      "grid_column": null,
      "grid_gap": null,
      "grid_row": null,
      "grid_template_areas": null,
      "grid_template_columns": null,
      "grid_template_rows": null,
      "height": null,
      "justify_content": null,
      "justify_items": null,
      "left": null,
      "margin": null,
      "max_height": null,
      "max_width": null,
      "min_height": null,
      "min_width": null,
      "object_fit": null,
      "object_position": null,
      "order": null,
      "overflow": null,
      "overflow_x": null,
      "overflow_y": null,
      "padding": null,
      "right": null,
      "top": null,
      "visibility": null,
      "width": null
     }
    },
    "51af110f7f954ff7badbe9812545d87d": {
     "model_module": "@jupyter-widgets/base",
     "model_module_version": "1.2.0",
     "model_name": "LayoutModel",
     "state": {
      "_model_module": "@jupyter-widgets/base",
      "_model_module_version": "1.2.0",
      "_model_name": "LayoutModel",
      "_view_count": null,
      "_view_module": "@jupyter-widgets/base",
      "_view_module_version": "1.2.0",
      "_view_name": "LayoutView",
      "align_content": null,
      "align_items": null,
      "align_self": null,
      "border": null,
      "bottom": null,
      "display": null,
      "flex": null,
      "flex_flow": null,
      "grid_area": null,
      "grid_auto_columns": null,
      "grid_auto_flow": null,
      "grid_auto_rows": null,
      "grid_column": null,
      "grid_gap": null,
      "grid_row": null,
      "grid_template_areas": null,
      "grid_template_columns": null,
      "grid_template_rows": null,
      "height": null,
      "justify_content": null,
      "justify_items": null,
      "left": null,
      "margin": null,
      "max_height": null,
      "max_width": null,
      "min_height": null,
      "min_width": null,
      "object_fit": null,
      "object_position": null,
      "order": null,
      "overflow": null,
      "overflow_x": null,
      "overflow_y": null,
      "padding": null,
      "right": null,
      "top": null,
      "visibility": null,
      "width": null
     }
    },
    "543700d6cfa84407919e0777ecbd5e3c": {
     "model_module": "@jupyter-widgets/controls",
     "model_module_version": "1.5.0",
     "model_name": "DescriptionStyleModel",
     "state": {
      "_model_module": "@jupyter-widgets/controls",
      "_model_module_version": "1.5.0",
      "_model_name": "DescriptionStyleModel",
      "_view_count": null,
      "_view_module": "@jupyter-widgets/base",
      "_view_module_version": "1.2.0",
      "_view_name": "StyleView",
      "description_width": ""
     }
    },
    "561f99d80707419db5a4cfc09567fbb3": {
     "model_module": "@jupyter-widgets/base",
     "model_module_version": "1.2.0",
     "model_name": "LayoutModel",
     "state": {
      "_model_module": "@jupyter-widgets/base",
      "_model_module_version": "1.2.0",
      "_model_name": "LayoutModel",
      "_view_count": null,
      "_view_module": "@jupyter-widgets/base",
      "_view_module_version": "1.2.0",
      "_view_name": "LayoutView",
      "align_content": null,
      "align_items": null,
      "align_self": null,
      "border": null,
      "bottom": null,
      "display": null,
      "flex": null,
      "flex_flow": null,
      "grid_area": null,
      "grid_auto_columns": null,
      "grid_auto_flow": null,
      "grid_auto_rows": null,
      "grid_column": null,
      "grid_gap": null,
      "grid_row": null,
      "grid_template_areas": null,
      "grid_template_columns": null,
      "grid_template_rows": null,
      "height": null,
      "justify_content": null,
      "justify_items": null,
      "left": null,
      "margin": null,
      "max_height": null,
      "max_width": null,
      "min_height": null,
      "min_width": null,
      "object_fit": null,
      "object_position": null,
      "order": null,
      "overflow": null,
      "overflow_x": null,
      "overflow_y": null,
      "padding": null,
      "right": null,
      "top": null,
      "visibility": null,
      "width": null
     }
    },
    "57cfedf2e6124d74adbad2fc9aa9e6bc": {
     "model_module": "@jupyter-widgets/controls",
     "model_module_version": "1.5.0",
     "model_name": "HBoxModel",
     "state": {
      "_dom_classes": [],
      "_model_module": "@jupyter-widgets/controls",
      "_model_module_version": "1.5.0",
      "_model_name": "HBoxModel",
      "_view_count": null,
      "_view_module": "@jupyter-widgets/controls",
      "_view_module_version": "1.5.0",
      "_view_name": "HBoxView",
      "box_style": "",
      "children": [
       "IPY_MODEL_de284f9ac13640db9809af228f89c933",
       "IPY_MODEL_e10a37eb712f4b3ab3d4c3f124c4e39f",
       "IPY_MODEL_b0ba07d5ac294005891188ddd4051e79"
      ],
      "layout": "IPY_MODEL_aa7697e8fcd24fb8a023c870cef76ebc"
     }
    },
    "5d9eedfb933f410c884aa9b19f2fda30": {
     "model_module": "@jupyter-widgets/controls",
     "model_module_version": "1.5.0",
     "model_name": "HTMLModel",
     "state": {
      "_dom_classes": [],
      "_model_module": "@jupyter-widgets/controls",
      "_model_module_version": "1.5.0",
      "_model_name": "HTMLModel",
      "_view_count": null,
      "_view_module": "@jupyter-widgets/controls",
      "_view_module_version": "1.5.0",
      "_view_name": "HTMLView",
      "description": "",
      "description_tooltip": null,
      "layout": "IPY_MODEL_02d61ca328ea4adaa47d137e641f24cd",
      "placeholder": "​",
      "style": "IPY_MODEL_90810c0c8e2d44499afe5198c9902197",
      "value": "vocab.txt: 100%"
     }
    },
    "5f60f316f1c54dd1861f5825d1db742d": {
     "model_module": "@jupyter-widgets/controls",
     "model_module_version": "1.5.0",
     "model_name": "HTMLModel",
     "state": {
      "_dom_classes": [],
      "_model_module": "@jupyter-widgets/controls",
      "_model_module_version": "1.5.0",
      "_model_name": "HTMLModel",
      "_view_count": null,
      "_view_module": "@jupyter-widgets/controls",
      "_view_module_version": "1.5.0",
      "_view_name": "HTMLView",
      "description": "",
      "description_tooltip": null,
      "layout": "IPY_MODEL_51af110f7f954ff7badbe9812545d87d",
      "placeholder": "​",
      "style": "IPY_MODEL_8c85325a161b4e9c9def4c35d1f9e194",
      "value": " 570/570 [00:00&lt;00:00, 45.2kB/s]"
     }
    },
    "65ecc424b7f940e7a6e5bcfcedc50e3b": {
     "model_module": "@jupyter-widgets/controls",
     "model_module_version": "1.5.0",
     "model_name": "DescriptionStyleModel",
     "state": {
      "_model_module": "@jupyter-widgets/controls",
      "_model_module_version": "1.5.0",
      "_model_name": "DescriptionStyleModel",
      "_view_count": null,
      "_view_module": "@jupyter-widgets/base",
      "_view_module_version": "1.2.0",
      "_view_name": "StyleView",
      "description_width": ""
     }
    },
    "6dd5097a8d5f49d290636f805b9f6162": {
     "model_module": "@jupyter-widgets/controls",
     "model_module_version": "1.5.0",
     "model_name": "HBoxModel",
     "state": {
      "_dom_classes": [],
      "_model_module": "@jupyter-widgets/controls",
      "_model_module_version": "1.5.0",
      "_model_name": "HBoxModel",
      "_view_count": null,
      "_view_module": "@jupyter-widgets/controls",
      "_view_module_version": "1.5.0",
      "_view_name": "HBoxView",
      "box_style": "",
      "children": [
       "IPY_MODEL_2535ede80b0247299925a3e34403d05a",
       "IPY_MODEL_176324da8cf1495596f54869bb0eb7d0",
       "IPY_MODEL_ad4786723ce54111aa339c7f2da3187c"
      ],
      "layout": "IPY_MODEL_114fb6825af34f1396c8c6c08b4826df"
     }
    },
    "756640667f9e40cba5de84aef0aaf102": {
     "model_module": "@jupyter-widgets/base",
     "model_module_version": "1.2.0",
     "model_name": "LayoutModel",
     "state": {
      "_model_module": "@jupyter-widgets/base",
      "_model_module_version": "1.2.0",
      "_model_name": "LayoutModel",
      "_view_count": null,
      "_view_module": "@jupyter-widgets/base",
      "_view_module_version": "1.2.0",
      "_view_name": "LayoutView",
      "align_content": null,
      "align_items": null,
      "align_self": null,
      "border": null,
      "bottom": null,
      "display": null,
      "flex": null,
      "flex_flow": null,
      "grid_area": null,
      "grid_auto_columns": null,
      "grid_auto_flow": null,
      "grid_auto_rows": null,
      "grid_column": null,
      "grid_gap": null,
      "grid_row": null,
      "grid_template_areas": null,
      "grid_template_columns": null,
      "grid_template_rows": null,
      "height": null,
      "justify_content": null,
      "justify_items": null,
      "left": null,
      "margin": null,
      "max_height": null,
      "max_width": null,
      "min_height": null,
      "min_width": null,
      "object_fit": null,
      "object_position": null,
      "order": null,
      "overflow": null,
      "overflow_x": null,
      "overflow_y": null,
      "padding": null,
      "right": null,
      "top": null,
      "visibility": null,
      "width": null
     }
    },
    "7fcf06e61af247e9a9c2c6eeb5c118b2": {
     "model_module": "@jupyter-widgets/base",
     "model_module_version": "1.2.0",
     "model_name": "LayoutModel",
     "state": {
      "_model_module": "@jupyter-widgets/base",
      "_model_module_version": "1.2.0",
      "_model_name": "LayoutModel",
      "_view_count": null,
      "_view_module": "@jupyter-widgets/base",
      "_view_module_version": "1.2.0",
      "_view_name": "LayoutView",
      "align_content": null,
      "align_items": null,
      "align_self": null,
      "border": null,
      "bottom": null,
      "display": null,
      "flex": null,
      "flex_flow": null,
      "grid_area": null,
      "grid_auto_columns": null,
      "grid_auto_flow": null,
      "grid_auto_rows": null,
      "grid_column": null,
      "grid_gap": null,
      "grid_row": null,
      "grid_template_areas": null,
      "grid_template_columns": null,
      "grid_template_rows": null,
      "height": null,
      "justify_content": null,
      "justify_items": null,
      "left": null,
      "margin": null,
      "max_height": null,
      "max_width": null,
      "min_height": null,
      "min_width": null,
      "object_fit": null,
      "object_position": null,
      "order": null,
      "overflow": null,
      "overflow_x": null,
      "overflow_y": null,
      "padding": null,
      "right": null,
      "top": null,
      "visibility": null,
      "width": null
     }
    },
    "84e7b3606b624982b3b44f1ac14f21b2": {
     "model_module": "@jupyter-widgets/controls",
     "model_module_version": "1.5.0",
     "model_name": "FloatProgressModel",
     "state": {
      "_dom_classes": [],
      "_model_module": "@jupyter-widgets/controls",
      "_model_module_version": "1.5.0",
      "_model_name": "FloatProgressModel",
      "_view_count": null,
      "_view_module": "@jupyter-widgets/controls",
      "_view_module_version": "1.5.0",
      "_view_name": "ProgressView",
      "bar_style": "success",
      "description": "",
      "description_tooltip": null,
      "layout": "IPY_MODEL_da3be03cc4e2439cbfd31e156bb9bdf9",
      "max": 231508,
      "min": 0,
      "orientation": "horizontal",
      "style": "IPY_MODEL_d2a77f12dc2f43b3813e67b034d5d096",
      "value": 231508
     }
    },
    "8c85325a161b4e9c9def4c35d1f9e194": {
     "model_module": "@jupyter-widgets/controls",
     "model_module_version": "1.5.0",
     "model_name": "DescriptionStyleModel",
     "state": {
      "_model_module": "@jupyter-widgets/controls",
      "_model_module_version": "1.5.0",
      "_model_name": "DescriptionStyleModel",
      "_view_count": null,
      "_view_module": "@jupyter-widgets/base",
      "_view_module_version": "1.2.0",
      "_view_name": "StyleView",
      "description_width": ""
     }
    },
    "90810c0c8e2d44499afe5198c9902197": {
     "model_module": "@jupyter-widgets/controls",
     "model_module_version": "1.5.0",
     "model_name": "DescriptionStyleModel",
     "state": {
      "_model_module": "@jupyter-widgets/controls",
      "_model_module_version": "1.5.0",
      "_model_name": "DescriptionStyleModel",
      "_view_count": null,
      "_view_module": "@jupyter-widgets/base",
      "_view_module_version": "1.2.0",
      "_view_name": "StyleView",
      "description_width": ""
     }
    },
    "9162ac2e276849478008d76813938232": {
     "model_module": "@jupyter-widgets/base",
     "model_module_version": "1.2.0",
     "model_name": "LayoutModel",
     "state": {
      "_model_module": "@jupyter-widgets/base",
      "_model_module_version": "1.2.0",
      "_model_name": "LayoutModel",
      "_view_count": null,
      "_view_module": "@jupyter-widgets/base",
      "_view_module_version": "1.2.0",
      "_view_name": "LayoutView",
      "align_content": null,
      "align_items": null,
      "align_self": null,
      "border": null,
      "bottom": null,
      "display": null,
      "flex": null,
      "flex_flow": null,
      "grid_area": null,
      "grid_auto_columns": null,
      "grid_auto_flow": null,
      "grid_auto_rows": null,
      "grid_column": null,
      "grid_gap": null,
      "grid_row": null,
      "grid_template_areas": null,
      "grid_template_columns": null,
      "grid_template_rows": null,
      "height": null,
      "justify_content": null,
      "justify_items": null,
      "left": null,
      "margin": null,
      "max_height": null,
      "max_width": null,
      "min_height": null,
      "min_width": null,
      "object_fit": null,
      "object_position": null,
      "order": null,
      "overflow": null,
      "overflow_x": null,
      "overflow_y": null,
      "padding": null,
      "right": null,
      "top": null,
      "visibility": null,
      "width": null
     }
    },
    "957c1752ed984024986629731db5908e": {
     "model_module": "@jupyter-widgets/controls",
     "model_module_version": "1.5.0",
     "model_name": "DescriptionStyleModel",
     "state": {
      "_model_module": "@jupyter-widgets/controls",
      "_model_module_version": "1.5.0",
      "_model_name": "DescriptionStyleModel",
      "_view_count": null,
      "_view_module": "@jupyter-widgets/base",
      "_view_module_version": "1.2.0",
      "_view_name": "StyleView",
      "description_width": ""
     }
    },
    "994c4c4e69cc4a9b978852845bc36fd1": {
     "model_module": "@jupyter-widgets/base",
     "model_module_version": "1.2.0",
     "model_name": "LayoutModel",
     "state": {
      "_model_module": "@jupyter-widgets/base",
      "_model_module_version": "1.2.0",
      "_model_name": "LayoutModel",
      "_view_count": null,
      "_view_module": "@jupyter-widgets/base",
      "_view_module_version": "1.2.0",
      "_view_name": "LayoutView",
      "align_content": null,
      "align_items": null,
      "align_self": null,
      "border": null,
      "bottom": null,
      "display": null,
      "flex": null,
      "flex_flow": null,
      "grid_area": null,
      "grid_auto_columns": null,
      "grid_auto_flow": null,
      "grid_auto_rows": null,
      "grid_column": null,
      "grid_gap": null,
      "grid_row": null,
      "grid_template_areas": null,
      "grid_template_columns": null,
      "grid_template_rows": null,
      "height": null,
      "justify_content": null,
      "justify_items": null,
      "left": null,
      "margin": null,
      "max_height": null,
      "max_width": null,
      "min_height": null,
      "min_width": null,
      "object_fit": null,
      "object_position": null,
      "order": null,
      "overflow": null,
      "overflow_x": null,
      "overflow_y": null,
      "padding": null,
      "right": null,
      "top": null,
      "visibility": null,
      "width": null
     }
    },
    "9d325ef20ff34a40878a11fc4b438168": {
     "model_module": "@jupyter-widgets/base",
     "model_module_version": "1.2.0",
     "model_name": "LayoutModel",
     "state": {
      "_model_module": "@jupyter-widgets/base",
      "_model_module_version": "1.2.0",
      "_model_name": "LayoutModel",
      "_view_count": null,
      "_view_module": "@jupyter-widgets/base",
      "_view_module_version": "1.2.0",
      "_view_name": "LayoutView",
      "align_content": null,
      "align_items": null,
      "align_self": null,
      "border": null,
      "bottom": null,
      "display": null,
      "flex": null,
      "flex_flow": null,
      "grid_area": null,
      "grid_auto_columns": null,
      "grid_auto_flow": null,
      "grid_auto_rows": null,
      "grid_column": null,
      "grid_gap": null,
      "grid_row": null,
      "grid_template_areas": null,
      "grid_template_columns": null,
      "grid_template_rows": null,
      "height": null,
      "justify_content": null,
      "justify_items": null,
      "left": null,
      "margin": null,
      "max_height": null,
      "max_width": null,
      "min_height": null,
      "min_width": null,
      "object_fit": null,
      "object_position": null,
      "order": null,
      "overflow": null,
      "overflow_x": null,
      "overflow_y": null,
      "padding": null,
      "right": null,
      "top": null,
      "visibility": null,
      "width": null
     }
    },
    "9ec1ac4185fa48a4887e1fa10e1b389c": {
     "model_module": "@jupyter-widgets/controls",
     "model_module_version": "1.5.0",
     "model_name": "DescriptionStyleModel",
     "state": {
      "_model_module": "@jupyter-widgets/controls",
      "_model_module_version": "1.5.0",
      "_model_name": "DescriptionStyleModel",
      "_view_count": null,
      "_view_module": "@jupyter-widgets/base",
      "_view_module_version": "1.2.0",
      "_view_name": "StyleView",
      "description_width": ""
     }
    },
    "aa7697e8fcd24fb8a023c870cef76ebc": {
     "model_module": "@jupyter-widgets/base",
     "model_module_version": "1.2.0",
     "model_name": "LayoutModel",
     "state": {
      "_model_module": "@jupyter-widgets/base",
      "_model_module_version": "1.2.0",
      "_model_name": "LayoutModel",
      "_view_count": null,
      "_view_module": "@jupyter-widgets/base",
      "_view_module_version": "1.2.0",
      "_view_name": "LayoutView",
      "align_content": null,
      "align_items": null,
      "align_self": null,
      "border": null,
      "bottom": null,
      "display": null,
      "flex": null,
      "flex_flow": null,
      "grid_area": null,
      "grid_auto_columns": null,
      "grid_auto_flow": null,
      "grid_auto_rows": null,
      "grid_column": null,
      "grid_gap": null,
      "grid_row": null,
      "grid_template_areas": null,
      "grid_template_columns": null,
      "grid_template_rows": null,
      "height": null,
      "justify_content": null,
      "justify_items": null,
      "left": null,
      "margin": null,
      "max_height": null,
      "max_width": null,
      "min_height": null,
      "min_width": null,
      "object_fit": null,
      "object_position": null,
      "order": null,
      "overflow": null,
      "overflow_x": null,
      "overflow_y": null,
      "padding": null,
      "right": null,
      "top": null,
      "visibility": null,
      "width": null
     }
    },
    "ad4786723ce54111aa339c7f2da3187c": {
     "model_module": "@jupyter-widgets/controls",
     "model_module_version": "1.5.0",
     "model_name": "HTMLModel",
     "state": {
      "_dom_classes": [],
      "_model_module": "@jupyter-widgets/controls",
      "_model_module_version": "1.5.0",
      "_model_name": "HTMLModel",
      "_view_count": null,
      "_view_module": "@jupyter-widgets/controls",
      "_view_module_version": "1.5.0",
      "_view_name": "HTMLView",
      "description": "",
      "description_tooltip": null,
      "layout": "IPY_MODEL_756640667f9e40cba5de84aef0aaf102",
      "placeholder": "​",
      "style": "IPY_MODEL_f9a62d59fa2d45788e218e897e4840e0",
      "value": " 440M/440M [00:06&lt;00:00, 43.5MB/s]"
     }
    },
    "af854c33529e40b68c7475be1e8248b0": {
     "model_module": "@jupyter-widgets/base",
     "model_module_version": "1.2.0",
     "model_name": "LayoutModel",
     "state": {
      "_model_module": "@jupyter-widgets/base",
      "_model_module_version": "1.2.0",
      "_model_name": "LayoutModel",
      "_view_count": null,
      "_view_module": "@jupyter-widgets/base",
      "_view_module_version": "1.2.0",
      "_view_name": "LayoutView",
      "align_content": null,
      "align_items": null,
      "align_self": null,
      "border": null,
      "bottom": null,
      "display": null,
      "flex": null,
      "flex_flow": null,
      "grid_area": null,
      "grid_auto_columns": null,
      "grid_auto_flow": null,
      "grid_auto_rows": null,
      "grid_column": null,
      "grid_gap": null,
      "grid_row": null,
      "grid_template_areas": null,
      "grid_template_columns": null,
      "grid_template_rows": null,
      "height": null,
      "justify_content": null,
      "justify_items": null,
      "left": null,
      "margin": null,
      "max_height": null,
      "max_width": null,
      "min_height": null,
      "min_width": null,
      "object_fit": null,
      "object_position": null,
      "order": null,
      "overflow": null,
      "overflow_x": null,
      "overflow_y": null,
      "padding": null,
      "right": null,
      "top": null,
      "visibility": null,
      "width": null
     }
    },
    "b0ba07d5ac294005891188ddd4051e79": {
     "model_module": "@jupyter-widgets/controls",
     "model_module_version": "1.5.0",
     "model_name": "HTMLModel",
     "state": {
      "_dom_classes": [],
      "_model_module": "@jupyter-widgets/controls",
      "_model_module_version": "1.5.0",
      "_model_name": "HTMLModel",
      "_view_count": null,
      "_view_module": "@jupyter-widgets/controls",
      "_view_module_version": "1.5.0",
      "_view_name": "HTMLView",
      "description": "",
      "description_tooltip": null,
      "layout": "IPY_MODEL_7fcf06e61af247e9a9c2c6eeb5c118b2",
      "placeholder": "​",
      "style": "IPY_MODEL_bfe40e9aa2594535afd11082855d978c",
      "value": " 48.0/48.0 [00:00&lt;00:00, 2.76kB/s]"
     }
    },
    "b6a0d831b0fa44c692df4823181061f4": {
     "model_module": "@jupyter-widgets/controls",
     "model_module_version": "1.5.0",
     "model_name": "FloatProgressModel",
     "state": {
      "_dom_classes": [],
      "_model_module": "@jupyter-widgets/controls",
      "_model_module_version": "1.5.0",
      "_model_name": "FloatProgressModel",
      "_view_count": null,
      "_view_module": "@jupyter-widgets/controls",
      "_view_module_version": "1.5.0",
      "_view_name": "ProgressView",
      "bar_style": "success",
      "description": "",
      "description_tooltip": null,
      "layout": "IPY_MODEL_0253caf320cc422aa18e2bb9324cb4f8",
      "max": 570,
      "min": 0,
      "orientation": "horizontal",
      "style": "IPY_MODEL_256e114d9b93400281fd3ae1b141af07",
      "value": 570
     }
    },
    "bfe40e9aa2594535afd11082855d978c": {
     "model_module": "@jupyter-widgets/controls",
     "model_module_version": "1.5.0",
     "model_name": "DescriptionStyleModel",
     "state": {
      "_model_module": "@jupyter-widgets/controls",
      "_model_module_version": "1.5.0",
      "_model_name": "DescriptionStyleModel",
      "_view_count": null,
      "_view_module": "@jupyter-widgets/base",
      "_view_module_version": "1.2.0",
      "_view_name": "StyleView",
      "description_width": ""
     }
    },
    "c7a0a8c9f16043d8a95143d1476f697d": {
     "model_module": "@jupyter-widgets/controls",
     "model_module_version": "1.5.0",
     "model_name": "DescriptionStyleModel",
     "state": {
      "_model_module": "@jupyter-widgets/controls",
      "_model_module_version": "1.5.0",
      "_model_name": "DescriptionStyleModel",
      "_view_count": null,
      "_view_module": "@jupyter-widgets/base",
      "_view_module_version": "1.2.0",
      "_view_name": "StyleView",
      "description_width": ""
     }
    },
    "ce25d520f217482894e45de25cffd54e": {
     "model_module": "@jupyter-widgets/controls",
     "model_module_version": "1.5.0",
     "model_name": "HTMLModel",
     "state": {
      "_dom_classes": [],
      "_model_module": "@jupyter-widgets/controls",
      "_model_module_version": "1.5.0",
      "_model_name": "HTMLModel",
      "_view_count": null,
      "_view_module": "@jupyter-widgets/controls",
      "_view_module_version": "1.5.0",
      "_view_name": "HTMLView",
      "description": "",
      "description_tooltip": null,
      "layout": "IPY_MODEL_44e2e67726dd478e9e56baeb43525574",
      "placeholder": "​",
      "style": "IPY_MODEL_65ecc424b7f940e7a6e5bcfcedc50e3b",
      "value": "tokenizer.json: 100%"
     }
    },
    "d2a77f12dc2f43b3813e67b034d5d096": {
     "model_module": "@jupyter-widgets/controls",
     "model_module_version": "1.5.0",
     "model_name": "ProgressStyleModel",
     "state": {
      "_model_module": "@jupyter-widgets/controls",
      "_model_module_version": "1.5.0",
      "_model_name": "ProgressStyleModel",
      "_view_count": null,
      "_view_module": "@jupyter-widgets/base",
      "_view_module_version": "1.2.0",
      "_view_name": "StyleView",
      "bar_color": null,
      "description_width": ""
     }
    },
    "d4ead761000942e19d6e5235d345d627": {
     "model_module": "@jupyter-widgets/controls",
     "model_module_version": "1.5.0",
     "model_name": "ProgressStyleModel",
     "state": {
      "_model_module": "@jupyter-widgets/controls",
      "_model_module_version": "1.5.0",
      "_model_name": "ProgressStyleModel",
      "_view_count": null,
      "_view_module": "@jupyter-widgets/base",
      "_view_module_version": "1.2.0",
      "_view_name": "StyleView",
      "bar_color": null,
      "description_width": ""
     }
    },
    "d503b031c79740fbaf6185c4ef8817b0": {
     "model_module": "@jupyter-widgets/controls",
     "model_module_version": "1.5.0",
     "model_name": "HBoxModel",
     "state": {
      "_dom_classes": [],
      "_model_module": "@jupyter-widgets/controls",
      "_model_module_version": "1.5.0",
      "_model_name": "HBoxModel",
      "_view_count": null,
      "_view_module": "@jupyter-widgets/controls",
      "_view_module_version": "1.5.0",
      "_view_name": "HBoxView",
      "box_style": "",
      "children": [
       "IPY_MODEL_ce25d520f217482894e45de25cffd54e",
       "IPY_MODEL_d8be3e7ecb574e4dad510d30ed7a31e4",
       "IPY_MODEL_fe86ba0f0b8e41b68eb919254a119622"
      ],
      "layout": "IPY_MODEL_1a08cb54a82e492189aa235bc7b195b9"
     }
    },
    "d8be3e7ecb574e4dad510d30ed7a31e4": {
     "model_module": "@jupyter-widgets/controls",
     "model_module_version": "1.5.0",
     "model_name": "FloatProgressModel",
     "state": {
      "_dom_classes": [],
      "_model_module": "@jupyter-widgets/controls",
      "_model_module_version": "1.5.0",
      "_model_name": "FloatProgressModel",
      "_view_count": null,
      "_view_module": "@jupyter-widgets/controls",
      "_view_module_version": "1.5.0",
      "_view_name": "ProgressView",
      "bar_style": "success",
      "description": "",
      "description_tooltip": null,
      "layout": "IPY_MODEL_9162ac2e276849478008d76813938232",
      "max": 466062,
      "min": 0,
      "orientation": "horizontal",
      "style": "IPY_MODEL_069aee2d5cdb4686941b4064ce3a44d6",
      "value": 466062
     }
    },
    "da3be03cc4e2439cbfd31e156bb9bdf9": {
     "model_module": "@jupyter-widgets/base",
     "model_module_version": "1.2.0",
     "model_name": "LayoutModel",
     "state": {
      "_model_module": "@jupyter-widgets/base",
      "_model_module_version": "1.2.0",
      "_model_name": "LayoutModel",
      "_view_count": null,
      "_view_module": "@jupyter-widgets/base",
      "_view_module_version": "1.2.0",
      "_view_name": "LayoutView",
      "align_content": null,
      "align_items": null,
      "align_self": null,
      "border": null,
      "bottom": null,
      "display": null,
      "flex": null,
      "flex_flow": null,
      "grid_area": null,
      "grid_auto_columns": null,
      "grid_auto_flow": null,
      "grid_auto_rows": null,
      "grid_column": null,
      "grid_gap": null,
      "grid_row": null,
      "grid_template_areas": null,
      "grid_template_columns": null,
      "grid_template_rows": null,
      "height": null,
      "justify_content": null,
      "justify_items": null,
      "left": null,
      "margin": null,
      "max_height": null,
      "max_width": null,
      "min_height": null,
      "min_width": null,
      "object_fit": null,
      "object_position": null,
      "order": null,
      "overflow": null,
      "overflow_x": null,
      "overflow_y": null,
      "padding": null,
      "right": null,
      "top": null,
      "visibility": null,
      "width": null
     }
    },
    "db157603e5d64711a76849cab7c76eb7": {
     "model_module": "@jupyter-widgets/base",
     "model_module_version": "1.2.0",
     "model_name": "LayoutModel",
     "state": {
      "_model_module": "@jupyter-widgets/base",
      "_model_module_version": "1.2.0",
      "_model_name": "LayoutModel",
      "_view_count": null,
      "_view_module": "@jupyter-widgets/base",
      "_view_module_version": "1.2.0",
      "_view_name": "LayoutView",
      "align_content": null,
      "align_items": null,
      "align_self": null,
      "border": null,
      "bottom": null,
      "display": null,
      "flex": null,
      "flex_flow": null,
      "grid_area": null,
      "grid_auto_columns": null,
      "grid_auto_flow": null,
      "grid_auto_rows": null,
      "grid_column": null,
      "grid_gap": null,
      "grid_row": null,
      "grid_template_areas": null,
      "grid_template_columns": null,
      "grid_template_rows": null,
      "height": null,
      "justify_content": null,
      "justify_items": null,
      "left": null,
      "margin": null,
      "max_height": null,
      "max_width": null,
      "min_height": null,
      "min_width": null,
      "object_fit": null,
      "object_position": null,
      "order": null,
      "overflow": null,
      "overflow_x": null,
      "overflow_y": null,
      "padding": null,
      "right": null,
      "top": null,
      "visibility": null,
      "width": null
     }
    },
    "de284f9ac13640db9809af228f89c933": {
     "model_module": "@jupyter-widgets/controls",
     "model_module_version": "1.5.0",
     "model_name": "HTMLModel",
     "state": {
      "_dom_classes": [],
      "_model_module": "@jupyter-widgets/controls",
      "_model_module_version": "1.5.0",
      "_model_name": "HTMLModel",
      "_view_count": null,
      "_view_module": "@jupyter-widgets/controls",
      "_view_module_version": "1.5.0",
      "_view_name": "HTMLView",
      "description": "",
      "description_tooltip": null,
      "layout": "IPY_MODEL_4e624f1ea1934cc782c598c78a404ff0",
      "placeholder": "​",
      "style": "IPY_MODEL_543700d6cfa84407919e0777ecbd5e3c",
      "value": "tokenizer_config.json: 100%"
     }
    },
    "e10a37eb712f4b3ab3d4c3f124c4e39f": {
     "model_module": "@jupyter-widgets/controls",
     "model_module_version": "1.5.0",
     "model_name": "FloatProgressModel",
     "state": {
      "_dom_classes": [],
      "_model_module": "@jupyter-widgets/controls",
      "_model_module_version": "1.5.0",
      "_model_name": "FloatProgressModel",
      "_view_count": null,
      "_view_module": "@jupyter-widgets/controls",
      "_view_module_version": "1.5.0",
      "_view_name": "ProgressView",
      "bar_style": "success",
      "description": "",
      "description_tooltip": null,
      "layout": "IPY_MODEL_561f99d80707419db5a4cfc09567fbb3",
      "max": 48,
      "min": 0,
      "orientation": "horizontal",
      "style": "IPY_MODEL_d4ead761000942e19d6e5235d345d627",
      "value": 48
     }
    },
    "f4eb1b3a34774b678f62ba7df82489d8": {
     "model_module": "@jupyter-widgets/controls",
     "model_module_version": "1.5.0",
     "model_name": "HBoxModel",
     "state": {
      "_dom_classes": [],
      "_model_module": "@jupyter-widgets/controls",
      "_model_module_version": "1.5.0",
      "_model_name": "HBoxModel",
      "_view_count": null,
      "_view_module": "@jupyter-widgets/controls",
      "_view_module_version": "1.5.0",
      "_view_name": "HBoxView",
      "box_style": "",
      "children": [
       "IPY_MODEL_0fc24149547242d5bccd856b207d0368",
       "IPY_MODEL_b6a0d831b0fa44c692df4823181061f4",
       "IPY_MODEL_5f60f316f1c54dd1861f5825d1db742d"
      ],
      "layout": "IPY_MODEL_994c4c4e69cc4a9b978852845bc36fd1"
     }
    },
    "f9a62d59fa2d45788e218e897e4840e0": {
     "model_module": "@jupyter-widgets/controls",
     "model_module_version": "1.5.0",
     "model_name": "DescriptionStyleModel",
     "state": {
      "_model_module": "@jupyter-widgets/controls",
      "_model_module_version": "1.5.0",
      "_model_name": "DescriptionStyleModel",
      "_view_count": null,
      "_view_module": "@jupyter-widgets/base",
      "_view_module_version": "1.2.0",
      "_view_name": "StyleView",
      "description_width": ""
     }
    },
    "fe86ba0f0b8e41b68eb919254a119622": {
     "model_module": "@jupyter-widgets/controls",
     "model_module_version": "1.5.0",
     "model_name": "HTMLModel",
     "state": {
      "_dom_classes": [],
      "_model_module": "@jupyter-widgets/controls",
      "_model_module_version": "1.5.0",
      "_model_name": "HTMLModel",
      "_view_count": null,
      "_view_module": "@jupyter-widgets/controls",
      "_view_module_version": "1.5.0",
      "_view_name": "HTMLView",
      "description": "",
      "description_tooltip": null,
      "layout": "IPY_MODEL_db157603e5d64711a76849cab7c76eb7",
      "placeholder": "​",
      "style": "IPY_MODEL_9ec1ac4185fa48a4887e1fa10e1b389c",
      "value": " 466k/466k [00:00&lt;00:00, 12.4MB/s]"
     }
    }
   }
  }
 },
 "nbformat": 4,
 "nbformat_minor": 5
}
